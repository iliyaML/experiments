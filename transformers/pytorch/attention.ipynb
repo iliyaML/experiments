{
  "nbformat": 4,
  "nbformat_minor": 0,
  "metadata": {
    "colab": {
      "provenance": []
    },
    "kernelspec": {
      "name": "python3",
      "display_name": "Python 3"
    },
    "language_info": {
      "name": "python"
    }
  },
  "cells": [
    {
      "cell_type": "markdown",
      "source": [
        "References:\n",
        "- https://sebastianraschka.com/blog/2023/self-attention-from-scratch.html"
      ],
      "metadata": {
        "id": "Cc347KRLS0P8"
      }
    },
    {
      "cell_type": "code",
      "source": [
        "import torch\n",
        "import torch.nn.functional as F\n",
        "\n",
        "SEED = 123"
      ],
      "metadata": {
        "id": "BMNLN5yTSz2W"
      },
      "execution_count": 1,
      "outputs": []
    },
    {
      "cell_type": "code",
      "source": [
        "print(f'Torch version: {torch.__version__}')"
      ],
      "metadata": {
        "colab": {
          "base_uri": "https://localhost:8080/"
        },
        "id": "T0x7sfC9SKet",
        "outputId": "43ab0d06-19fc-4d14-c074-6c3188a0c754"
      },
      "execution_count": 2,
      "outputs": [
        {
          "output_type": "stream",
          "name": "stdout",
          "text": [
            "Torch version: 2.0.0+cu118\n"
          ]
        }
      ]
    },
    {
      "cell_type": "markdown",
      "source": [
        "## Tokenization"
      ],
      "metadata": {
        "id": "hezuvXv2TnUh"
      }
    },
    {
      "cell_type": "code",
      "source": [
        "sentence = 'Life is short, eat dessert first'\n",
        "\n",
        "dc = {s:i for i,s in enumerate(sorted(sentence.replace(',', '').split()))}\n",
        "\n",
        "print(dc)"
      ],
      "metadata": {
        "colab": {
          "base_uri": "https://localhost:8080/"
        },
        "id": "jOBx3Sn1SPDi",
        "outputId": "58aea504-cdcb-4a9f-85b8-6d7cbb95726c"
      },
      "execution_count": 3,
      "outputs": [
        {
          "output_type": "stream",
          "name": "stdout",
          "text": [
            "{'Life': 0, 'dessert': 1, 'eat': 2, 'first': 3, 'is': 4, 'short': 5}\n"
          ]
        }
      ]
    },
    {
      "cell_type": "code",
      "source": [
        "sentence_int = torch.tensor([dc[s] for s in sentence.replace(',', '').split()])\n",
        "\n",
        "print(sentence_int)"
      ],
      "metadata": {
        "colab": {
          "base_uri": "https://localhost:8080/"
        },
        "id": "MwJo-TpVSPir",
        "outputId": "22f3e983-709b-4634-a7d8-66f36b6b9b01"
      },
      "execution_count": 4,
      "outputs": [
        {
          "output_type": "stream",
          "name": "stdout",
          "text": [
            "tensor([0, 4, 5, 2, 1, 3])\n"
          ]
        }
      ]
    },
    {
      "cell_type": "markdown",
      "source": [
        "## Embedding"
      ],
      "metadata": {
        "id": "kpsoevL2TpW9"
      }
    },
    {
      "cell_type": "code",
      "source": [
        "torch.manual_seed(SEED)\n",
        "\n",
        "embed = torch.nn.Embedding(6, 16)\n",
        "embedded_sentence = embed(sentence_int).detach()\n",
        "\n",
        "print(embedded_sentence)\n",
        "print(embedded_sentence.shape)"
      ],
      "metadata": {
        "colab": {
          "base_uri": "https://localhost:8080/"
        },
        "id": "6cRXNAKNSQ-v",
        "outputId": "350e8030-ed52-40c9-cd7d-b86391a63d02"
      },
      "execution_count": 5,
      "outputs": [
        {
          "output_type": "stream",
          "name": "stdout",
          "text": [
            "tensor([[ 0.3374, -0.1778, -0.3035, -0.5880,  0.3486,  0.6603, -0.2196, -0.3792,\n",
            "          0.7671, -1.1925,  0.6984, -1.4097,  0.1794,  1.8951,  0.4954,  0.2692],\n",
            "        [ 0.5146,  0.9938, -0.2587, -1.0826, -0.0444,  1.6236, -2.3229,  1.0878,\n",
            "          0.6716,  0.6933, -0.9487, -0.0765, -0.1526,  0.1167,  0.4403, -1.4465],\n",
            "        [ 0.2553, -0.5496,  1.0042,  0.8272, -0.3948,  0.4892, -0.2168, -1.7472,\n",
            "         -1.6025, -1.0764,  0.9031, -0.7218, -0.5951, -0.7112,  0.6230, -1.3729],\n",
            "        [-1.3250,  0.1784, -2.1338,  1.0524, -0.3885, -0.9343, -0.4991, -1.0867,\n",
            "          0.8805,  1.5542,  0.6266, -0.1755,  0.0983, -0.0935,  0.2662, -0.5850],\n",
            "        [-0.0770, -1.0205, -0.1690,  0.9178,  1.5810,  1.3010,  1.2753, -0.2010,\n",
            "          0.4965, -1.5723,  0.9666, -1.1481, -1.1589,  0.3255, -0.6315, -2.8400],\n",
            "        [ 0.8768,  1.6221, -1.4779,  1.1331, -1.2203,  1.3139,  1.0533,  0.1388,\n",
            "          2.2473, -0.8036, -0.2808,  0.7697, -0.6596, -0.7979,  0.1838,  0.2293]])\n",
            "torch.Size([6, 16])\n"
          ]
        }
      ]
    },
    {
      "cell_type": "markdown",
      "source": [
        "## Weight Matrices"
      ],
      "metadata": {
        "id": "A_Z70f-sVF7z"
      }
    },
    {
      "cell_type": "code",
      "source": [
        "torch.manual_seed(SEED)\n",
        "\n",
        "d = embedded_sentence.shape[1]\n",
        "\n",
        "d_q, d_k, d_v = 24, 24, 28\n",
        "\n",
        "W_query = torch.rand(d_q, d)\n",
        "W_key = torch.rand(d_k, d)\n",
        "W_value = torch.rand(d_v, d)\n",
        "\n",
        "print(W_query.shape)\n",
        "print(W_key.shape)\n",
        "print(W_value.shape)"
      ],
      "metadata": {
        "colab": {
          "base_uri": "https://localhost:8080/"
        },
        "id": "dVRfm-qgSSnG",
        "outputId": "4c65e4ae-0a32-4a9b-ce79-67f69ebf7f63"
      },
      "execution_count": 6,
      "outputs": [
        {
          "output_type": "stream",
          "name": "stdout",
          "text": [
            "torch.Size([24, 16])\n",
            "torch.Size([24, 16])\n",
            "torch.Size([28, 16])\n"
          ]
        }
      ]
    },
    {
      "cell_type": "markdown",
      "source": [
        "## Unnormalized Attention Weights"
      ],
      "metadata": {
        "id": "HjsS9WKKVnsx"
      }
    },
    {
      "cell_type": "code",
      "source": [
        "x_2 = embedded_sentence[1]\n",
        "\n",
        "query_2 = W_query.matmul(x_2)\n",
        "key_2 = W_key.matmul(x_2)\n",
        "value_2 = W_value.matmul(x_2)\n",
        "\n",
        "print(query_2.shape)\n",
        "print(key_2.shape)\n",
        "print(value_2.shape)"
      ],
      "metadata": {
        "colab": {
          "base_uri": "https://localhost:8080/"
        },
        "id": "-8eDsfcsSUjh",
        "outputId": "a0364cd7-7409-402b-ae5c-2559c52ca2d7"
      },
      "execution_count": 7,
      "outputs": [
        {
          "output_type": "stream",
          "name": "stdout",
          "text": [
            "torch.Size([24])\n",
            "torch.Size([24])\n",
            "torch.Size([28])\n"
          ]
        }
      ]
    },
    {
      "cell_type": "code",
      "source": [
        "keys = W_key.matmul(embedded_sentence.T).T\n",
        "values = W_value.matmul(embedded_sentence.T).T\n",
        "\n",
        "print(\"keys.shape:\", keys.shape)\n",
        "print(\"values.shape:\", values.shape)"
      ],
      "metadata": {
        "colab": {
          "base_uri": "https://localhost:8080/"
        },
        "id": "5iH22TvxSWDp",
        "outputId": "bda9ab31-8192-4093-ffe5-5680bf7bf276"
      },
      "execution_count": 8,
      "outputs": [
        {
          "output_type": "stream",
          "name": "stdout",
          "text": [
            "keys.shape: torch.Size([6, 24])\n",
            "values.shape: torch.Size([6, 28])\n"
          ]
        }
      ]
    },
    {
      "cell_type": "code",
      "source": [
        "omega_24 = query_2.dot(keys[4])\n",
        "\n",
        "print(omega_24)"
      ],
      "metadata": {
        "colab": {
          "base_uri": "https://localhost:8080/"
        },
        "id": "aDR0NWMdSXpo",
        "outputId": "e203785b-68ff-44df-d095-500045b10bd1"
      },
      "execution_count": 9,
      "outputs": [
        {
          "output_type": "stream",
          "name": "stdout",
          "text": [
            "tensor(11.1466)\n"
          ]
        }
      ]
    },
    {
      "cell_type": "code",
      "source": [
        "omega_2 = query_2.matmul(keys.T)\n",
        "\n",
        "print(omega_2)"
      ],
      "metadata": {
        "colab": {
          "base_uri": "https://localhost:8080/"
        },
        "id": "BoIc64beSZwQ",
        "outputId": "1a38f59f-0b1c-44a5-f563-694c943724a0"
      },
      "execution_count": 10,
      "outputs": [
        {
          "output_type": "stream",
          "name": "stdout",
          "text": [
            "tensor([ 8.5808, -7.6597,  3.2558,  1.0395, 11.1466, -0.4800])\n"
          ]
        }
      ]
    },
    {
      "cell_type": "markdown",
      "source": [
        "## Attention Scores"
      ],
      "metadata": {
        "id": "cmsgEfFBVg-y"
      }
    },
    {
      "cell_type": "code",
      "source": [
        "attention_weights_2 = F.softmax(omega_2 / d_k**0.5, dim=0)\n",
        "\n",
        "print(attention_weights_2)"
      ],
      "metadata": {
        "colab": {
          "base_uri": "https://localhost:8080/"
        },
        "id": "kXGPIhimSbcs",
        "outputId": "f867a4bc-a564-433c-b45e-67a7f3cc926c"
      },
      "execution_count": 11,
      "outputs": [
        {
          "output_type": "stream",
          "name": "stdout",
          "text": [
            "tensor([0.2912, 0.0106, 0.0982, 0.0625, 0.4917, 0.0458])\n"
          ]
        }
      ]
    },
    {
      "cell_type": "code",
      "source": [
        "context_vector_2 = attention_weights_2.matmul(values)\n",
        "\n",
        "print(context_vector_2.shape)\n",
        "print(context_vector_2)"
      ],
      "metadata": {
        "colab": {
          "base_uri": "https://localhost:8080/"
        },
        "id": "DT3N_VZGSftt",
        "outputId": "0314bd33-f0ab-48a3-d0dc-f0b84460d2ef"
      },
      "execution_count": 12,
      "outputs": [
        {
          "output_type": "stream",
          "name": "stdout",
          "text": [
            "torch.Size([28])\n",
            "tensor([-1.5993,  0.0156,  1.2670,  0.0032, -0.6460, -1.1407, -0.4908, -1.4632,\n",
            "         0.4747,  1.1926,  0.4506, -0.7110,  0.0602,  0.7125, -0.1628, -2.0184,\n",
            "         0.3838, -2.1188, -0.8136, -1.5694,  0.7934, -0.2911, -1.3640, -0.2366,\n",
            "        -0.9564, -0.5265,  0.0624,  1.7084])\n"
          ]
        }
      ]
    },
    {
      "cell_type": "markdown",
      "source": [
        "## Multi-Head Attention"
      ],
      "metadata": {
        "id": "8o9HmebpVbt7"
      }
    },
    {
      "cell_type": "code",
      "source": [
        "h = 3\n",
        "\n",
        "multihead_W_query = torch.rand(h, d_q, d)\n",
        "multihead_W_key = torch.rand(h, d_k, d)\n",
        "multihead_W_value = torch.rand(h, d_v, d)\n",
        "\n",
        "print(multihead_W_query.shape)\n",
        "print(multihead_W_key.shape)\n",
        "print(multihead_W_value.shape)"
      ],
      "metadata": {
        "colab": {
          "base_uri": "https://localhost:8080/"
        },
        "id": "3BOEy9WXSg0p",
        "outputId": "35731314-a601-40d2-fe03-0351907b3f21"
      },
      "execution_count": 13,
      "outputs": [
        {
          "output_type": "stream",
          "name": "stdout",
          "text": [
            "torch.Size([3, 24, 16])\n",
            "torch.Size([3, 24, 16])\n",
            "torch.Size([3, 28, 16])\n"
          ]
        }
      ]
    },
    {
      "cell_type": "code",
      "source": [
        "multihead_query_2 = multihead_W_query.matmul(x_2)\n",
        "\n",
        "print(multihead_query_2.shape)"
      ],
      "metadata": {
        "colab": {
          "base_uri": "https://localhost:8080/"
        },
        "id": "OwUU0VrdSkkd",
        "outputId": "38b8e1de-71c2-4d7b-b986-8716bfc1c998"
      },
      "execution_count": 14,
      "outputs": [
        {
          "output_type": "stream",
          "name": "stdout",
          "text": [
            "torch.Size([3, 24])\n"
          ]
        }
      ]
    },
    {
      "cell_type": "code",
      "source": [
        "multihead_key_2 = multihead_W_key.matmul(x_2)\n",
        "multihead_value_2 = multihead_W_value.matmul(x_2)\n",
        "\n",
        "print(multihead_key_2.shape)\n",
        "print(multihead_value_2)"
      ],
      "metadata": {
        "colab": {
          "base_uri": "https://localhost:8080/"
        },
        "id": "dVZxKuxISl2S",
        "outputId": "d40895e4-f498-4658-b58e-6dfb7ee03486"
      },
      "execution_count": 15,
      "outputs": [
        {
          "output_type": "stream",
          "name": "stdout",
          "text": [
            "torch.Size([3, 24])\n",
            "tensor([[ 2.0200, -0.3543, -1.4613,  1.0282,  1.8489, -1.1140, -0.7377, -0.5781,\n",
            "         -0.0270, -0.6196, -0.2344,  1.4192,  0.8229,  1.3843,  1.0875, -1.0795,\n",
            "          0.2947, -0.8536,  0.0056,  0.6356,  1.0173,  1.5647, -0.3467, -0.6185,\n",
            "          0.0499,  0.6920, -0.4069,  0.3911],\n",
            "        [-0.3244,  0.5168,  0.6416, -1.0971,  0.6200,  0.2160, -0.3007, -2.9105,\n",
            "          1.7110, -1.2809, -0.3726, -0.4553,  0.6420, -1.4967,  0.8374, -1.8353,\n",
            "         -1.0447,  1.1603, -1.4857, -0.2433, -1.5326, -1.1874, -0.7193, -0.3500,\n",
            "          1.5900, -0.1797,  1.4419,  0.9324],\n",
            "        [-0.8079,  0.6784,  0.7893, -1.2266,  0.9952, -0.6797, -0.5228, -1.7463,\n",
            "         -1.9511,  1.7756, -1.5137, -0.2027, -1.0842, -0.5555, -0.6001, -1.4474,\n",
            "          0.0607, -0.0494,  1.2976, -0.5763, -0.6268,  0.7105,  0.9865,  1.1403,\n",
            "         -0.4758,  0.5601, -0.2899,  0.2290]])\n"
          ]
        }
      ]
    },
    {
      "cell_type": "code",
      "source": [
        "stacked_inputs = embedded_sentence.T.repeat(3, 1, 1)\n",
        "\n",
        "print(stacked_inputs.shape)"
      ],
      "metadata": {
        "colab": {
          "base_uri": "https://localhost:8080/"
        },
        "id": "RD36ilMlSnWh",
        "outputId": "b77a11e7-d868-4a2a-9f5a-197a9766bb6f"
      },
      "execution_count": 16,
      "outputs": [
        {
          "output_type": "stream",
          "name": "stdout",
          "text": [
            "torch.Size([3, 16, 6])\n"
          ]
        }
      ]
    },
    {
      "cell_type": "code",
      "source": [
        "multihead_keys = torch.bmm(multihead_W_key, stacked_inputs)\n",
        "multihead_values = torch.bmm(multihead_W_value, stacked_inputs)\n",
        "\n",
        "print(\"multihead_keys.shape:\", multihead_keys.shape)\n",
        "print(\"multihead_values.shape:\", multihead_values.shape)"
      ],
      "metadata": {
        "colab": {
          "base_uri": "https://localhost:8080/"
        },
        "id": "zLOcAq7ASolr",
        "outputId": "6b22e4e4-341f-439e-ded9-f89d6ed5f816"
      },
      "execution_count": 17,
      "outputs": [
        {
          "output_type": "stream",
          "name": "stdout",
          "text": [
            "multihead_keys.shape: torch.Size([3, 24, 6])\n",
            "multihead_values.shape: torch.Size([3, 28, 6])\n"
          ]
        }
      ]
    },
    {
      "cell_type": "code",
      "source": [
        "multihead_keys = multihead_keys.permute(0, 2, 1)\n",
        "multihead_values = multihead_values.permute(0, 2, 1)\n",
        "\n",
        "print(\"multihead_keys.shape:\", multihead_keys.shape)\n",
        "print(\"multihead_values.shape:\", multihead_values.shape)"
      ],
      "metadata": {
        "colab": {
          "base_uri": "https://localhost:8080/"
        },
        "id": "2qOUBF0pSqLG",
        "outputId": "66e5f502-8d91-4704-ad65-e87425e68273"
      },
      "execution_count": 18,
      "outputs": [
        {
          "output_type": "stream",
          "name": "stdout",
          "text": [
            "multihead_keys.shape: torch.Size([3, 6, 24])\n",
            "multihead_values.shape: torch.Size([3, 6, 28])\n"
          ]
        }
      ]
    },
    {
      "cell_type": "markdown",
      "source": [
        "## Cross-Attention"
      ],
      "metadata": {
        "id": "Ce89IVGcVTaU"
      }
    },
    {
      "cell_type": "code",
      "source": [
        "torch.manual_seed(SEED)\n",
        "\n",
        "d = embedded_sentence.shape[1]\n",
        "\n",
        "print(\"embedded_sentence.shape:\", embedded_sentence.shape)\n",
        "\n",
        "d_q, d_k, d_v = 24, 24, 28\n",
        "\n",
        "W_query = torch.rand(d_q, d)\n",
        "W_key = torch.rand(d_k, d)\n",
        "W_value = torch.rand(d_v, d)\n",
        "\n",
        "x_2 = embedded_sentence[1]\n",
        "query_2 = W_query.matmul(x_2)\n",
        "\n",
        "print(\"query.shape\", query_2.shape)\n",
        "\n",
        "keys = W_key.matmul(embedded_sentence.T).T\n",
        "values = W_value.matmul(embedded_sentence.T).T\n",
        "\n",
        "print(\"keys.shape:\", keys.shape)\n",
        "print(\"values.shape:\", values.shape)"
      ],
      "metadata": {
        "colab": {
          "base_uri": "https://localhost:8080/"
        },
        "id": "VTDa9xdvSrru",
        "outputId": "f3841871-eb3a-41f5-9070-24417f974bdc"
      },
      "execution_count": 19,
      "outputs": [
        {
          "output_type": "stream",
          "name": "stdout",
          "text": [
            "embedded_sentence.shape: torch.Size([6, 16])\n",
            "query.shape torch.Size([24])\n",
            "keys.shape: torch.Size([6, 24])\n",
            "values.shape: torch.Size([6, 28])\n"
          ]
        }
      ]
    },
    {
      "cell_type": "code",
      "source": [
        "embedded_sentence_2 = torch.rand(8, 16) # 2nd input sequence\n",
        "\n",
        "keys = W_key.matmul(embedded_sentence_2.T).T\n",
        "values = W_value.matmul(embedded_sentence_2.T).T\n",
        "\n",
        "print(\"keys.shape:\", keys.shape)\n",
        "print(\"values.shape:\", values.shape)"
      ],
      "metadata": {
        "colab": {
          "base_uri": "https://localhost:8080/"
        },
        "id": "GKeUMS5lSt0M",
        "outputId": "d38115d3-fba8-4490-de63-0692914f8900"
      },
      "execution_count": 20,
      "outputs": [
        {
          "output_type": "stream",
          "name": "stdout",
          "text": [
            "keys.shape: torch.Size([8, 24])\n",
            "values.shape: torch.Size([8, 28])\n"
          ]
        }
      ]
    },
    {
      "cell_type": "markdown",
      "source": [
        "## Dependencies"
      ],
      "metadata": {
        "id": "EX1-YZ_ZgekX"
      }
    },
    {
      "cell_type": "code",
      "source": [
        "!pip install session-info"
      ],
      "metadata": {
        "colab": {
          "base_uri": "https://localhost:8080/"
        },
        "id": "djPI3ZDuSwh7",
        "outputId": "350a1d2a-b0aa-4b8a-8531-8bd4e1339332"
      },
      "execution_count": 21,
      "outputs": [
        {
          "output_type": "stream",
          "name": "stdout",
          "text": [
            "Looking in indexes: https://pypi.org/simple, https://us-python.pkg.dev/colab-wheels/public/simple/\n",
            "Requirement already satisfied: session-info in /usr/local/lib/python3.9/dist-packages (1.0.0)\n",
            "Requirement already satisfied: stdlib-list in /usr/local/lib/python3.9/dist-packages (from session-info) (0.8.0)\n"
          ]
        }
      ]
    },
    {
      "cell_type": "code",
      "source": [
        "import session_info\n",
        "\n",
        "session_info.show()"
      ],
      "metadata": {
        "colab": {
          "base_uri": "https://localhost:8080/",
          "height": 34
        },
        "id": "e04ghif2S64D",
        "outputId": "3928f05c-fe18-4f4b-dc22-aa098e902057"
      },
      "execution_count": 22,
      "outputs": [
        {
          "output_type": "execute_result",
          "data": {
            "text/plain": [
              "<IPython.core.display.HTML object>"
            ],
            "text/html": [
              "<details>\n",
              "<summary>Click to view session information</summary>\n",
              "<pre>\n",
              "-----\n",
              "session_info        1.0.0\n",
              "torch               2.0.0+cu118\n",
              "-----\n",
              "</pre>\n",
              "<details>\n",
              "<summary>Click to view modules imported as dependencies</summary>\n",
              "<pre>\n",
              "PIL                 8.4.0\n",
              "astunparse          1.6.3\n",
              "backcall            0.2.0\n",
              "certifi             2022.12.07\n",
              "cffi                1.15.1\n",
              "cycler              0.10.0\n",
              "cython_runtime      NA\n",
              "dateutil            2.8.2\n",
              "debugpy             1.6.6\n",
              "decorator           4.4.2\n",
              "defusedxml          0.7.1\n",
              "dot_parser          NA\n",
              "google              NA\n",
              "httplib2            0.21.0\n",
              "importlib_resources NA\n",
              "ipykernel           5.5.6\n",
              "ipython_genutils    0.2.0\n",
              "kiwisolver          1.4.4\n",
              "matplotlib          3.7.1\n",
              "matplotlib_inline   0.1.6\n",
              "mpl_toolkits        NA\n",
              "mpmath              1.3.0\n",
              "numpy               1.22.4\n",
              "nvfuser             NA\n",
              "opt_einsum          v3.3.0\n",
              "packaging           23.0\n",
              "pexpect             4.8.0\n",
              "pickleshare         0.7.5\n",
              "pkg_resources       NA\n",
              "platformdirs        3.2.0\n",
              "portpicker          NA\n",
              "prompt_toolkit      3.0.38\n",
              "psutil              5.9.4\n",
              "ptyprocess          0.7.0\n",
              "pydev_ipython       NA\n",
              "pydevconsole        NA\n",
              "pydevd              2.9.5\n",
              "pydevd_file_utils   NA\n",
              "pydevd_plugins      NA\n",
              "pydevd_tracing      NA\n",
              "pydot               1.4.2\n",
              "pygments            2.14.0\n",
              "pyparsing           3.0.9\n",
              "sitecustomize       NA\n",
              "six                 1.16.0\n",
              "socks               1.7.1\n",
              "sphinxcontrib       NA\n",
              "storemagic          NA\n",
              "sympy               1.11.1\n",
              "tornado             6.2\n",
              "tqdm                4.65.0\n",
              "traitlets           5.7.1\n",
              "typing_extensions   NA\n",
              "wcwidth             0.2.6\n",
              "zipp                NA\n",
              "zmq                 23.2.1\n",
              "</pre>\n",
              "</details> <!-- seems like this ends pre, so might as well be explicit -->\n",
              "<pre>\n",
              "-----\n",
              "IPython             7.34.0\n",
              "jupyter_client      6.1.12\n",
              "jupyter_core        5.3.0\n",
              "notebook            6.4.8\n",
              "-----\n",
              "Python 3.9.16 (main, Dec  7 2022, 01:11:51) [GCC 9.4.0]\n",
              "Linux-5.10.147+-x86_64-with-glibc2.31\n",
              "-----\n",
              "Session information updated at 2023-04-09 14:34\n",
              "</pre>\n",
              "</details>"
            ]
          },
          "metadata": {},
          "execution_count": 22
        }
      ]
    }
  ]
}