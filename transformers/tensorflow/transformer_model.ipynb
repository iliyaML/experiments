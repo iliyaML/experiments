{
  "nbformat": 4,
  "nbformat_minor": 0,
  "metadata": {
    "colab": {
      "provenance": [],
      "toc_visible": true
    },
    "kernelspec": {
      "name": "python3",
      "display_name": "Python 3"
    },
    "language_info": {
      "name": "python"
    },
    "accelerator": "GPU",
    "gpuClass": "standard"
  },
  "cells": [
    {
      "cell_type": "markdown",
      "source": [
        "References\n",
        "- https://machinelearningmastery.com/the-transformer-model/\n",
        "- https://machinelearningmastery.com/implementing-the-transformer-encoder-from-scratch-in-tensorflow-and-keras"
      ],
      "metadata": {
        "id": "FO2noioZ61XO"
      }
    },
    {
      "cell_type": "code",
      "source": [
        "!pip install tensorflow==2.10.0"
      ],
      "metadata": {
        "id": "SFo1d7fsKU1H",
        "colab": {
          "base_uri": "https://localhost:8080/",
          "height": 1000
        },
        "outputId": "6b3a8e10-9627-466e-b395-75115aea6abd"
      },
      "execution_count": 1,
      "outputs": [
        {
          "output_type": "stream",
          "name": "stdout",
          "text": [
            "Looking in indexes: https://pypi.org/simple, https://us-python.pkg.dev/colab-wheels/public/simple/\n",
            "Collecting tensorflow==2.10.0\n",
            "  Downloading tensorflow-2.10.0-cp39-cp39-manylinux_2_17_x86_64.manylinux2014_x86_64.whl (578.1 MB)\n",
            "\u001b[2K     \u001b[90m━━━━━━━━━━━━━━━━━━━━━━━━━━━━━━━━━━━━━━━\u001b[0m \u001b[32m578.1/578.1 MB\u001b[0m \u001b[31m2.9 MB/s\u001b[0m eta \u001b[36m0:00:00\u001b[0m\n",
            "\u001b[?25hRequirement already satisfied: h5py>=2.9.0 in /usr/local/lib/python3.9/dist-packages (from tensorflow==2.10.0) (3.8.0)\n",
            "Requirement already satisfied: termcolor>=1.1.0 in /usr/local/lib/python3.9/dist-packages (from tensorflow==2.10.0) (2.2.0)\n",
            "Collecting keras<2.11,>=2.10.0\n",
            "  Downloading keras-2.10.0-py2.py3-none-any.whl (1.7 MB)\n",
            "\u001b[2K     \u001b[90m━━━━━━━━━━━━━━━━━━━━━━━━━━━━━━━━━━━━━━━━\u001b[0m \u001b[32m1.7/1.7 MB\u001b[0m \u001b[31m89.1 MB/s\u001b[0m eta \u001b[36m0:00:00\u001b[0m\n",
            "\u001b[?25hRequirement already satisfied: grpcio<2.0,>=1.24.3 in /usr/local/lib/python3.9/dist-packages (from tensorflow==2.10.0) (1.53.0)\n",
            "Collecting keras-preprocessing>=1.1.1\n",
            "  Downloading Keras_Preprocessing-1.1.2-py2.py3-none-any.whl (42 kB)\n",
            "\u001b[2K     \u001b[90m━━━━━━━━━━━━━━━━━━━━━━━━━━━━━━━━━━━━━━━━\u001b[0m \u001b[32m42.6/42.6 KB\u001b[0m \u001b[31m5.8 MB/s\u001b[0m eta \u001b[36m0:00:00\u001b[0m\n",
            "\u001b[?25hRequirement already satisfied: flatbuffers>=2.0 in /usr/local/lib/python3.9/dist-packages (from tensorflow==2.10.0) (23.3.3)\n",
            "Collecting protobuf<3.20,>=3.9.2\n",
            "  Downloading protobuf-3.19.6-cp39-cp39-manylinux_2_17_x86_64.manylinux2014_x86_64.whl (1.1 MB)\n",
            "\u001b[2K     \u001b[90m━━━━━━━━━━━━━━━━━━━━━━━━━━━━━━━━━━━━━━━━\u001b[0m \u001b[32m1.1/1.1 MB\u001b[0m \u001b[31m76.7 MB/s\u001b[0m eta \u001b[36m0:00:00\u001b[0m\n",
            "\u001b[?25hRequirement already satisfied: wrapt>=1.11.0 in /usr/local/lib/python3.9/dist-packages (from tensorflow==2.10.0) (1.14.1)\n",
            "Requirement already satisfied: six>=1.12.0 in /usr/local/lib/python3.9/dist-packages (from tensorflow==2.10.0) (1.16.0)\n",
            "Collecting tensorboard<2.11,>=2.10\n",
            "  Downloading tensorboard-2.10.1-py3-none-any.whl (5.9 MB)\n",
            "\u001b[2K     \u001b[90m━━━━━━━━━━━━━━━━━━━━━━━━━━━━━━━━━━━━━━━━\u001b[0m \u001b[32m5.9/5.9 MB\u001b[0m \u001b[31m107.0 MB/s\u001b[0m eta \u001b[36m0:00:00\u001b[0m\n",
            "\u001b[?25hRequirement already satisfied: setuptools in /usr/local/lib/python3.9/dist-packages (from tensorflow==2.10.0) (67.6.1)\n",
            "Requirement already satisfied: gast<=0.4.0,>=0.2.1 in /usr/local/lib/python3.9/dist-packages (from tensorflow==2.10.0) (0.4.0)\n",
            "Requirement already satisfied: tensorflow-io-gcs-filesystem>=0.23.1 in /usr/local/lib/python3.9/dist-packages (from tensorflow==2.10.0) (0.32.0)\n",
            "Requirement already satisfied: astunparse>=1.6.0 in /usr/local/lib/python3.9/dist-packages (from tensorflow==2.10.0) (1.6.3)\n",
            "Collecting tensorflow-estimator<2.11,>=2.10.0\n",
            "  Downloading tensorflow_estimator-2.10.0-py2.py3-none-any.whl (438 kB)\n",
            "\u001b[2K     \u001b[90m━━━━━━━━━━━━━━━━━━━━━━━━━━━━━━━━━━━━━━\u001b[0m \u001b[32m438.7/438.7 KB\u001b[0m \u001b[31m32.9 MB/s\u001b[0m eta \u001b[36m0:00:00\u001b[0m\n",
            "\u001b[?25hRequirement already satisfied: typing-extensions>=3.6.6 in /usr/local/lib/python3.9/dist-packages (from tensorflow==2.10.0) (4.5.0)\n",
            "Requirement already satisfied: absl-py>=1.0.0 in /usr/local/lib/python3.9/dist-packages (from tensorflow==2.10.0) (1.4.0)\n",
            "Requirement already satisfied: opt-einsum>=2.3.2 in /usr/local/lib/python3.9/dist-packages (from tensorflow==2.10.0) (3.3.0)\n",
            "Requirement already satisfied: libclang>=13.0.0 in /usr/local/lib/python3.9/dist-packages (from tensorflow==2.10.0) (16.0.0)\n",
            "Requirement already satisfied: packaging in /usr/local/lib/python3.9/dist-packages (from tensorflow==2.10.0) (23.0)\n",
            "Requirement already satisfied: numpy>=1.20 in /usr/local/lib/python3.9/dist-packages (from tensorflow==2.10.0) (1.22.4)\n",
            "Requirement already satisfied: google-pasta>=0.1.1 in /usr/local/lib/python3.9/dist-packages (from tensorflow==2.10.0) (0.2.0)\n",
            "Requirement already satisfied: wheel<1.0,>=0.23.0 in /usr/local/lib/python3.9/dist-packages (from astunparse>=1.6.0->tensorflow==2.10.0) (0.40.0)\n",
            "Requirement already satisfied: requests<3,>=2.21.0 in /usr/local/lib/python3.9/dist-packages (from tensorboard<2.11,>=2.10->tensorflow==2.10.0) (2.27.1)\n",
            "Requirement already satisfied: tensorboard-plugin-wit>=1.6.0 in /usr/local/lib/python3.9/dist-packages (from tensorboard<2.11,>=2.10->tensorflow==2.10.0) (1.8.1)\n",
            "Collecting google-auth-oauthlib<0.5,>=0.4.1\n",
            "  Downloading google_auth_oauthlib-0.4.6-py2.py3-none-any.whl (18 kB)\n",
            "Requirement already satisfied: werkzeug>=1.0.1 in /usr/local/lib/python3.9/dist-packages (from tensorboard<2.11,>=2.10->tensorflow==2.10.0) (2.2.3)\n",
            "Requirement already satisfied: markdown>=2.6.8 in /usr/local/lib/python3.9/dist-packages (from tensorboard<2.11,>=2.10->tensorflow==2.10.0) (3.4.3)\n",
            "Requirement already satisfied: google-auth<3,>=1.6.3 in /usr/local/lib/python3.9/dist-packages (from tensorboard<2.11,>=2.10->tensorflow==2.10.0) (2.17.1)\n",
            "Collecting tensorboard-data-server<0.7.0,>=0.6.0\n",
            "  Downloading tensorboard_data_server-0.6.1-py3-none-manylinux2010_x86_64.whl (4.9 MB)\n",
            "\u001b[2K     \u001b[90m━━━━━━━━━━━━━━━━━━━━━━━━━━━━━━━━━━━━━━━━\u001b[0m \u001b[32m4.9/4.9 MB\u001b[0m \u001b[31m72.2 MB/s\u001b[0m eta \u001b[36m0:00:00\u001b[0m\n",
            "\u001b[?25hRequirement already satisfied: pyasn1-modules>=0.2.1 in /usr/local/lib/python3.9/dist-packages (from google-auth<3,>=1.6.3->tensorboard<2.11,>=2.10->tensorflow==2.10.0) (0.2.8)\n",
            "Requirement already satisfied: rsa<5,>=3.1.4 in /usr/local/lib/python3.9/dist-packages (from google-auth<3,>=1.6.3->tensorboard<2.11,>=2.10->tensorflow==2.10.0) (4.9)\n",
            "Requirement already satisfied: cachetools<6.0,>=2.0.0 in /usr/local/lib/python3.9/dist-packages (from google-auth<3,>=1.6.3->tensorboard<2.11,>=2.10->tensorflow==2.10.0) (5.3.0)\n",
            "Requirement already satisfied: requests-oauthlib>=0.7.0 in /usr/local/lib/python3.9/dist-packages (from google-auth-oauthlib<0.5,>=0.4.1->tensorboard<2.11,>=2.10->tensorflow==2.10.0) (1.3.1)\n",
            "Requirement already satisfied: importlib-metadata>=4.4 in /usr/local/lib/python3.9/dist-packages (from markdown>=2.6.8->tensorboard<2.11,>=2.10->tensorflow==2.10.0) (6.1.0)\n",
            "Requirement already satisfied: certifi>=2017.4.17 in /usr/local/lib/python3.9/dist-packages (from requests<3,>=2.21.0->tensorboard<2.11,>=2.10->tensorflow==2.10.0) (2022.12.7)\n",
            "Requirement already satisfied: idna<4,>=2.5 in /usr/local/lib/python3.9/dist-packages (from requests<3,>=2.21.0->tensorboard<2.11,>=2.10->tensorflow==2.10.0) (3.4)\n",
            "Requirement already satisfied: charset-normalizer~=2.0.0 in /usr/local/lib/python3.9/dist-packages (from requests<3,>=2.21.0->tensorboard<2.11,>=2.10->tensorflow==2.10.0) (2.0.12)\n",
            "Requirement already satisfied: urllib3<1.27,>=1.21.1 in /usr/local/lib/python3.9/dist-packages (from requests<3,>=2.21.0->tensorboard<2.11,>=2.10->tensorflow==2.10.0) (1.26.15)\n",
            "Requirement already satisfied: MarkupSafe>=2.1.1 in /usr/local/lib/python3.9/dist-packages (from werkzeug>=1.0.1->tensorboard<2.11,>=2.10->tensorflow==2.10.0) (2.1.2)\n",
            "Requirement already satisfied: zipp>=0.5 in /usr/local/lib/python3.9/dist-packages (from importlib-metadata>=4.4->markdown>=2.6.8->tensorboard<2.11,>=2.10->tensorflow==2.10.0) (3.15.0)\n",
            "Requirement already satisfied: pyasn1<0.5.0,>=0.4.6 in /usr/local/lib/python3.9/dist-packages (from pyasn1-modules>=0.2.1->google-auth<3,>=1.6.3->tensorboard<2.11,>=2.10->tensorflow==2.10.0) (0.4.8)\n",
            "Requirement already satisfied: oauthlib>=3.0.0 in /usr/local/lib/python3.9/dist-packages (from requests-oauthlib>=0.7.0->google-auth-oauthlib<0.5,>=0.4.1->tensorboard<2.11,>=2.10->tensorflow==2.10.0) (3.2.2)\n",
            "Installing collected packages: keras, tensorflow-estimator, tensorboard-data-server, protobuf, keras-preprocessing, google-auth-oauthlib, tensorboard, tensorflow\n",
            "  Attempting uninstall: keras\n",
            "    Found existing installation: keras 2.12.0\n",
            "    Uninstalling keras-2.12.0:\n",
            "      Successfully uninstalled keras-2.12.0\n",
            "  Attempting uninstall: tensorflow-estimator\n",
            "    Found existing installation: tensorflow-estimator 2.12.0\n",
            "    Uninstalling tensorflow-estimator-2.12.0:\n",
            "      Successfully uninstalled tensorflow-estimator-2.12.0\n",
            "  Attempting uninstall: tensorboard-data-server\n",
            "    Found existing installation: tensorboard-data-server 0.7.0\n",
            "    Uninstalling tensorboard-data-server-0.7.0:\n",
            "      Successfully uninstalled tensorboard-data-server-0.7.0\n",
            "  Attempting uninstall: protobuf\n",
            "    Found existing installation: protobuf 3.20.3\n",
            "    Uninstalling protobuf-3.20.3:\n",
            "      Successfully uninstalled protobuf-3.20.3\n",
            "  Attempting uninstall: google-auth-oauthlib\n",
            "    Found existing installation: google-auth-oauthlib 1.0.0\n",
            "    Uninstalling google-auth-oauthlib-1.0.0:\n",
            "      Successfully uninstalled google-auth-oauthlib-1.0.0\n",
            "  Attempting uninstall: tensorboard\n",
            "    Found existing installation: tensorboard 2.12.1\n",
            "    Uninstalling tensorboard-2.12.1:\n",
            "      Successfully uninstalled tensorboard-2.12.1\n",
            "  Attempting uninstall: tensorflow\n",
            "    Found existing installation: tensorflow 2.12.0\n",
            "    Uninstalling tensorflow-2.12.0:\n",
            "      Successfully uninstalled tensorflow-2.12.0\n",
            "Successfully installed google-auth-oauthlib-0.4.6 keras-2.10.0 keras-preprocessing-1.1.2 protobuf-3.19.6 tensorboard-2.10.1 tensorboard-data-server-0.6.1 tensorflow-2.10.0 tensorflow-estimator-2.10.0\n"
          ]
        },
        {
          "output_type": "display_data",
          "data": {
            "application/vnd.colab-display-data+json": {
              "pip_warning": {
                "packages": [
                  "google"
                ]
              }
            }
          },
          "metadata": {}
        }
      ]
    },
    {
      "cell_type": "code",
      "source": [
        "import tensorflow as tf\n",
        "print(tf.__version__) # use 2.10.0\n",
        "\n",
        "SEED = 42"
      ],
      "metadata": {
        "colab": {
          "base_uri": "https://localhost:8080/"
        },
        "id": "7_3_uD2fXWyD",
        "outputId": "1c38adea-d8ec-4cbf-a892-e5055a72338d"
      },
      "execution_count": 2,
      "outputs": [
        {
          "output_type": "stream",
          "name": "stdout",
          "text": [
            "2.10.0\n"
          ]
        }
      ]
    },
    {
      "cell_type": "markdown",
      "source": [
        "## Prepare Dataset"
      ],
      "metadata": {
        "id": "l46npq00II-y"
      }
    },
    {
      "cell_type": "markdown",
      "source": [
        "References:\n",
        "- https://machinelearningmastery.com/develop-neural-machine-translation-system-keras/"
      ],
      "metadata": {
        "id": "uXCUDYKwZRcG"
      }
    },
    {
      "cell_type": "code",
      "source": [
        "!wget -P data https://raw.githubusercontent.com/jbrownlee/Datasets/master/deu.txt"
      ],
      "metadata": {
        "colab": {
          "base_uri": "https://localhost:8080/"
        },
        "id": "6KzNM59RIIGr",
        "outputId": "23450ae8-df90-4f87-9601-153b8458ef7e"
      },
      "execution_count": 3,
      "outputs": [
        {
          "output_type": "stream",
          "name": "stdout",
          "text": [
            "--2023-04-08 14:39:33--  https://raw.githubusercontent.com/jbrownlee/Datasets/master/deu.txt\n",
            "Resolving raw.githubusercontent.com (raw.githubusercontent.com)... 185.199.108.133, 185.199.109.133, 185.199.110.133, ...\n",
            "Connecting to raw.githubusercontent.com (raw.githubusercontent.com)|185.199.108.133|:443... connected.\n",
            "HTTP request sent, awaiting response... 200 OK\n",
            "Length: 11303014 (11M) [text/plain]\n",
            "Saving to: ‘data/deu.txt’\n",
            "\n",
            "deu.txt             100%[===================>]  10.78M  --.-KB/s    in 0.04s   \n",
            "\n",
            "2023-04-08 14:39:34 (264 MB/s) - ‘data/deu.txt’ saved [11303014/11303014]\n",
            "\n"
          ]
        }
      ]
    },
    {
      "cell_type": "code",
      "source": [
        "import string\n",
        "import re\n",
        "import pickle\n",
        "import unicodedata\n",
        "import numpy as np\n",
        "\n",
        "# from pickle import dump\n",
        "# from unicodedata import normalize\n",
        "# from numpy import array\n",
        " \n",
        "# load doc into memory\n",
        "def load_doc(filename):\n",
        " # open the file as read only\n",
        " file = open(filename, mode='rt', encoding='utf-8')\n",
        " # read all text\n",
        " text = file.read()\n",
        " # close the file\n",
        " file.close()\n",
        " return text\n",
        " \n",
        "# split a loaded document into sentences\n",
        "def to_pairs(doc):\n",
        " lines = doc.strip().split('\\n')\n",
        " pairs = [line.split('\\t') for line in  lines]\n",
        " return pairs\n",
        " \n",
        "# clean a list of lines\n",
        "def clean_pairs(lines):\n",
        " cleaned = list()\n",
        " # prepare regex for char filtering\n",
        " re_print = re.compile('[^%s]' % re.escape(string.printable))\n",
        " # prepare translation table for removing punctuation\n",
        " table = str.maketrans('', '', string.punctuation)\n",
        " for pair in lines:\n",
        "  clean_pair = list()\n",
        "  for line in pair:\n",
        "    # normalize unicode characters\n",
        "    line = unicodedata.normalize('NFD', line).encode('ascii', 'ignore')\n",
        "    line = line.decode('UTF-8')\n",
        "    # tokenize on white space\n",
        "    line = line.split()\n",
        "    # convert to lowercase\n",
        "    line = [word.lower() for word in line]\n",
        "    # remove punctuation from each token\n",
        "    line = [word.translate(table) for word in line]\n",
        "    # remove non-printable chars form each token\n",
        "    line = [re_print.sub('', w) for w in line]\n",
        "    # remove tokens with numbers in them\n",
        "    line = [word for word in line if word.isalpha()]\n",
        "    # store as string\n",
        "    clean_pair.append(' '.join(line))\n",
        "  cleaned.append(clean_pair)\n",
        " return np.array(cleaned)\n",
        " \n",
        "# save a list of clean sentences to file\n",
        "def save_clean_data(sentences, filename):\n",
        " pickle.dump(sentences, open(filename, 'wb'))\n",
        " print('Saved: %s' % filename)\n",
        " \n",
        "# load dataset\n",
        "filename = 'data/deu.txt'\n",
        "doc = load_doc(filename)\n",
        "# split into english-german pairs\n",
        "pairs = to_pairs(doc)\n",
        "# clean sentences\n",
        "clean_pairs = clean_pairs(pairs)\n",
        "# save clean pairs to file\n",
        "save_clean_data(clean_pairs, 'english-german.pkl')\n",
        "# spot check\n",
        "for i in range(100):\n",
        " print('[%s] => [%s]' % (clean_pairs[i,0], clean_pairs[i,1]))"
      ],
      "metadata": {
        "colab": {
          "base_uri": "https://localhost:8080/"
        },
        "id": "0dZg05nBIN6v",
        "outputId": "1e17fa7c-15d7-480e-a10e-54bf8aef0300"
      },
      "execution_count": 4,
      "outputs": [
        {
          "output_type": "stream",
          "name": "stdout",
          "text": [
            "Saved: english-german.pkl\n",
            "[hi] => [hallo]\n",
            "[hi] => [gru gott]\n",
            "[run] => [lauf]\n",
            "[wow] => [potzdonner]\n",
            "[wow] => [donnerwetter]\n",
            "[fire] => [feuer]\n",
            "[help] => [hilfe]\n",
            "[help] => [zu hulf]\n",
            "[stop] => [stopp]\n",
            "[wait] => [warte]\n",
            "[hello] => [hallo]\n",
            "[i try] => [ich probiere es]\n",
            "[i won] => [ich hab gewonnen]\n",
            "[i won] => [ich habe gewonnen]\n",
            "[smile] => [lacheln]\n",
            "[cheers] => [zum wohl]\n",
            "[freeze] => [keine bewegung]\n",
            "[freeze] => [stehenbleiben]\n",
            "[got it] => [verstanden]\n",
            "[got it] => [einverstanden]\n",
            "[he ran] => [er rannte]\n",
            "[he ran] => [er lief]\n",
            "[hop in] => [mach mit]\n",
            "[hug me] => [druck mich]\n",
            "[hug me] => [nimm mich in den arm]\n",
            "[hug me] => [umarme mich]\n",
            "[i fell] => [ich fiel]\n",
            "[i fell] => [ich fiel hin]\n",
            "[i fell] => [ich sturzte]\n",
            "[i fell] => [ich bin hingefallen]\n",
            "[i fell] => [ich bin gesturzt]\n",
            "[i know] => [ich wei]\n",
            "[i lied] => [ich habe gelogen]\n",
            "[i lost] => [ich habe verloren]\n",
            "[im] => [ich bin jahre alt]\n",
            "[im] => [ich bin]\n",
            "[im ok] => [mir gehts gut]\n",
            "[im ok] => [es geht mir gut]\n",
            "[no way] => [unmoglich]\n",
            "[no way] => [das gibts doch nicht]\n",
            "[no way] => [ausgeschlossen]\n",
            "[no way] => [in keinster weise]\n",
            "[really] => [wirklich]\n",
            "[really] => [echt]\n",
            "[really] => [im ernst]\n",
            "[thanks] => [danke]\n",
            "[try it] => [versuchs]\n",
            "[why me] => [warum ich]\n",
            "[ask tom] => [frag tom]\n",
            "[ask tom] => [fragen sie tom]\n",
            "[ask tom] => [fragt tom]\n",
            "[be cool] => [entspann dich]\n",
            "[be fair] => [sei nicht ungerecht]\n",
            "[be fair] => [sei fair]\n",
            "[be nice] => [sei nett]\n",
            "[be nice] => [seien sie nett]\n",
            "[beat it] => [geh weg]\n",
            "[beat it] => [hau ab]\n",
            "[beat it] => [verschwinde]\n",
            "[beat it] => [verdufte]\n",
            "[beat it] => [mach dich fort]\n",
            "[beat it] => [zieh leine]\n",
            "[beat it] => [mach dich vom acker]\n",
            "[beat it] => [verzieh dich]\n",
            "[beat it] => [verkrumele dich]\n",
            "[beat it] => [troll dich]\n",
            "[beat it] => [zisch ab]\n",
            "[beat it] => [pack dich]\n",
            "[beat it] => [mach ne fliege]\n",
            "[beat it] => [schwirr ab]\n",
            "[beat it] => [mach die sause]\n",
            "[beat it] => [scher dich weg]\n",
            "[beat it] => [scher dich fort]\n",
            "[call me] => [ruf mich an]\n",
            "[come in] => [komm herein]\n",
            "[come in] => [herein]\n",
            "[come on] => [komm]\n",
            "[come on] => [kommt]\n",
            "[come on] => [mach schon]\n",
            "[come on] => [macht schon]\n",
            "[get out] => [raus]\n",
            "[go away] => [geh weg]\n",
            "[go away] => [hau ab]\n",
            "[go away] => [verschwinde]\n",
            "[go away] => [verdufte]\n",
            "[go away] => [mach dich fort]\n",
            "[go away] => [zieh leine]\n",
            "[go away] => [mach dich vom acker]\n",
            "[go away] => [verzieh dich]\n",
            "[go away] => [verkrumele dich]\n",
            "[go away] => [troll dich]\n",
            "[go away] => [zisch ab]\n",
            "[go away] => [pack dich]\n",
            "[go away] => [mach ne fliege]\n",
            "[go away] => [schwirr ab]\n",
            "[go away] => [mach die sause]\n",
            "[go away] => [scher dich weg]\n",
            "[go away] => [scher dich fort]\n",
            "[go away] => [geh weg]\n",
            "[go away] => [verpiss dich]\n"
          ]
        }
      ]
    },
    {
      "cell_type": "code",
      "source": [
        "import pickle\n",
        "import numpy as np\n",
        "# from pickle import load\n",
        "# from pickle import dump\n",
        "# from numpy.random import rand\n",
        "# from numpy.random import shuffle\n",
        " \n",
        "# load a clean dataset\n",
        "def load_clean_sentences(filename):\n",
        " return pickle.load(open(filename, 'rb'))\n",
        " \n",
        "# save a list of clean sentences to file\n",
        "def save_clean_data(sentences, filename):\n",
        " pickle.dump(sentences, open(filename, 'wb'))\n",
        " print('Saved: %s' % filename)\n",
        " \n",
        "# load dataset\n",
        "raw_dataset = load_clean_sentences('english-german.pkl')\n",
        " \n",
        "# reduce dataset size\n",
        "n_sentences = 10000\n",
        "dataset = raw_dataset[:n_sentences, :]\n",
        "# random shuffle\n",
        "np.random.shuffle(dataset)\n",
        "# split into train/test\n",
        "train, test = dataset[:9000], dataset[9000:]\n",
        "# save\n",
        "save_clean_data(dataset, 'english-german-both.pkl')\n",
        "save_clean_data(train, 'english-german-train.pkl')\n",
        "save_clean_data(test, 'english-german-test.pkl')"
      ],
      "metadata": {
        "colab": {
          "base_uri": "https://localhost:8080/"
        },
        "id": "iYSfopZSINr4",
        "outputId": "20a99f93-8cc2-4234-df5d-6a730109547f"
      },
      "execution_count": 5,
      "outputs": [
        {
          "output_type": "stream",
          "name": "stdout",
          "text": [
            "Saved: english-german-both.pkl\n",
            "Saved: english-german-train.pkl\n",
            "Saved: english-german-test.pkl\n"
          ]
        }
      ]
    },
    {
      "cell_type": "markdown",
      "source": [
        "## Attention"
      ],
      "metadata": {
        "id": "HBfTWqWSIWOv"
      }
    },
    {
      "cell_type": "markdown",
      "source": [
        "https://machinelearningmastery.com/how-to-implement-scaled-dot-product-attention-from-scratch-in-tensorflow-and-keras\n",
        "https://machinelearningmastery.com/how-to-implement-multi-head-attention-from-scratch-in-tensorflow-and-keras"
      ],
      "metadata": {
        "id": "iq-EGHYd7gUD"
      }
    },
    {
      "cell_type": "code",
      "source": [
        "import tensorflow as tf\n",
        "# from tensorflow import math, matmul, reshape, shape, transpose, cast, float32\n",
        "# from tensorflow.keras.layers import Dense, Layer\n",
        "# from keras.backend import softmax\n",
        "\n",
        "# Implementing the Scaled-Dot Product Attention\n",
        "class DotProductAttention(tf.keras.layers.Layer):\n",
        "    def __init__(self, **kwargs):\n",
        "        super(DotProductAttention, self).__init__(**kwargs)\n",
        "\n",
        "    def call(self, queries, keys, values, d_k, mask=None):\n",
        "        # Scoring the queries against the keys after transposing the latter, and scaling\n",
        "        scores = tf.matmul(queries, keys, transpose_b=True) / tf.math.sqrt(tf.cast(d_k, tf.float32))\n",
        "\n",
        "        # Apply mask to the attention scores\n",
        "        if mask is not None:\n",
        "            scores += -1e9 * mask\n",
        "\n",
        "        # Computing the weights by a softmax operation\n",
        "        weights = tf.keras.activations.softmax(scores)\n",
        "\n",
        "        # Computing the attention by a weighted sum of the value vectors\n",
        "        return tf.matmul(weights, values)\n",
        "\n",
        "# Implementing the Multi-Head Attention\n",
        "class MultiHeadAttention(tf.keras.layers.Layer):\n",
        "    def __init__(self, h, d_k, d_v, d_model, **kwargs):\n",
        "        super(MultiHeadAttention, self).__init__(**kwargs)\n",
        "        self.attention = DotProductAttention()  # Scaled dot product attention\n",
        "        self.heads = h  # Number of attention heads to use\n",
        "        self.d_k = d_k  # Dimensionality of the linearly projected queries and keys\n",
        "        self.d_v = d_v  # Dimensionality of the linearly projected values\n",
        "        self.d_model = d_model  # Dimensionality of the model\n",
        "        self.W_q = tf.keras.layers.Dense(d_k)  # Learned projection matrix for the queries\n",
        "        self.W_k = tf.keras.layers.Dense(d_k)  # Learned projection matrix for the keys\n",
        "        self.W_v = tf.keras.layers.Dense(d_v)  # Learned projection matrix for the values\n",
        "        self.W_o = tf.keras.layers.Dense(d_model)  # Learned projection matrix for the multi-head output\n",
        "\n",
        "    def reshape_tensor(self, x, heads, flag):\n",
        "        if flag:\n",
        "            # Tensor shape after reshaping and transposing: (batch_size, heads, seq_length, -1)\n",
        "            x = tf.reshape(x, shape=(tf.shape(x)[0], tf.shape(x)[1], heads, -1))\n",
        "            x = tf.transpose(x, perm=(0, 2, 1, 3))\n",
        "        else:\n",
        "            # Reverting the reshaping and transposing operations: (batch_size, seq_length, d_k)\n",
        "            x = tf.transpose(x, perm=(0, 2, 1, 3))\n",
        "            x = tf.reshape(x, shape=(tf.shape(x)[0], tf.shape(x)[1], self.d_k))\n",
        "        return x\n",
        "\n",
        "    def call(self, queries, keys, values, mask=None):\n",
        "        # Rearrange the queries to be able to compute all heads in parallel\n",
        "        q_reshaped = self.reshape_tensor(self.W_q(queries), self.heads, True)\n",
        "        # Resulting tensor shape: (batch_size, heads, input_seq_length, -1)\n",
        "\n",
        "        # Rearrange the keys to be able to compute all heads in parallel\n",
        "        k_reshaped = self.reshape_tensor(self.W_k(keys), self.heads, True)\n",
        "        # Resulting tensor shape: (batch_size, heads, input_seq_length, -1)\n",
        "\n",
        "        # Rearrange the values to be able to compute all heads in parallel\n",
        "        v_reshaped = self.reshape_tensor(self.W_v(values), self.heads, True)\n",
        "        # Resulting tensor shape: (batch_size, heads, input_seq_length, -1)\n",
        "\n",
        "        # Compute the multi-head attention output using the reshaped queries, keys and values\n",
        "        o_reshaped = self.attention(q_reshaped, k_reshaped, v_reshaped, self.d_k, mask)\n",
        "        # Resulting tensor shape: (batch_size, heads, input_seq_length, -1)\n",
        "\n",
        "        # Rearrange back the output into concatenated form\n",
        "        output = self.reshape_tensor(o_reshaped, self.heads, False)\n",
        "        # Resulting tensor shape: (batch_size, input_seq_length, d_v)\n",
        "\n",
        "        # Apply one final linear projection to the output to generate the multi-head attention\n",
        "        # Resulting tensor shape: (batch_size, input_seq_length, d_model)\n",
        "        return self.W_o(output)"
      ],
      "metadata": {
        "id": "E4NSrYXs66CJ"
      },
      "execution_count": 6,
      "outputs": []
    },
    {
      "cell_type": "markdown",
      "source": [
        "### Testing Out the Code"
      ],
      "metadata": {
        "id": "bD9ohI_PRpdu"
      }
    },
    {
      "cell_type": "markdown",
      "source": [
        "#### Scaled Dot-Product Attention"
      ],
      "metadata": {
        "id": "tu4ql8v1TlKR"
      }
    },
    {
      "cell_type": "code",
      "source": [
        "import numpy as np\n",
        "\n",
        "np.random.seed(SEED)\n",
        " \n",
        "input_seq_length = 5  # Maximum length of the input sequence\n",
        "d_k = 64  # Dimensionality of the linearly projected queries and keys\n",
        "d_v = 64  # Dimensionality of the linearly projected values\n",
        "batch_size = 64  # Batch size from the training process\n",
        " \n",
        "# Dummy Data\n",
        "queries = np.random.random((batch_size, input_seq_length, d_k))\n",
        "keys = np.random.random((batch_size, input_seq_length, d_k))\n",
        "values = np.random.random((batch_size, input_seq_length, d_v))\n",
        "\n",
        "print('Q shape:', queries.shape)\n",
        "print('K shape:', keys.shape)\n",
        "print('V shape:', values.shape)\n",
        "\n",
        "attention = DotProductAttention()\n",
        "dot_product_attention_output = attention(queries, keys, values, d_k)\n",
        "print('Dot Product Attention Output shape:', dot_product_attention_output.shape)\n",
        "print(dot_product_attention_output)"
      ],
      "metadata": {
        "colab": {
          "base_uri": "https://localhost:8080/"
        },
        "id": "rvtwZvVvStDu",
        "outputId": "873d33c6-90ed-4e47-9685-bac87e54f8ec"
      },
      "execution_count": 7,
      "outputs": [
        {
          "output_type": "stream",
          "name": "stdout",
          "text": [
            "Q shape: (64, 5, 64)\n",
            "K shape: (64, 5, 64)\n",
            "V shape: (64, 5, 64)\n",
            "Dot Product Attention Output shape: (64, 5, 64)\n",
            "tf.Tensor(\n",
            "[[[0.42829984 0.5291363  0.48467717 ... 0.60236526 0.63144374 0.36796492]\n",
            "  [0.42059597 0.51898783 0.46809804 ... 0.5975176  0.63140476 0.3960448 ]\n",
            "  [0.4529177  0.5337295  0.48221606 ... 0.5861657  0.6170543  0.35611778]\n",
            "  [0.43538862 0.52972203 0.47826144 ... 0.5917442  0.62593013 0.36665624]\n",
            "  [0.4299884  0.5189111  0.48113105 ... 0.610327   0.6304484  0.39192218]]\n",
            "\n",
            " [[0.61051536 0.50249517 0.40130407 ... 0.71487737 0.36341456 0.55124193]\n",
            "  [0.58420074 0.5239525  0.43119103 ... 0.7233551  0.3600105  0.56975734]\n",
            "  [0.5644941  0.559814   0.44120133 ... 0.6975892  0.34060013 0.5714755 ]\n",
            "  [0.5878387  0.5212065  0.4227584  ... 0.7043989  0.34812245 0.556117  ]\n",
            "  [0.588035   0.52016133 0.4339036  ... 0.70503277 0.35547626 0.56170976]]\n",
            "\n",
            " [[0.42078587 0.49814874 0.49267098 ... 0.49847668 0.49838424 0.24419653]\n",
            "  [0.41555586 0.49712974 0.49442887 ... 0.5093837  0.50856274 0.24680807]\n",
            "  [0.42648807 0.48677275 0.47802508 ... 0.49915406 0.4939838  0.24511524]\n",
            "  [0.42818242 0.4891822  0.50929385 ... 0.49413374 0.5001073  0.24244288]\n",
            "  [0.4198774  0.47195825 0.49843693 ... 0.47901446 0.48087996 0.23752582]]\n",
            "\n",
            " ...\n",
            "\n",
            " [[0.34208366 0.33005252 0.61067116 ... 0.37145126 0.39500523 0.4489295 ]\n",
            "  [0.3261856  0.33101344 0.61838406 ... 0.36305493 0.39253712 0.4440223 ]\n",
            "  [0.3266622  0.34087294 0.6013795  ... 0.37835827 0.40691677 0.45996755]\n",
            "  [0.31646603 0.33332765 0.63053775 ... 0.3667221  0.392332   0.44519985]\n",
            "  [0.3294949  0.34042454 0.60722303 ... 0.36759537 0.3955865  0.4439146 ]]\n",
            "\n",
            " [[0.614253   0.45237613 0.40557328 ... 0.49317017 0.50375146 0.5582    ]\n",
            "  [0.60700697 0.46827996 0.4128685  ... 0.5041559  0.4848728  0.54769754]\n",
            "  [0.5920976  0.4585476  0.41433176 ... 0.5077074  0.51278466 0.54510796]\n",
            "  [0.6094536  0.45495343 0.4226654  ... 0.50298333 0.4953402  0.5457491 ]\n",
            "  [0.58946    0.4622415  0.40519935 ... 0.50452286 0.50907815 0.5500693 ]]\n",
            "\n",
            " [[0.48170575 0.41727176 0.32436758 ... 0.5185312  0.48532182 0.49925447]\n",
            "  [0.4819431  0.4177644  0.32909    ... 0.51749444 0.4820693  0.48774153]\n",
            "  [0.48521048 0.4149676  0.31763405 ... 0.50687253 0.4878325  0.49117008]\n",
            "  [0.47845012 0.41720837 0.321815   ... 0.51263607 0.4848044  0.49299493]\n",
            "  [0.5057426  0.41419291 0.33272395 ... 0.5244207  0.48856887 0.4949835 ]]], shape=(64, 5, 64), dtype=float32)\n"
          ]
        }
      ]
    },
    {
      "cell_type": "markdown",
      "source": [
        "#### Multi-Head Attention"
      ],
      "metadata": {
        "id": "2GHEL59HafGd"
      }
    },
    {
      "cell_type": "code",
      "source": [
        "import numpy as np\n",
        "# from numpy import random\n",
        " \n",
        "np.random.seed(SEED)\n",
        "\n",
        "input_seq_length = 5  # Maximum length of the input sequence\n",
        "h = 8  # Number of self-attention heads\n",
        "d_k = 64  # Dimensionality of the linearly projected queries and keys\n",
        "d_v = 64  # Dimensionality of the linearly projected values\n",
        "d_model = 512  # Dimensionality of the model sub-layers' outputs\n",
        "batch_size = 64  # Batch size from the training process\n",
        " \n",
        "# Dummy Data\n",
        "queries = np.random.random((batch_size, input_seq_length, d_k))\n",
        "keys = np.random.random((batch_size, input_seq_length, d_k))\n",
        "values = np.random.random((batch_size, input_seq_length, d_v))\n",
        " \n",
        "print('Q shape:', queries.shape)\n",
        "print('K shape:', keys.shape)\n",
        "print('V shape:', values.shape)\n",
        "\n",
        "multihead_attention = MultiHeadAttention(h, d_k, d_v, d_model)\n",
        "multihead_attention_output = multihead_attention(queries, keys, values)\n",
        "print('Multi-Head Attention Output shape:', multihead_attention_output.shape)\n",
        "print(multihead_attention_output)"
      ],
      "metadata": {
        "id": "bBxob1Xb-VDw",
        "colab": {
          "base_uri": "https://localhost:8080/"
        },
        "outputId": "0562c60a-512a-4df6-e1af-7b45993a0a39"
      },
      "execution_count": 8,
      "outputs": [
        {
          "output_type": "stream",
          "name": "stdout",
          "text": [
            "Q shape: (64, 5, 64)\n",
            "K shape: (64, 5, 64)\n",
            "V shape: (64, 5, 64)\n",
            "Multi-Head Attention Output shape: (64, 5, 512)\n",
            "tf.Tensor(\n",
            "[[[-0.30299643  0.23394775 -0.4088634  ...  0.47636902 -0.15791465\n",
            "    0.05497486]\n",
            "  [-0.2990793   0.23184803 -0.40481085 ...  0.47724223 -0.15395539\n",
            "    0.04928409]\n",
            "  [-0.29678386  0.23114206 -0.4068592  ...  0.47853422 -0.1538449\n",
            "    0.05036146]\n",
            "  [-0.29952818  0.23183464 -0.40686136 ...  0.47619727 -0.15336587\n",
            "    0.05158652]\n",
            "  [-0.29769224  0.23575453 -0.4049396  ...  0.4744885  -0.15592404\n",
            "    0.04486067]]\n",
            "\n",
            " [[-0.23404859  0.12571804 -0.32508314 ...  0.48344702 -0.07852522\n",
            "    0.14723861]\n",
            "  [-0.2346316   0.12857246 -0.32037985 ...  0.47764283 -0.07956061\n",
            "    0.14308971]\n",
            "  [-0.23490886  0.12831548 -0.3215336  ...  0.48025027 -0.07520457\n",
            "    0.15051557]\n",
            "  [-0.23372158  0.1259031  -0.3238682  ...  0.48053494 -0.07912095\n",
            "    0.14440097]\n",
            "  [-0.23755684  0.12594537 -0.3240214  ...  0.48176295 -0.0770686\n",
            "    0.14989807]]\n",
            "\n",
            " [[-0.14836578  0.1022377  -0.4228383  ...  0.57937264 -0.05677278\n",
            "    0.16901791]\n",
            "  [-0.14937857  0.10254439 -0.42208266 ...  0.5801754  -0.06073186\n",
            "    0.16636744]\n",
            "  [-0.15061587  0.10314208 -0.42081943 ...  0.58157825 -0.05874005\n",
            "    0.16645491]\n",
            "  [-0.15228373  0.10031593 -0.42243508 ...  0.58205026 -0.05773565\n",
            "    0.1675164 ]\n",
            "  [-0.15185389  0.103273   -0.42122918 ...  0.57921344 -0.06026777\n",
            "    0.16613735]]\n",
            "\n",
            " ...\n",
            "\n",
            " [[-0.27235335  0.18433699 -0.36377808 ...  0.59829175 -0.06755978\n",
            "    0.01903582]\n",
            "  [-0.27075619  0.18467753 -0.36488715 ...  0.5975225  -0.06500791\n",
            "    0.01707016]\n",
            "  [-0.27009583  0.18729745 -0.36809066 ...  0.5968986  -0.06516464\n",
            "    0.02062149]\n",
            "  [-0.26953876  0.1852249  -0.36234412 ...  0.5961575  -0.06725508\n",
            "    0.01521672]\n",
            "  [-0.2711161   0.18712902 -0.3663559  ...  0.59628224 -0.06805796\n",
            "    0.01846744]]\n",
            "\n",
            " [[-0.115768    0.04104455 -0.42978966 ...  0.4308514  -0.01464827\n",
            "    0.17088358]\n",
            "  [-0.11453655  0.04058259 -0.43172607 ...  0.431257   -0.02078615\n",
            "    0.17253815]\n",
            "  [-0.11786701  0.03994453 -0.42780244 ...  0.43207297 -0.01819431\n",
            "    0.17188448]\n",
            "  [-0.12127342  0.04025275 -0.42955542 ...  0.43285373 -0.01602968\n",
            "    0.16830121]\n",
            "  [-0.11836244  0.04158366 -0.4309238  ...  0.4312549  -0.01650806\n",
            "    0.1703496 ]]\n",
            "\n",
            " [[-0.23687175  0.24542217 -0.41077164 ...  0.58541834 -0.16140702\n",
            "    0.16547334]\n",
            "  [-0.23548691  0.2441448  -0.41152138 ...  0.58302724 -0.16453484\n",
            "    0.16476272]\n",
            "  [-0.23545176  0.2458095  -0.4112423  ...  0.5859191  -0.16346724\n",
            "    0.16660827]\n",
            "  [-0.23621348  0.24426773 -0.41071323 ...  0.5830277  -0.16240504\n",
            "    0.16734391]\n",
            "  [-0.23428972  0.24533743 -0.40989152 ...  0.5840451  -0.1623282\n",
            "    0.16530369]]], shape=(64, 5, 512), dtype=float32)\n"
          ]
        }
      ]
    },
    {
      "cell_type": "markdown",
      "source": [
        "## Positional Encoding"
      ],
      "metadata": {
        "id": "ppOZuSfJIY3r"
      }
    },
    {
      "cell_type": "markdown",
      "source": [
        "https://machinelearningmastery.com/a-gentle-introduction-to-positional-encoding-in-transformer-models-part-1\n",
        "https://machinelearningmastery.com/the-transformer-positional-encoding-layer-in-keras-part-2/"
      ],
      "metadata": {
        "id": "2GcTt94r7lb8"
      }
    },
    {
      "cell_type": "code",
      "source": [
        "# Positional Encoding\n",
        "import tensorflow as tf\n",
        "# from tensorflow import convert_to_tensor, string\n",
        "# from tensorflow.keras.layers import TextVectorization, Embedding, Layer\n",
        "# from tensorflow.data import Dataset\n",
        "import numpy as np\n",
        "import matplotlib.pyplot as plt\n",
        "\n",
        "class PositionEmbeddingLayer(tf.keras.layers.Layer):\n",
        "    def __init__(self, sequence_length, vocab_size, output_dim, **kwargs):\n",
        "        super(PositionEmbeddingLayer, self).__init__(**kwargs)\n",
        "        self.word_embedding_layer = tf.keras.layers.Embedding(\n",
        "            input_dim=vocab_size, output_dim=output_dim\n",
        "        )\n",
        "        self.position_embedding_layer = tf.keras.layers.Embedding(\n",
        "            input_dim=sequence_length, output_dim=output_dim\n",
        "        )\n",
        " \n",
        "    def call(self, inputs):        \n",
        "        position_indices = tf.range(tf.shape(inputs)[-1])\n",
        "        embedded_words = self.word_embedding_layer(inputs)\n",
        "        embedded_indices = self.position_embedding_layer(position_indices)\n",
        "        return embedded_words + embedded_indices\n",
        "\n",
        "class PositionEmbeddingFixedWeights(tf.keras.layers.Layer):\n",
        "    def __init__(self, sequence_length, vocab_size, output_dim, **kwargs):\n",
        "        super(PositionEmbeddingFixedWeights, self).__init__(**kwargs)\n",
        "        word_embedding_matrix = self.get_position_encoding(vocab_size, output_dim)   \n",
        "        position_embedding_matrix = self.get_position_encoding(sequence_length, output_dim)                                          \n",
        "        self.word_embedding_layer = tf.keras.layers.Embedding(\n",
        "            input_dim=vocab_size, output_dim=output_dim,\n",
        "            weights=[word_embedding_matrix],\n",
        "            trainable=False\n",
        "        )\n",
        "        self.position_embedding_layer = tf.keras.layers.Embedding(\n",
        "            input_dim=sequence_length, output_dim=output_dim,\n",
        "            weights=[position_embedding_matrix],\n",
        "            trainable=False\n",
        "        )\n",
        "             \n",
        "    def get_position_encoding(self, seq_len, d, n=10000):\n",
        "        P = np.zeros((seq_len, d))\n",
        "        for k in range(seq_len):\n",
        "            for i in np.arange(int(d/2)):\n",
        "                denominator = np.power(n, 2*i/d)\n",
        "                P[k, 2*i] = np.sin(k/denominator)\n",
        "                P[k, 2*i+1] = np.cos(k/denominator)\n",
        "        return P\n",
        " \n",
        " \n",
        "    def call(self, inputs):        \n",
        "        position_indices = tf.range(tf.shape(inputs)[-1])\n",
        "        embedded_words = self.word_embedding_layer(inputs)\n",
        "        embedded_indices = self.position_embedding_layer(position_indices)\n",
        "        return embedded_words + embedded_indices"
      ],
      "metadata": {
        "id": "uq3Lkxvo7Imo"
      },
      "execution_count": 9,
      "outputs": []
    },
    {
      "cell_type": "markdown",
      "source": [
        "### Testing Out the Code"
      ],
      "metadata": {
        "id": "r4KHdD6tnzgd"
      }
    },
    {
      "cell_type": "markdown",
      "source": [
        "#### Tokenization"
      ],
      "metadata": {
        "id": "pM06z7i0p43o"
      }
    },
    {
      "cell_type": "code",
      "source": [
        "import tensorflow as tf\n",
        "\n",
        "output_sequence_length = 5\n",
        "vocab_size = 10\n",
        "sentences = [[\"I am a robot\"], [\"you too robot\"]]\n",
        "print('Sentences:', sentences)\n",
        "sentence_data = tf.data.Dataset.from_tensor_slices(sentences)\n",
        "\n",
        "# Create the TextVectorization layer\n",
        "'''\n",
        "The TextVectorization layer of Keras requires a maximum vocabulary size \n",
        "and the required length of an output sequence for initialization. \n",
        "\n",
        "The output of the layer is a tensor of shape:\n",
        "(number of sentences, output sequence length)\n",
        "'''\n",
        "vectorize_layer = tf.keras.layers.TextVectorization(\n",
        "                  output_sequence_length=output_sequence_length,\n",
        "                  max_tokens=vocab_size)\n",
        "\n",
        "# Train the layer to create a dictionary\n",
        "vectorize_layer.adapt(sentence_data)\n",
        "\n",
        "# Convert all sentences to tensors\n",
        "word_tensors = tf.convert_to_tensor(sentences, dtype=tf.string)\n",
        "\n",
        "# Use the word tensors to get vectorized phrases\n",
        "vectorized_words = vectorize_layer(word_tensors)\n",
        "print(\"Vocabulary:\", vectorize_layer.get_vocabulary())\n",
        "print(\"Vectorized words shape:\", vectorized_words.shape)\n",
        "print(\"Vectorized words:\", vectorized_words)"
      ],
      "metadata": {
        "colab": {
          "base_uri": "https://localhost:8080/"
        },
        "id": "CRf66thF_EpW",
        "outputId": "ad4221dd-5e9c-4ecb-f4a7-673ab00743e7"
      },
      "execution_count": 10,
      "outputs": [
        {
          "output_type": "stream",
          "name": "stdout",
          "text": [
            "Sentences: [['I am a robot'], ['you too robot']]\n",
            "Vocabulary: ['', '[UNK]', 'robot', 'you', 'too', 'i', 'am', 'a']\n",
            "Vectorized words shape: (2, 5)\n",
            "Vectorized words: tf.Tensor(\n",
            "[[5 6 7 2 0]\n",
            " [3 4 2 0 0]], shape=(2, 5), dtype=int64)\n"
          ]
        }
      ]
    },
    {
      "cell_type": "markdown",
      "source": [
        "#### Word Embeddings"
      ],
      "metadata": {
        "id": "Uz8C7iXJp-cC"
      }
    },
    {
      "cell_type": "code",
      "source": [
        "output_length = 6 # embedding dimension\n",
        "word_embedding_layer = tf.keras.layers.Embedding(vocab_size, output_length)\n",
        "embedded_words = word_embedding_layer(vectorized_words)\n",
        "\n",
        "# num_of_sentences x output_sequence_length x embedding_dimension\n",
        "print(\"Embedded words shape:\", embedded_words.shape)\n",
        "print(embedded_words)"
      ],
      "metadata": {
        "colab": {
          "base_uri": "https://localhost:8080/"
        },
        "id": "EQF06aWu_RVz",
        "outputId": "33e46d61-ecc3-45fc-85aa-fd57e83b0649"
      },
      "execution_count": 11,
      "outputs": [
        {
          "output_type": "stream",
          "name": "stdout",
          "text": [
            "Embedded words shape: (2, 5, 6)\n",
            "tf.Tensor(\n",
            "[[[ 0.00265511  0.0457341   0.04924547  0.04430968 -0.00684582\n",
            "    0.01842468]\n",
            "  [-0.03975389  0.0402152  -0.02842861  0.00173496  0.00494073\n",
            "    0.00509804]\n",
            "  [ 0.00595231  0.03513665  0.01950682  0.02525147  0.03892132\n",
            "   -0.04377345]\n",
            "  [-0.01656995  0.01091304 -0.03433328 -0.02740196 -0.01824664\n",
            "   -0.02706993]\n",
            "  [-0.01262663 -0.03458906 -0.02009976 -0.04275464  0.01992236\n",
            "    0.00590032]]\n",
            "\n",
            " [[ 0.00632696 -0.0261204  -0.0137286   0.03696937  0.00083175\n",
            "    0.00418738]\n",
            "  [ 0.02569591 -0.04267209 -0.04284276  0.0415437   0.04207614\n",
            "   -0.01801814]\n",
            "  [-0.01656995  0.01091304 -0.03433328 -0.02740196 -0.01824664\n",
            "   -0.02706993]\n",
            "  [-0.01262663 -0.03458906 -0.02009976 -0.04275464  0.01992236\n",
            "    0.00590032]\n",
            "  [-0.01262663 -0.03458906 -0.02009976 -0.04275464  0.01992236\n",
            "    0.00590032]]], shape=(2, 5, 6), dtype=float32)\n"
          ]
        }
      ]
    },
    {
      "cell_type": "markdown",
      "source": [
        "#### Position Embeddings"
      ],
      "metadata": {
        "id": "gdaaLlJNtRDo"
      }
    },
    {
      "cell_type": "code",
      "source": [
        "'''\n",
        "You also need the embeddings for the corresponding positions.\n",
        "The maximum positions correspond to the output sequence length \n",
        "of the TextVectorization layer.\n",
        "'''\n",
        "position_embedding_layer = tf.keras.layers.Embedding(output_sequence_length, \n",
        "                                                     output_length)\n",
        "position_indices = tf.range(output_sequence_length)\n",
        "embedded_indices = position_embedding_layer(position_indices)\n",
        "\n",
        "# output_sequence_length x embedding_dimension\n",
        "print(\"Embedded indices shape:\", embedded_indices.shape)\n",
        "print(embedded_indices)"
      ],
      "metadata": {
        "colab": {
          "base_uri": "https://localhost:8080/"
        },
        "id": "CeRUjognsVd2",
        "outputId": "1cc8eb22-a149-4494-af6c-c3e12ccba2b4"
      },
      "execution_count": 12,
      "outputs": [
        {
          "output_type": "stream",
          "name": "stdout",
          "text": [
            "Embedded indices shape: (5, 6)\n",
            "tf.Tensor(\n",
            "[[ 0.01835914 -0.02891021 -0.04852195 -0.01873725 -0.04995493  0.01262596]\n",
            " [-0.04651271 -0.02623242 -0.04646909 -0.01655094  0.01008797 -0.03180813]\n",
            " [-0.04908448  0.02246464 -0.04642844  0.00203384  0.04550851 -0.016349  ]\n",
            " [ 0.02445164 -0.02072953  0.01525912  0.04284188 -0.00143275 -0.04299597]\n",
            " [-0.02089131  0.03549187 -0.04805844 -0.0061155  -0.0296174  -0.01674818]], shape=(5, 6), dtype=float32)\n"
          ]
        }
      ]
    },
    {
      "cell_type": "markdown",
      "source": [
        "#### Let’s run the layer."
      ],
      "metadata": {
        "id": "B85ff1EYvbE0"
      }
    },
    {
      "cell_type": "code",
      "source": [
        "my_embedding_layer = PositionEmbeddingLayer(output_sequence_length,\n",
        "                                            vocab_size, output_length)\n",
        "embedded_layer_output = my_embedding_layer(vectorized_words)\n",
        "print(\"Output from my_embedded_layer: \", embedded_layer_output)"
      ],
      "metadata": {
        "colab": {
          "base_uri": "https://localhost:8080/"
        },
        "id": "TGICswc4_BUQ",
        "outputId": "ada09173-bdd5-4e3e-8d56-518c48086246"
      },
      "execution_count": 13,
      "outputs": [
        {
          "output_type": "stream",
          "name": "stdout",
          "text": [
            "Output from my_embedded_layer:  tf.Tensor(\n",
            "[[[-0.07293891  0.02441089 -0.0830396   0.02787292 -0.06606202\n",
            "    0.00906866]\n",
            "  [ 0.01518706  0.03718343  0.02104057  0.02066615  0.02348323\n",
            "   -0.00339143]\n",
            "  [-0.03445216  0.00631708 -0.06487719 -0.01773281 -0.05248\n",
            "    0.02922295]\n",
            "  [ 0.01833608  0.06210782  0.03873897 -0.03545995  0.05561589\n",
            "   -0.03962589]\n",
            "  [-0.01403841  0.02543293  0.06190304 -0.00184599  0.07525605\n",
            "   -0.06134054]]\n",
            "\n",
            " [[-0.06071874 -0.013096   -0.08105402  0.00854006 -0.0466168\n",
            "   -0.01993372]\n",
            "  [ 0.04803818  0.06676009  0.05446659  0.02587246 -0.03011527\n",
            "   -0.02723459]\n",
            "  [-0.02086305  0.08572981 -0.03175392  0.02295054  0.02196933\n",
            "   -0.04618144]\n",
            "  [-0.0228438   0.03056086  0.04059488 -0.04803813  0.05033974\n",
            "   -0.0433832 ]\n",
            "  [-0.01403841  0.02543293  0.06190304 -0.00184599  0.07525605\n",
            "   -0.06134054]]], shape=(2, 5, 6), dtype=float32)\n"
          ]
        }
      ]
    },
    {
      "cell_type": "markdown",
      "source": [
        "Next, we set up everything to run this layer."
      ],
      "metadata": {
        "id": "p0EbYswur-El"
      }
    },
    {
      "cell_type": "code",
      "source": [
        "attnisallyouneed_embedding = PositionEmbeddingFixedWeights(\n",
        "                                            output_sequence_length,\n",
        "                                            vocab_size, \n",
        "                                            output_length\n",
        "                                            )\n",
        "attnisallyouneed_output = attnisallyouneed_embedding(vectorized_words)\n",
        "print(\"Output from my_embedded_layer shape:\", attnisallyouneed_output.shape)\n",
        "print(\"Output from my_embedded_layer:\", attnisallyouneed_output)"
      ],
      "metadata": {
        "colab": {
          "base_uri": "https://localhost:8080/"
        },
        "id": "guzHqu0A-8c0",
        "outputId": "d9aab6ef-012c-44ce-8bf1-0e318376c4ad"
      },
      "execution_count": 14,
      "outputs": [
        {
          "output_type": "stream",
          "name": "stdout",
          "text": [
            "Output from my_embedded_layer shape: (2, 5, 6)\n",
            "Output from my_embedded_layer: tf.Tensor(\n",
            "[[[-0.9589243   1.2836622   0.23000172  1.9731903   0.01077196\n",
            "    1.9999421 ]\n",
            "  [ 0.56205547  1.5004725   0.3213085   1.9603932   0.01508068\n",
            "    1.9999142 ]\n",
            "  [ 1.566284    0.3377554   0.41192317  1.9433732   0.01938933\n",
            "    1.999877  ]\n",
            "  [ 1.0504174  -1.4061394   0.2314966   1.9860148   0.01077211\n",
            "    1.9999698 ]\n",
            "  [-0.7568025   0.3463564   0.18459873  1.982814    0.00861763\n",
            "    1.9999628 ]]\n",
            "\n",
            " [[ 0.14112     0.0100075   0.1387981   1.9903207   0.00646326\n",
            "    1.9999791 ]\n",
            "  [ 0.08466846 -0.11334133  0.23099795  1.9817369   0.01077207\n",
            "    1.9999605 ]\n",
            "  [ 1.8185948  -0.8322937   0.185397    1.9913884   0.00861771\n",
            "    1.9999814 ]\n",
            "  [ 0.14112     0.0100075   0.1387981   1.9903207   0.00646326\n",
            "    1.9999791 ]\n",
            "  [-0.7568025   0.3463564   0.18459873  1.982814    0.00861763\n",
            "    1.9999628 ]]], shape=(2, 5, 6), dtype=float32)\n"
          ]
        }
      ]
    },
    {
      "cell_type": "markdown",
      "source": [
        "#### Visualizing the Final Embedding"
      ],
      "metadata": {
        "id": "TmzOwZw1r40q"
      }
    },
    {
      "cell_type": "code",
      "source": [
        "technical_phrase = \"to understand machine learning algorithms you need\" +\\\n",
        "                   \" to understand concepts such as gradient of a function \"+\\\n",
        "                   \"Hessians of a matrix and optimization etc\"\n",
        "wise_phrase = \"patrick henry said give me liberty or give me death \"+\\\n",
        "              \"when he addressed the second virginia convention in march\"\n",
        " \n",
        "total_vocabulary = 200\n",
        "sequence_length = 20\n",
        "final_output_len = 50\n",
        "phrase_vectorization_layer = tf.keras.layers.TextVectorization(\n",
        "                  output_sequence_length=sequence_length,\n",
        "                  max_tokens=total_vocabulary)\n",
        "\n",
        "# Learn the dictionary\n",
        "phrase_vectorization_layer.adapt([technical_phrase, wise_phrase])\n",
        "\n",
        "# Convert all sentences to tensors\n",
        "phrase_tensors = tf.convert_to_tensor([technical_phrase, wise_phrase], \n",
        "                                   dtype=tf.string)\n",
        "\n",
        "# Use the word tensors to get vectorized phrases\n",
        "vectorized_phrases = phrase_vectorization_layer(phrase_tensors)\n",
        " \n",
        "random_weights_embedding_layer = PositionEmbeddingLayer(sequence_length, \n",
        "                                                        total_vocabulary,\n",
        "                                                        final_output_len)\n",
        "fixed_weights_embedding_layer = PositionEmbeddingFixedWeights(sequence_length, \n",
        "                                                        total_vocabulary,\n",
        "                                                        final_output_len)\n",
        "random_embedding = random_weights_embedding_layer(vectorized_phrases)\n",
        "fixed_embedding = fixed_weights_embedding_layer(vectorized_phrases)"
      ],
      "metadata": {
        "id": "LluiAU7X_Y_r"
      },
      "execution_count": 15,
      "outputs": []
    },
    {
      "cell_type": "markdown",
      "source": [
        "Now let’s see what the random embeddings look like for both phrases."
      ],
      "metadata": {
        "id": "trrztKlfrnVE"
      }
    },
    {
      "cell_type": "code",
      "source": [
        "fig = plt.figure(figsize=(15, 5))    \n",
        "title = [\"Tech Phrase\", \"Wise Phrase\"]\n",
        "for i in range(2):\n",
        "    ax = plt.subplot(1, 2, 1+i)\n",
        "    matrix = tf.reshape(random_embedding[i, :, :], (sequence_length, final_output_len))\n",
        "    cax = ax.matshow(matrix)\n",
        "    plt.gcf().colorbar(cax)   \n",
        "    plt.title(title[i], y=1.2)\n",
        "fig.suptitle(\"Random Embedding\")\n",
        "plt.show()"
      ],
      "metadata": {
        "colab": {
          "base_uri": "https://localhost:8080/",
          "height": 467
        },
        "id": "lSbOwebz_aw7",
        "outputId": "014764b5-4812-411c-fabf-8bed8e7c27cc"
      },
      "execution_count": 16,
      "outputs": [
        {
          "output_type": "display_data",
          "data": {
            "text/plain": [
              "<Figure size 1500x500 with 4 Axes>"
            ],
            "image/png": "[encoded data removed]"
          },
          "metadata": {}
        }
      ]
    },
    {
      "cell_type": "markdown",
      "source": [
        "The embedding from the fixed weights layer are visualized below."
      ],
      "metadata": {
        "id": "sDl4p80srvt_"
      }
    },
    {
      "cell_type": "code",
      "source": [
        "fig = plt.figure(figsize=(15, 5))    \n",
        "title = [\"Tech Phrase\", \"Wise Phrase\"]\n",
        "for i in range(2):\n",
        "    ax = plt.subplot(1, 2, 1+i)\n",
        "    matrix = tf.reshape(fixed_embedding[i, :, :], (sequence_length, final_output_len))\n",
        "    cax = ax.matshow(matrix)\n",
        "    plt.gcf().colorbar(cax)   \n",
        "    plt.title(title[i], y=1.2)\n",
        "fig.suptitle(\"Fixed Weight Embedding from Attention is All You Need\")\n",
        "plt.show()"
      ],
      "metadata": {
        "colab": {
          "base_uri": "https://localhost:8080/",
          "height": 472
        },
        "id": "koLa2pfgrwJX",
        "outputId": "c29252e0-99a6-4006-d45e-437541c3300c"
      },
      "execution_count": 17,
      "outputs": [
        {
          "output_type": "display_data",
          "data": {
            "text/plain": [
              "<Figure size 1500x500 with 4 Axes>"
            ],
            "image/png": "[encoded data removed]"
          },
          "metadata": {}
        }
      ]
    },
    {
      "cell_type": "markdown",
      "source": [
        "## Transformer Encoder"
      ],
      "metadata": {
        "id": "Njig4F5KIb9C"
      }
    },
    {
      "cell_type": "markdown",
      "source": [
        "References:\n",
        "- https://machinelearningmastery.com/implementing-the-transformer-encoder-from-scratch-in-tensorflow-and-keras"
      ],
      "metadata": {
        "id": "0mRX7A-i7u8y"
      }
    },
    {
      "cell_type": "code",
      "source": [
        "import tensorflow as tf\n",
        "# from tensorflow.keras.layers import LayerNormalization, Layer, Dense, ReLU, Dropout, Input\n",
        "# from multihead_attention import MultiHeadAttention\n",
        "# from positional_encoding import PositionEmbeddingFixedWeights\n",
        " \n",
        "# Implementing the Add & Norm Layer\n",
        "class AddNormalization(tf.keras.layers.Layer):\n",
        "    def __init__(self, **kwargs):\n",
        "        super(AddNormalization, self).__init__(**kwargs)\n",
        "        self.layer_norm = tf.keras.layers.LayerNormalization()  # Layer normalization layer\n",
        " \n",
        "    def call(self, x, sublayer_x):\n",
        "        # The sublayer input and output need to be of the same shape to be summed\n",
        "        add = x + sublayer_x\n",
        " \n",
        "        # Apply layer normalization to the sum\n",
        "        return self.layer_norm(add)\n",
        " \n",
        "# Implementing the Feed-Forward Layer\n",
        "class FeedForward(tf.keras.layers.Layer):\n",
        "    def __init__(self, d_ff, d_model, **kwargs):\n",
        "        super(FeedForward, self).__init__(**kwargs)\n",
        "        self.fully_connected1 = tf.keras.layers.Dense(d_ff)  # First fully connected layer\n",
        "        self.fully_connected2 = tf.keras.layers.Dense(d_model)  # Second fully connected layer\n",
        "        self.activation = tf.keras.layers.ReLU()  # ReLU activation layer\n",
        " \n",
        "    def call(self, x):\n",
        "        # The input is passed into the two fully-connected layers, with a ReLU in between\n",
        "        x_fc1 = self.fully_connected1(x)\n",
        " \n",
        "        return self.fully_connected2(self.activation(x_fc1))\n",
        " \n",
        "# Implementing the Encoder Layer\n",
        "class EncoderLayer(tf.keras.layers.Layer):\n",
        "    def __init__(self, sequence_length, h, d_k, d_v, d_model, d_ff, rate, **kwargs):\n",
        "        super(EncoderLayer, self).__init__(**kwargs)\n",
        "        self.build(input_shape=[None, sequence_length, d_model])\n",
        "        self.d_model = d_model\n",
        "        self.sequence_length = sequence_length\n",
        "        \n",
        "        self.multihead_attention = MultiHeadAttention(h, d_k, d_v, d_model)\n",
        "        self.dropout1 = tf.keras.layers.Dropout(rate)\n",
        "        self.add_norm1 = AddNormalization()\n",
        "        self.feed_forward = FeedForward(d_ff, d_model)\n",
        "        self.dropout2 = tf.keras.layers.Dropout(rate)\n",
        "        self.add_norm2 = AddNormalization()\n",
        " \n",
        "    def call(self, x, padding_mask, training):\n",
        "        # Multi-head attention layer\n",
        "        multihead_output = self.multihead_attention(x, x, x, padding_mask)\n",
        "        # Expected output shape = (batch_size, sequence_length, d_model)\n",
        " \n",
        "        # Add in a dropout layer\n",
        "        multihead_output = self.dropout1(multihead_output, training=training)\n",
        " \n",
        "        # Followed by an Add & Norm layer\n",
        "        addnorm_output = self.add_norm1(x, multihead_output)\n",
        "        # Expected output shape = (batch_size, sequence_length, d_model)\n",
        " \n",
        "        # Followed by a fully connected layer\n",
        "        feedforward_output = self.feed_forward(addnorm_output)\n",
        "        # Expected output shape = (batch_size, sequence_length, d_model)\n",
        " \n",
        "        # Add in another dropout layer\n",
        "        feedforward_output = self.dropout2(feedforward_output, training=training)\n",
        " \n",
        "        # Followed by another Add & Norm layer\n",
        "        return self.add_norm2(addnorm_output, feedforward_output)\n",
        "      \n",
        "    def build_graph(self):\n",
        "        input_layer = tf.keras.layers.Input(shape=(self.sequence_length, self.d_model))\n",
        "        return tf.keras.Model(inputs=[input_layer], outputs=self.call(input_layer, None, True))\n",
        " \n",
        "# Implementing the Encoder\n",
        "class Encoder(tf.keras.layers.Layer):\n",
        "    def __init__(self, vocab_size, sequence_length, h, d_k, d_v, d_model, d_ff, n, rate, **kwargs):\n",
        "        super(Encoder, self).__init__(**kwargs)\n",
        "        self.pos_encoding = PositionEmbeddingFixedWeights(sequence_length, vocab_size, d_model)\n",
        "        self.dropout = tf.keras.layers.Dropout(rate)\n",
        "        self.encoder_layer = [EncoderLayer(sequence_length, h, d_k, d_v, d_model, d_ff, rate) for _ in range(n)]\n",
        " \n",
        "    def call(self, input_sentence, padding_mask, training):\n",
        "        # Generate the positional encoding\n",
        "        pos_encoding_output = self.pos_encoding(input_sentence)\n",
        "        # Expected output shape = (batch_size, sequence_length, d_model)\n",
        " \n",
        "        # Add in a dropout layer\n",
        "        x = self.dropout(pos_encoding_output, training=training)\n",
        " \n",
        "        # Pass on the positional encoded values to each encoder layer\n",
        "        for i, layer in enumerate(self.encoder_layer):\n",
        "            x = layer(x, padding_mask, training)\n",
        " \n",
        "        return x"
      ],
      "metadata": {
        "id": "QoD8lYBr7ZP_"
      },
      "execution_count": 18,
      "outputs": []
    },
    {
      "cell_type": "markdown",
      "source": [
        "#### Testing Out the Code"
      ],
      "metadata": {
        "id": "D0TC5QHv73LP"
      }
    },
    {
      "cell_type": "code",
      "source": [
        "import numpy as np\n",
        "# from numpy import random\n",
        " \n",
        "'''\n",
        "You will work with the parameter values specified in the paper, \n",
        "Attention Is All You Need, by Vaswani et al. (2017):\n",
        "'''\n",
        "h = 8  # Number of self-attention heads\n",
        "d_k = 64  # Dimensionality of the linearly projected queries and keys\n",
        "d_v = 64  # Dimensionality of the linearly projected values\n",
        "d_ff = 2048  # Dimensionality of the inner fully connected layer\n",
        "d_model = 512  # Dimensionality of the model sub-layers' outputs\n",
        "n = 6  # Number of layers in the encoder stack\n",
        " \n",
        "batch_size = 64  # Batch size from the training process\n",
        "dropout_rate = 0.1  # Frequency of dropping the input units in the dropout layers\n",
        " \n",
        "# Dummy Data\n",
        "enc_vocab_size = 20 # Vocabulary size for the encoder\n",
        "input_seq_length = 5  # Maximum length of the input sequence\n",
        "input_seq = np.random.random((batch_size, input_seq_length))\n",
        " \n",
        "encoder = Encoder(enc_vocab_size, input_seq_length, h, d_k, d_v, d_model, d_ff, n, dropout_rate)\n",
        "print(encoder(input_seq, None, True))"
      ],
      "metadata": {
        "colab": {
          "base_uri": "https://localhost:8080/"
        },
        "id": "AsrNMHI5_eo7",
        "outputId": "5bb2e33a-31e9-4737-bf3b-ff94b286c383"
      },
      "execution_count": 19,
      "outputs": [
        {
          "output_type": "stream",
          "name": "stdout",
          "text": [
            "tf.Tensor(\n",
            "[[[-1.4871118   0.7065537   1.7660948  ...  1.1331463   0.5811005\n",
            "   -0.48423845]\n",
            "  [-0.5834078  -0.16482513  1.4892291  ...  0.24964355  0.14173335\n",
            "   -0.68002784]\n",
            "  [-0.3036474  -0.19818063  1.473912   ...  0.44230655  0.18741792\n",
            "   -0.22923476]\n",
            "  [-1.0219748  -0.24659294  1.2827979  ...  0.27165347  0.05344507\n",
            "    0.9452918 ]\n",
            "  [-1.2028902  -0.61199874  1.0358663  ...  0.67940015  0.3353876\n",
            "   -1.1025178 ]]\n",
            "\n",
            " [[-1.0921112   0.7390727   1.5044237  ... -0.25500923  0.53103805\n",
            "    0.4292648 ]\n",
            "  [-0.85799     0.25277308  0.88591963 ...  0.14107053 -0.00737675\n",
            "   -0.19071318]\n",
            "  [-0.9579819  -0.18286535  1.243855   ...  0.41148475 -0.38286662\n",
            "   -0.3376076 ]\n",
            "  [-0.8673387   0.4018647   0.6271574  ...  0.02096778  0.28504393\n",
            "   -0.4317767 ]\n",
            "  [-1.5610294  -0.02222542  1.6030173  ... -0.0878982   0.5942195\n",
            "   -0.28966773]]\n",
            "\n",
            " [[-1.3726432   1.4476305   1.506739   ...  0.8129769   0.48946804\n",
            "   -0.61809534]\n",
            "  [-0.3423772   0.09857825  0.811228   ... -0.8327967   0.28059474\n",
            "   -0.8348036 ]\n",
            "  [-1.1793529  -0.01916133  1.3409743  ...  0.70047104  0.720983\n",
            "   -0.90623885]\n",
            "  [-1.1304618   0.6549588   1.8990606  ...  0.01663407  0.39322412\n",
            "   -0.3960462 ]\n",
            "  [-0.9393463   0.01916217  0.9980943  ... -0.7467766   0.04116961\n",
            "   -0.87690455]]\n",
            "\n",
            " ...\n",
            "\n",
            " [[-0.545698    0.24760543  1.7664913  ...  0.97968405  0.24009828\n",
            "   -0.25939324]\n",
            "  [-0.9584211  -0.04815877  2.2534502  ... -0.25377715  0.29090038\n",
            "   -0.04847747]\n",
            "  [-0.75485885  0.50984716  2.239466   ...  0.6151897   0.54102117\n",
            "    0.08425213]\n",
            "  [-1.2629133   0.05521238  1.5921148  ...  0.15591381  0.13433994\n",
            "    0.32494166]\n",
            "  [-0.7707713   0.3751361   1.2856265  ... -0.18096973  0.10471826\n",
            "   -0.22917823]]\n",
            "\n",
            " [[-1.1236792   0.28845963  1.4943101  ... -0.48785976  0.5804973\n",
            "    0.07367308]\n",
            "  [-0.5435416   0.6810761   1.1820743  ...  0.06000356  0.7252137\n",
            "   -0.3580207 ]\n",
            "  [ 0.42417672  0.16113736  0.9574409  ...  0.05624457  0.22923672\n",
            "   -0.1409581 ]\n",
            "  [-1.2863975   0.13080572  0.8073474  ...  0.06847703 -0.18939078\n",
            "   -0.11395667]\n",
            "  [-1.6081791   0.2439226   1.130365   ...  0.06207759  0.20138565\n",
            "   -0.31500572]]\n",
            "\n",
            " [[-0.62816185  0.79086673  1.4630203  ... -0.7667349   0.25832984\n",
            "   -0.33464438]\n",
            "  [-1.6438385   0.88740075  1.2180048  ... -0.62277764 -0.00603114\n",
            "   -0.83822936]\n",
            "  [-0.42541355  0.31963235  0.581122   ... -1.130316   -0.77206933\n",
            "    0.27693862]\n",
            "  [-1.0639485  -0.1467105   1.5990454  ... -0.6601389   0.29188263\n",
            "    0.40166253]\n",
            "  [-1.7732227   0.09980537  1.1094131  ... -0.6082914   0.08021595\n",
            "   -0.33214813]]], shape=(64, 5, 512), dtype=float32)\n"
          ]
        }
      ]
    },
    {
      "cell_type": "markdown",
      "source": [
        "## Transformer Decoder"
      ],
      "metadata": {
        "id": "kCwNjcBZIgpd"
      }
    },
    {
      "cell_type": "markdown",
      "source": [
        "https://machinelearningmastery.com/implementing-the-transformer-decoder-from-scratch-in-tensorflow-and-keras"
      ],
      "metadata": {
        "id": "FnrnFVFNIn5a"
      }
    },
    {
      "cell_type": "code",
      "source": [
        "import tensorflow as tf\n",
        "# from tensorflow.keras.layers import Layer, Dropout, Input\n",
        "# from multihead_attention import MultiHeadAttention\n",
        "# from positional_encoding import PositionEmbeddingFixedWeights\n",
        "# from encoder import AddNormalization, FeedForward\n",
        " \n",
        "# Implementing the Decoder Layer\n",
        "class DecoderLayer(tf.keras.layers.Layer):\n",
        "    # def __init__(self, h, d_k, d_v, d_model, d_ff, rate, **kwargs):\n",
        "    def __init__(self, sequence_length, h, d_k, d_v, d_model, d_ff, rate, **kwargs):\n",
        "        super(DecoderLayer, self).__init__(**kwargs)\n",
        "        self.build(input_shape=[None, sequence_length, d_model])\n",
        "        self.sequence_length = sequence_length\n",
        "        self.d_model = d_model\n",
        "        self.multihead_attention1 = MultiHeadAttention(h, d_k, d_v, d_model)\n",
        "        self.dropout1 = tf.keras.layers.Dropout(rate)\n",
        "        self.add_norm1 = AddNormalization()\n",
        "        self.multihead_attention2 = MultiHeadAttention(h, d_k, d_v, d_model)\n",
        "        self.dropout2 = tf.keras.layers.Dropout(rate)\n",
        "        self.add_norm2 = AddNormalization()\n",
        "        self.feed_forward = FeedForward(d_ff, d_model)\n",
        "        self.dropout3 = tf.keras.layers.Dropout(rate)\n",
        "        self.add_norm3 = AddNormalization()\n",
        " \n",
        "    def call(self, x, encoder_output, lookahead_mask, padding_mask, training):\n",
        "        # Multi-head attention layer\n",
        "        multihead_output1 = self.multihead_attention1(x, x, x, lookahead_mask)\n",
        "        # Expected output shape = (batch_size, sequence_length, d_model)\n",
        " \n",
        "        # Add in a dropout layer\n",
        "        multihead_output1 = self.dropout1(multihead_output1, training=training)\n",
        " \n",
        "        # Followed by an Add & Norm layer\n",
        "        addnorm_output1 = self.add_norm1(x, multihead_output1)\n",
        "        # Expected output shape = (batch_size, sequence_length, d_model)\n",
        " \n",
        "        # Followed by another multi-head attention layer\n",
        "        multihead_output2 = self.multihead_attention2(addnorm_output1, encoder_output, encoder_output, padding_mask)\n",
        " \n",
        "        # Add in another dropout layer\n",
        "        multihead_output2 = self.dropout2(multihead_output2, training=training)\n",
        " \n",
        "        # Followed by another Add & Norm layer\n",
        "        addnorm_output2 = self.add_norm1(addnorm_output1, multihead_output2)\n",
        " \n",
        "        # Followed by a fully connected layer\n",
        "        feedforward_output = self.feed_forward(addnorm_output2)\n",
        "        # Expected output shape = (batch_size, sequence_length, d_model)\n",
        " \n",
        "        # Add in another dropout layer\n",
        "        feedforward_output = self.dropout3(feedforward_output, training=training)\n",
        " \n",
        "        # Followed by another Add & Norm layer\n",
        "        return self.add_norm3(addnorm_output2, feedforward_output)\n",
        "\n",
        "    def build_graph(self):\n",
        "        input_layer = tf.keras.layers.Input(shape=(self.sequence_length, self.d_model))\n",
        "        return tf.keras.Model(inputs=[input_layer], outputs=self.call(input_layer, input_layer, None, None, True))\n",
        " \n",
        "# Implementing the Decoder\n",
        "class Decoder(tf.keras.layers.Layer):\n",
        "    def __init__(self, vocab_size, sequence_length, h, d_k, d_v, d_model, d_ff, n, rate, **kwargs):\n",
        "        super(Decoder, self).__init__(**kwargs)\n",
        "        self.pos_encoding = PositionEmbeddingFixedWeights(sequence_length, vocab_size, d_model)\n",
        "        self.dropout = tf.keras.layers.Dropout(rate)\n",
        "        self.decoder_layer = [DecoderLayer(sequence_length, h, d_k, d_v, d_model, d_ff, rate) for _ in range(n)]\n",
        " \n",
        "    def call(self, output_target, encoder_output, lookahead_mask, padding_mask, training):\n",
        "        # Generate the positional encoding\n",
        "        pos_encoding_output = self.pos_encoding(output_target)\n",
        "        # Expected output shape = (number of sentences, sequence_length, d_model)\n",
        " \n",
        "        # Add in a dropout layer\n",
        "        x = self.dropout(pos_encoding_output, training=training)\n",
        " \n",
        "        # Pass on the positional encoded values to each encoder layer\n",
        "        for i, layer in enumerate(self.decoder_layer):\n",
        "            x = layer(x, encoder_output, lookahead_mask, padding_mask, training)\n",
        " \n",
        "        return x"
      ],
      "metadata": {
        "id": "042ffB9v709H"
      },
      "execution_count": 20,
      "outputs": []
    },
    {
      "cell_type": "markdown",
      "source": [
        "#### Testing Out the Code"
      ],
      "metadata": {
        "id": "TUB1PQ-S76-p"
      }
    },
    {
      "cell_type": "code",
      "source": [
        "import numpy as np\n",
        "# from numpy import random\n",
        " \n",
        "dec_vocab_size = 20  # Vocabulary size for the decoder\n",
        "input_seq_length = 5  # Maximum length of the input sequence\n",
        "h = 8  # Number of self-attention heads\n",
        "d_k = 64  # Dimensionality of the linearly projected queries and keys\n",
        "d_v = 64  # Dimensionality of the linearly projected values\n",
        "d_ff = 2048  # Dimensionality of the inner fully connected layer\n",
        "d_model = 512  # Dimensionality of the model sub-layers' outputs\n",
        "n = 6  # Number of layers in the decoder stack\n",
        " \n",
        "batch_size = 64  # Batch size from the training process\n",
        "dropout_rate = 0.1  # Frequency of dropping the input units in the dropout layers\n",
        " \n",
        "input_seq = np.random.random((batch_size, input_seq_length))\n",
        "enc_output = np.random.random((batch_size, input_seq_length, d_model))\n",
        " \n",
        "decoder = Decoder(dec_vocab_size, input_seq_length, h, d_k, d_v, d_model, d_ff, n, dropout_rate)\n",
        "print(decoder(input_seq, enc_output, None, True))"
      ],
      "metadata": {
        "id": "jxuNv_oB_szL",
        "colab": {
          "base_uri": "https://localhost:8080/"
        },
        "outputId": "633e25ac-e27c-4f24-ae3b-448187e9cd49"
      },
      "execution_count": 21,
      "outputs": [
        {
          "output_type": "stream",
          "name": "stdout",
          "text": [
            "tf.Tensor(\n",
            "[[[-1.2556648   0.5240724   0.45565352 ...  0.12321148 -0.5116821\n",
            "    0.35534087]\n",
            "  [-1.1213216   0.43913886  0.54584855 ...  0.11843275 -0.5181516\n",
            "    0.294182  ]\n",
            "  [-1.0704263   0.31496334  0.57750046 ...  0.11462958 -0.51452535\n",
            "    0.25321156]\n",
            "  [-1.1206017   0.21533681  0.5305978  ...  0.10602295 -0.49268055\n",
            "    0.25585756]\n",
            "  [-1.2067827   0.19840121  0.4584211  ...  0.07858987 -0.4461658\n",
            "    0.29954752]]\n",
            "\n",
            " [[-0.8105176   0.38516626  0.80646914 ...  0.06318504 -0.12942152\n",
            "    0.33833182]\n",
            "  [-0.6703304   0.30299225  0.90419877 ...  0.07065903 -0.12214505\n",
            "    0.2960774 ]\n",
            "  [-0.6253582   0.15751527  0.94208497 ...  0.08409728 -0.10932003\n",
            "    0.2641535 ]\n",
            "  [-0.68516845  0.04228818  0.9039742  ...  0.07946574 -0.09798248\n",
            "    0.24861811]\n",
            "  [-0.7848989   0.00894842  0.8042033  ...  0.04633076 -0.08237212\n",
            "    0.27152687]]\n",
            "\n",
            " [[-1.3859762   0.3049842   0.7054542  ...  0.38549337 -0.3479813\n",
            "    0.43987784]\n",
            "  [-1.2534497   0.23012665  0.8056217  ...  0.36594343 -0.35115722\n",
            "    0.38669935]\n",
            "  [-1.2158172   0.0957543   0.8390605  ...  0.36276752 -0.3484791\n",
            "    0.34960404]\n",
            "  [-1.2941445  -0.01318671  0.7758905  ...  0.3474559  -0.33603707\n",
            "    0.32452884]\n",
            "  [-1.3981185  -0.02337768  0.68531543 ...  0.32708076 -0.29375347\n",
            "    0.3605838 ]]\n",
            "\n",
            " ...\n",
            "\n",
            " [[-1.1861169   0.27279207  0.7805879  ...  0.13030787 -0.5137193\n",
            "    0.7257778 ]\n",
            "  [-1.0446601   0.17903382  0.90620327 ...  0.11735898 -0.5190332\n",
            "    0.669011  ]\n",
            "  [-1.0036609   0.03320027  0.9397958  ...  0.11556926 -0.5271427\n",
            "    0.6290104 ]\n",
            "  [-1.071036   -0.06351589  0.87158924 ...  0.12794894 -0.52194554\n",
            "    0.6075264 ]\n",
            "  [-1.1837418  -0.06954537  0.77389914 ...  0.14170425 -0.48785105\n",
            "    0.6425268 ]]\n",
            "\n",
            " [[-1.2607793   0.37928072  0.49014702 ...  0.11433768 -0.21500367\n",
            "    0.07627977]\n",
            "  [-1.1200049   0.28465396  0.59206533 ...  0.0982495  -0.21187788\n",
            "    0.024474  ]\n",
            "  [-1.0857532   0.13487579  0.63394505 ...  0.0971737  -0.21188243\n",
            "   -0.01797024]\n",
            "  [-1.1550368   0.013871    0.5924219  ...  0.09283569 -0.21260457\n",
            "   -0.03071766]\n",
            "  [-1.2555748   0.00295165  0.50769573 ...  0.06886929 -0.19990198\n",
            "    0.01640149]]\n",
            "\n",
            " [[-1.2893242   0.2075773   0.46081674 ...  0.26117626 -0.541089\n",
            "    0.24635652]\n",
            "  [-1.1629263   0.11822276  0.5493091  ...  0.23984936 -0.5594927\n",
            "    0.1830872 ]\n",
            "  [-1.1334602  -0.00873818  0.5845524  ...  0.23223387 -0.5629747\n",
            "    0.15380415]\n",
            "  [-1.2004578  -0.09583603  0.54378897 ...  0.2328459  -0.5505891\n",
            "    0.15708527]\n",
            "  [-1.2950954  -0.10745496  0.45980376 ...  0.21690857 -0.48740748\n",
            "    0.20369016]]], shape=(64, 5, 512), dtype=float32)\n"
          ]
        }
      ]
    },
    {
      "cell_type": "markdown",
      "source": [
        "## Merging Transformer Encoder and Decoder"
      ],
      "metadata": {
        "id": "dmYVeCkHIkpA"
      }
    },
    {
      "cell_type": "markdown",
      "source": [
        "https://machinelearningmastery.com/joining-the-transformer-encoder-and-decoder-and-masking/"
      ],
      "metadata": {
        "id": "sY-CordxIxm6"
      }
    },
    {
      "cell_type": "code",
      "source": [
        "import tensorflow as tf\n",
        "# from encoder import Encoder\n",
        "# from decoder import Decoder\n",
        "\n",
        "# from tensorflow import math, cast, float32, linalg, ones, maximum, newaxis\n",
        "# from tensorflow.keras import Model\n",
        "# from tensorflow.keras.layers import Dense\n",
        " \n",
        " \n",
        "class TransformerModel(tf.keras.Model):\n",
        "    def __init__(self, enc_vocab_size, dec_vocab_size, enc_seq_length, dec_seq_length, h, d_k, d_v, d_model, d_ff_inner, n, rate, **kwargs):\n",
        "        super(TransformerModel, self).__init__(**kwargs)\n",
        " \n",
        "        # Set up the encoder\n",
        "        self.encoder = Encoder(enc_vocab_size, enc_seq_length, h, d_k, d_v, d_model, d_ff_inner, n, rate)\n",
        " \n",
        "        # Set up the decoder\n",
        "        self.decoder = Decoder(dec_vocab_size, dec_seq_length, h, d_k, d_v, d_model, d_ff_inner, n, rate)\n",
        " \n",
        "        # Define the final dense layer\n",
        "        self.model_last_layer = tf.keras.layers.Dense(dec_vocab_size)\n",
        " \n",
        "    def padding_mask(self, input):\n",
        "        # Create mask which marks the zero padding values in the input by a 1.0\n",
        "        mask = tf.math.equal(input, 0)\n",
        "        mask = tf.cast(mask, tf.float32)\n",
        " \n",
        "        # The shape of the mask should be broadcastable to the shape\n",
        "        # of the attention weights that it will be masking later on\n",
        "        return mask[:, tf.newaxis, tf.newaxis, :]\n",
        " \n",
        "    def lookahead_mask(self, shape):\n",
        "        # Mask out future entries by marking them with a 1.0\n",
        "        mask = 1 - tf.linalg.band_part(tf.ones((shape, shape)), -1, 0)\n",
        " \n",
        "        return mask\n",
        " \n",
        "    def call(self, encoder_input, decoder_input, training):\n",
        " \n",
        "        # Create padding mask to mask the encoder inputs and the encoder outputs in the decoder\n",
        "        enc_padding_mask = self.padding_mask(encoder_input)\n",
        " \n",
        "        # Create and combine padding and look-ahead masks to be fed into the decoder\n",
        "        dec_in_padding_mask = self.padding_mask(decoder_input)\n",
        "        dec_in_lookahead_mask = self.lookahead_mask(decoder_input.shape[1])\n",
        "        dec_in_lookahead_mask = tf.maximum(dec_in_padding_mask, dec_in_lookahead_mask)\n",
        " \n",
        "        # Feed the input into the encoder\n",
        "        encoder_output = self.encoder(encoder_input, enc_padding_mask, training)\n",
        " \n",
        "        # Feed the encoder output into the decoder\n",
        "        decoder_output = self.decoder(decoder_input, encoder_output, dec_in_lookahead_mask, enc_padding_mask, training)\n",
        " \n",
        "        # Pass the decoder output through a final dense layer\n",
        "        model_output = self.model_last_layer(decoder_output)\n",
        " \n",
        "        return model_output"
      ],
      "metadata": {
        "id": "Pjjuej3rIyCt"
      },
      "execution_count": 22,
      "outputs": []
    },
    {
      "cell_type": "code",
      "source": [
        "enc_vocab_size = 2405 # Vocabulary size for the encoder\n",
        "dec_vocab_size = 3858 # Vocabulary size for the decoder\n",
        "\n",
        "enc_seq_length = 5  # Maximum length of the input sequence\n",
        "dec_seq_length = 5  # Maximum length of the target sequence\n",
        "\n",
        "h = 8  # Number of self-attention heads\n",
        "d_k = 64  # Dimensionality of the linearly projected queries and keys\n",
        "d_v = 64  # Dimensionality of the linearly projected values\n",
        "d_ff = 2048  # Dimensionality of the inner fully connected layer\n",
        "d_model = 512  # Dimensionality of the model sub-layers' outputs\n",
        "n = 6  # Number of layers in the encoder stack\n",
        "\n",
        "dropout_rate = 0.1  # Frequency of dropping the input units in the dropout layers\n",
        "\n",
        "# Create model\n",
        "training_model = TransformerModel(enc_vocab_size, dec_vocab_size, enc_seq_length, dec_seq_length, h, d_k, d_v, d_model, d_ff, n, dropout_rate)"
      ],
      "metadata": {
        "id": "pjmpypfu_3U3"
      },
      "execution_count": 23,
      "outputs": []
    },
    {
      "cell_type": "code",
      "source": [
        "# from encoder import EncoderLayer\n",
        "# from decoder import DecoderLayer\n",
        " \n",
        "encoder = EncoderLayer(enc_seq_length, h, d_k, d_v, d_model, d_ff, dropout_rate)\n",
        "encoder.build_graph().summary()\n",
        " \n",
        "decoder = DecoderLayer(dec_seq_length, h, d_k, d_v, d_model, d_ff, dropout_rate)\n",
        "decoder.build_graph().summary()"
      ],
      "metadata": {
        "id": "uMCb8QnBAqXe",
        "colab": {
          "base_uri": "https://localhost:8080/"
        },
        "outputId": "04df5555-ab76-4e1b-8ea8-4b91a4b07254"
      },
      "execution_count": 24,
      "outputs": [
        {
          "output_type": "stream",
          "name": "stdout",
          "text": [
            "Model: \"model\"\n",
            "__________________________________________________________________________________________________\n",
            " Layer (type)                   Output Shape         Param #     Connected to                     \n",
            "==================================================================================================\n",
            " input_1 (InputLayer)           [(None, 5, 512)]     0           []                               \n",
            "                                                                                                  \n",
            " multi_head_attention_37 (Multi  (None, 5, 512)      131776      ['input_1[0][0]',                \n",
            " HeadAttention)                                                   'input_1[0][0]',                \n",
            "                                                                  'input_1[0][0]']                \n",
            "                                                                                                  \n",
            " dropout_64 (Dropout)           (None, 5, 512)       0           ['multi_head_attention_37[0][0]']\n",
            "                                                                                                  \n",
            " add_normalization_60 (AddNorma  (None, 5, 512)      1024        ['input_1[0][0]',                \n",
            " lization)                                                        'dropout_64[0][0]']             \n",
            "                                                                                                  \n",
            " feed_forward_24 (FeedForward)  (None, 5, 512)       2099712     ['add_normalization_60[0][0]']   \n",
            "                                                                                                  \n",
            " dropout_65 (Dropout)           (None, 5, 512)       0           ['feed_forward_24[0][0]']        \n",
            "                                                                                                  \n",
            " add_normalization_61 (AddNorma  (None, 5, 512)      1024        ['add_normalization_60[0][0]',   \n",
            " lization)                                                        'dropout_65[0][0]']             \n",
            "                                                                                                  \n",
            "==================================================================================================\n",
            "Total params: 2,233,536\n",
            "Trainable params: 2,233,536\n",
            "Non-trainable params: 0\n",
            "__________________________________________________________________________________________________\n",
            "Model: \"model_1\"\n",
            "__________________________________________________________________________________________________\n",
            " Layer (type)                   Output Shape         Param #     Connected to                     \n",
            "==================================================================================================\n",
            " input_2 (InputLayer)           [(None, 5, 512)]     0           []                               \n",
            "                                                                                                  \n",
            " multi_head_attention_38 (Multi  (None, 5, 512)      131776      ['input_2[0][0]',                \n",
            " HeadAttention)                                                   'input_2[0][0]',                \n",
            "                                                                  'input_2[0][0]']                \n",
            "                                                                                                  \n",
            " dropout_66 (Dropout)           (None, 5, 512)       0           ['multi_head_attention_38[0][0]']\n",
            "                                                                                                  \n",
            " add_normalization_62 (AddNorma  (None, 5, 512)      1024        ['input_2[0][0]',                \n",
            " lization)                                                        'dropout_66[0][0]',             \n",
            "                                                                  'add_normalization_62[0][0]',   \n",
            "                                                                  'dropout_67[0][0]']             \n",
            "                                                                                                  \n",
            " multi_head_attention_39 (Multi  (None, 5, 512)      131776      ['add_normalization_62[0][0]',   \n",
            " HeadAttention)                                                   'input_2[0][0]',                \n",
            "                                                                  'input_2[0][0]']                \n",
            "                                                                                                  \n",
            " dropout_67 (Dropout)           (None, 5, 512)       0           ['multi_head_attention_39[0][0]']\n",
            "                                                                                                  \n",
            " feed_forward_25 (FeedForward)  (None, 5, 512)       2099712     ['add_normalization_62[1][0]']   \n",
            "                                                                                                  \n",
            " dropout_68 (Dropout)           (None, 5, 512)       0           ['feed_forward_25[0][0]']        \n",
            "                                                                                                  \n",
            " add_normalization_64 (AddNorma  (None, 5, 512)      1024        ['add_normalization_62[1][0]',   \n",
            " lization)                                                        'dropout_68[0][0]']             \n",
            "                                                                                                  \n",
            "==================================================================================================\n",
            "Total params: 2,365,312\n",
            "Trainable params: 2,365,312\n",
            "Non-trainable params: 0\n",
            "__________________________________________________________________________________________________\n"
          ]
        }
      ]
    },
    {
      "cell_type": "markdown",
      "source": [
        "## Transformer Training"
      ],
      "metadata": {
        "id": "zh2wBzZ9Io7n"
      }
    },
    {
      "cell_type": "markdown",
      "source": [
        "References:\n",
        "- https://machinelearningmastery.com/training-the-transformer-model/\n",
        "https://machinelearningmastery.com/plotting-the-training-and-validation-loss-curves-for-the-transformer-model/"
      ],
      "metadata": {
        "id": "Z3j4-tchJHLG"
      }
    },
    {
      "cell_type": "code",
      "source": [
        "import pickle\n",
        "import numpy as np\n",
        "import tensorflow as tf\n",
        "# from pickle import load, dump, HIGHEST_PROTOCOL\n",
        "# from numpy.random import shuffle\n",
        "# from numpy import savetxt\n",
        "# from keras.preprocessing.text import Tokenizer\n",
        "# # from keras.preprocessing.sequence import pad_sequences\n",
        "# from keras.utils import pad_sequences\n",
        "# from tensorflow import convert_to_tensor, int64\n",
        " \n",
        "class PrepareDataset:\n",
        "    def __init__(self, **kwargs):\n",
        "        super(PrepareDataset, self).__init__(**kwargs)\n",
        "        self.n_sentences = 15000  # Number of sentences to include in the dataset\n",
        "        self.train_split = 0.8  # Ratio of the training data split\n",
        "        self.val_split = 0.1  # Ratio of the validation data split\n",
        " \n",
        "    # Fit a tokenizer\n",
        "    def create_tokenizer(self, dataset):\n",
        "        tokenizer = tf.keras.preprocessing.text.Tokenizer()\n",
        "        tokenizer.fit_on_texts(dataset)\n",
        " \n",
        "        return tokenizer\n",
        " \n",
        "    def find_seq_length(self, dataset):\n",
        "        return max(len(seq.split()) for seq in dataset)\n",
        " \n",
        "    def find_vocab_size(self, tokenizer, dataset):\n",
        "        tokenizer.fit_on_texts(dataset)\n",
        " \n",
        "        return len(tokenizer.word_index) + 1\n",
        " \n",
        "    # Encode and pad the input sequences\n",
        "    def encode_pad(self, dataset, tokenizer, seq_length):\n",
        "        x = tokenizer.texts_to_sequences(dataset)\n",
        "        x = tf.keras.utils.pad_sequences(x, maxlen=seq_length, padding='post')\n",
        "        x = tf.convert_to_tensor(x, dtype=tf.int64)\n",
        " \n",
        "        return x\n",
        " \n",
        "    def save_tokenizer(self, tokenizer, name):\n",
        "        with open(name + '_tokenizer.pkl', 'wb') as handle:\n",
        "            pickle.dump(tokenizer, handle, protocol=pickle.HIGHEST_PROTOCOL)\n",
        " \n",
        "    def __call__(self, filename, **kwargs):\n",
        "        # Load a clean dataset\n",
        "        clean_dataset = pickle.load(open(filename, 'rb'))\n",
        " \n",
        "        # Reduce dataset size\n",
        "        dataset = clean_dataset[:self.n_sentences, :]\n",
        " \n",
        "        # Include start and end of string tokens\n",
        "        for i in range(dataset[:, 0].size):\n",
        "            dataset[i, 0] = \"<START> \" + dataset[i, 0] + \" <EOS>\"\n",
        "            dataset[i, 1] = \"<START> \" + dataset[i, 1] + \" <EOS>\"\n",
        " \n",
        "        # Random shuffle the dataset\n",
        "        np.random.shuffle(dataset)\n",
        " \n",
        "        # Split the dataset in training, validation and test sets\n",
        "        train = dataset[:int(self.n_sentences * self.train_split)]\n",
        "        val = dataset[int(self.n_sentences * self.train_split):int(self.n_sentences * (1-self.val_split))]\n",
        "        test = dataset[int(self.n_sentences * (1 - self.val_split)):]\n",
        " \n",
        "        # Prepare tokenizer for the encoder input\n",
        "        enc_tokenizer = self.create_tokenizer(dataset[:, 0])\n",
        "        enc_seq_length = self.find_seq_length(dataset[:, 0])\n",
        "        enc_vocab_size = self.find_vocab_size(enc_tokenizer, train[:, 0])\n",
        " \n",
        "        # Prepare tokenizer for the decoder input\n",
        "        dec_tokenizer = self.create_tokenizer(dataset[:, 1])\n",
        "        dec_seq_length = self.find_seq_length(dataset[:, 1])\n",
        "        dec_vocab_size = self.find_vocab_size(dec_tokenizer, train[:, 1])\n",
        " \n",
        "        # Encode and pad the training input\n",
        "        trainX = self.encode_pad(train[:, 0], enc_tokenizer, enc_seq_length)\n",
        "        trainY = self.encode_pad(train[:, 1], dec_tokenizer, dec_seq_length)\n",
        " \n",
        "        # Encode and pad the validation input\n",
        "        valX = self.encode_pad(val[:, 0], enc_tokenizer, enc_seq_length)\n",
        "        valY = self.encode_pad(val[:, 1], dec_tokenizer, dec_seq_length)\n",
        " \n",
        "        # Save the encoder tokenizer\n",
        "        self.save_tokenizer(enc_tokenizer, 'enc')\n",
        " \n",
        "        # Save the decoder tokenizer\n",
        "        self.save_tokenizer(dec_tokenizer, 'dec')\n",
        " \n",
        "        # Save the testing dataset into a text file\n",
        "        np.savetxt('test_dataset.txt', test, fmt='%s')\n",
        " \n",
        "        return trainX, trainY, valX, valY, train, val, enc_seq_length, dec_seq_length, enc_vocab_size, dec_vocab_size"
      ],
      "metadata": {
        "id": "qitcIA1VJwiw"
      },
      "execution_count": 25,
      "outputs": []
    },
    {
      "cell_type": "code",
      "source": [
        "import tensorflow as tf\n",
        "# from tensorflow.keras.optimizers import Adam\n",
        "# from tensorflow.keras.optimizers.schedules import LearningRateSchedule\n",
        "# from tensorflow.keras.metrics import Mean\n",
        "# from tensorflow import data, train, math, reduce_sum, cast, equal, argmax, float32, GradientTape, function\n",
        "# from keras.losses import sparse_categorical_crossentropy\n",
        "# # from model import TransformerModel\n",
        "# # from prepare_dataset import PrepareDataset\n",
        "\n",
        "import time\n",
        "import pickle\n",
        "# from time import time\n",
        "# from pickle import dump\n",
        " \n",
        " \n",
        "# Define the model parameters\n",
        "h = 8  # Number of self-attention heads\n",
        "d_k = 64  # Dimensionality of the linearly projected queries and keys\n",
        "d_v = 64  # Dimensionality of the linearly projected values\n",
        "d_model = 512  # Dimensionality of model layers' outputs\n",
        "d_ff = 2048  # Dimensionality of the inner fully connected layer\n",
        "n = 6  # Number of layers in the encoder stack\n",
        " \n",
        "# Define the training parameters\n",
        "epochs = 20\n",
        "batch_size = 64\n",
        "beta_1 = 0.9\n",
        "beta_2 = 0.98\n",
        "epsilon = 1e-9\n",
        "dropout_rate = 0.1\n",
        " \n",
        " \n",
        "# Implementing a learning rate scheduler\n",
        "class LRScheduler(tf.keras.optimizers.schedules.LearningRateSchedule):\n",
        "    def __init__(self, d_model, warmup_steps=4000, **kwargs):\n",
        "        super(LRScheduler, self).__init__(**kwargs)\n",
        " \n",
        "        self.d_model = tf.cast(d_model, tf.float32)\n",
        "        self.warmup_steps = warmup_steps\n",
        " \n",
        "    def __call__(self, step_num):\n",
        " \n",
        "        # Linearly increasing the learning rate for the first warmup_steps, and decreasing it thereafter\n",
        "        arg1 = step_num ** -0.5\n",
        "        arg2 = step_num * (self.warmup_steps ** -1.5)\n",
        " \n",
        "        return (self.d_model ** -0.5) * tf.math.minimum(arg1, arg2)\n",
        " \n",
        " \n",
        "# Instantiate an Adam optimizer\n",
        "optimizer = tf.keras.optimizers.Adam(LRScheduler(d_model), beta_1, beta_2, epsilon)\n",
        " \n",
        "# Prepare the training dataset\n",
        "dataset = PrepareDataset()\n",
        "trainX, trainY, valX, valY, train_orig, val_orig, enc_seq_length, dec_seq_length, enc_vocab_size, dec_vocab_size = dataset('english-german.pkl')\n",
        " \n",
        "print(enc_seq_length, dec_seq_length, enc_vocab_size, dec_vocab_size)\n",
        " \n",
        "# Prepare the training dataset batches\n",
        "train_dataset = tf.data.Dataset.from_tensor_slices((trainX, trainY))\n",
        "train_dataset = train_dataset.batch(batch_size)\n",
        " \n",
        "# Prepare the validation dataset batches\n",
        "val_dataset = tf.data.Dataset.from_tensor_slices((valX, valY))\n",
        "val_dataset = val_dataset.batch(batch_size)\n",
        " \n",
        "# Create model\n",
        "training_model = TransformerModel(enc_vocab_size, dec_vocab_size, enc_seq_length, dec_seq_length, h, d_k, d_v, d_model, d_ff, n, dropout_rate)\n",
        " \n",
        " \n",
        "# Defining the loss function\n",
        "def loss_fcn(target, prediction):\n",
        "    # Create mask so that the zero padding values are not included in the computation of loss\n",
        "    padding_mask = tf.math.logical_not(tf.equal(target, 0))\n",
        "    padding_mask = tf.cast(padding_mask, tf.float32)\n",
        " \n",
        "    # Compute a sparse categorical cross-entropy loss on the unmasked values\n",
        "    loss = tf.keras.metrics.sparse_categorical_crossentropy(target, prediction, from_logits=True) * padding_mask\n",
        " \n",
        "    # Compute the mean loss over the unmasked values\n",
        "    return tf.reduce_sum(loss) / tf.reduce_sum(padding_mask)\n",
        " \n",
        " \n",
        "# Defining the accuracy function\n",
        "def accuracy_fcn(target, prediction):\n",
        "    # Create mask so that the zero padding values are not included in the computation of accuracy\n",
        "    padding_mask = tf.math.logical_not(tf.equal(target, 0))\n",
        " \n",
        "    # Find equal prediction and target values, and apply the padding mask\n",
        "    accuracy = tf.equal(target, tf.argmax(prediction, axis=2))\n",
        "    accuracy = tf.math.logical_and(padding_mask, accuracy)\n",
        " \n",
        "    # Cast the True/False values to 32-bit-precision floating-point numbers\n",
        "    padding_mask = tf.cast(padding_mask, tf.float32)\n",
        "    accuracy = tf.cast(accuracy, tf.float32)\n",
        " \n",
        "    # Compute the mean accuracy over the unmasked values\n",
        "    return tf.reduce_sum(accuracy) / tf.reduce_sum(padding_mask)\n",
        " \n",
        " \n",
        "# Include metrics monitoring\n",
        "train_loss = tf.keras.metrics.Mean(name='train_loss')\n",
        "train_accuracy = tf.keras.metrics.Mean(name='train_accuracy')\n",
        "val_loss = tf.keras.metrics.Mean(name='val_loss')\n",
        " \n",
        "# Create a checkpoint object and manager to manage multiple checkpoints\n",
        "ckpt = tf.train.Checkpoint(model=training_model, optimizer=optimizer)\n",
        "ckpt_manager = tf.train.CheckpointManager(ckpt, \"./checkpoints\", max_to_keep=None)\n",
        " \n",
        "# Initialise dictionaries to store the training and validation losses\n",
        "train_loss_dict = {}\n",
        "val_loss_dict = {}\n",
        " \n",
        "# Speeding up the training process\n",
        "@tf.function\n",
        "def train_step(encoder_input, decoder_input, decoder_output):\n",
        "    with tf.GradientTape() as tape:\n",
        " \n",
        "        # Run the forward pass of the model to generate a prediction\n",
        "        prediction = training_model(encoder_input, decoder_input, training=True)\n",
        " \n",
        "        # Compute the training loss\n",
        "        loss = loss_fcn(decoder_output, prediction)\n",
        " \n",
        "        # Compute the training accuracy\n",
        "        accuracy = accuracy_fcn(decoder_output, prediction)\n",
        " \n",
        "    # Retrieve gradients of the trainable variables with respect to the training loss\n",
        "    gradients = tape.gradient(loss, training_model.trainable_weights)\n",
        " \n",
        "    # Update the values of the trainable variables by gradient descent\n",
        "    optimizer.apply_gradients(zip(gradients, training_model.trainable_weights))\n",
        " \n",
        "    train_loss(loss)\n",
        "    train_accuracy(accuracy)\n",
        " \n",
        " \n",
        "for epoch in range(epochs):\n",
        " \n",
        "    train_loss.reset_states()\n",
        "    train_accuracy.reset_states()\n",
        "    val_loss.reset_states()\n",
        " \n",
        "    print(\"\\nStart of epoch %d\" % (epoch + 1))\n",
        " \n",
        "    start_time = time.time()\n",
        " \n",
        "    # Iterate over the dataset batches\n",
        "    for step, (train_batchX, train_batchY) in enumerate(train_dataset):\n",
        " \n",
        "        # Define the encoder and decoder inputs, and the decoder output\n",
        "        encoder_input = train_batchX[:, 1:]\n",
        "        decoder_input = train_batchY[:, :-1]\n",
        "        decoder_output = train_batchY[:, 1:]\n",
        " \n",
        "        train_step(encoder_input, decoder_input, decoder_output)\n",
        " \n",
        "        if step % 50 == 0:\n",
        "            print(f'Epoch {epoch + 1} Step {step} Loss {train_loss.result():.4f} Accuracy {train_accuracy.result():.4f}')\n",
        " \n",
        "    # Run a validation step after every epoch of training\n",
        "    for val_batchX, val_batchY in val_dataset:\n",
        " \n",
        "        # Define the encoder and decoder inputs, and the decoder output\n",
        "        encoder_input = val_batchX[:, 1:]\n",
        "        decoder_input = val_batchY[:, :-1]\n",
        "        decoder_output = val_batchY[:, 1:]\n",
        " \n",
        "        # Generate a prediction\n",
        "        prediction = training_model(encoder_input, decoder_input, training=False)\n",
        " \n",
        "        # Compute the validation loss\n",
        "        loss = loss_fcn(decoder_output, prediction)\n",
        "        val_loss(loss)\n",
        " \n",
        "    # Print epoch number and accuracy and loss values at the end of every epoch\n",
        "    print(\"Epoch %d: Training Loss %.4f, Training Accuracy %.4f, Validation Loss %.4f\" % (epoch + 1, train_loss.result(), train_accuracy.result(), val_loss.result()))\n",
        " \n",
        "    # Save a checkpoint after every epoch\n",
        "    if (epoch + 1) % 1 == 0:\n",
        " \n",
        "        save_path = ckpt_manager.save()\n",
        "        print(\"Saved checkpoint at epoch %d\" % (epoch + 1))\n",
        " \n",
        "        # Save the trained model weights\n",
        "        training_model.save_weights(\"weights/wghts\" + str(epoch + 1) + \".ckpt\")\n",
        " \n",
        "        train_loss_dict[epoch] = train_loss.result()\n",
        "        val_loss_dict[epoch] = val_loss.result()\n",
        " \n",
        "# Save the training loss values\n",
        "with open('./train_loss.pkl', 'wb') as file:\n",
        "    pickle.dump(train_loss_dict, file)\n",
        " \n",
        "# Save the validation loss values\n",
        "with open('./val_loss.pkl', 'wb') as file:\n",
        "    pickle.dump(val_loss_dict, file)\n",
        " \n",
        "print(\"Total time taken: %.2fs\" % (time.time() - start_time))"
      ],
      "metadata": {
        "id": "EekTrQ-bJIa7",
        "colab": {
          "base_uri": "https://localhost:8080/"
        },
        "outputId": "26dc8549-fa29-4d0c-ee84-c868b4bfccf2"
      },
      "execution_count": 26,
      "outputs": [
        {
          "output_type": "stream",
          "name": "stdout",
          "text": [
            "8 12 3167 5065\n",
            "\n",
            "Start of epoch 1\n",
            "Epoch 1 Step 0 Loss 8.6665 Accuracy 0.0033\n",
            "Epoch 1 Step 50 Loss 7.9778 Accuracy 0.1309\n",
            "Epoch 1 Step 100 Loss 7.3964 Accuracy 0.1711\n",
            "Epoch 1 Step 150 Loss 7.0080 Accuracy 0.1898\n",
            "Epoch 1: Training Loss 6.7642, Training Accuracy 0.2027, Validation Loss 5.5930\n",
            "Saved checkpoint at epoch 1\n",
            "\n",
            "Start of epoch 2\n",
            "Epoch 2 Step 0 Loss 5.6477 Accuracy 0.2575\n",
            "Epoch 2 Step 50 Loss 5.4198 Accuracy 0.2705\n",
            "Epoch 2 Step 100 Loss 5.2605 Accuracy 0.2759\n",
            "Epoch 2 Step 150 Loss 5.1160 Accuracy 0.2845\n",
            "Epoch 2: Training Loss 5.0304, Training Accuracy 0.2910, Validation Loss 4.6085\n",
            "Saved checkpoint at epoch 2\n",
            "\n",
            "Start of epoch 3\n",
            "Epoch 3 Step 0 Loss 4.6563 Accuracy 0.3378\n",
            "Epoch 3 Step 50 Loss 4.5045 Accuracy 0.3446\n",
            "Epoch 3 Step 100 Loss 4.4283 Accuracy 0.3549\n",
            "Epoch 3 Step 150 Loss 4.3424 Accuracy 0.3650\n",
            "Epoch 3: Training Loss 4.2897, Training Accuracy 0.3704, Validation Loss 4.0977\n",
            "Saved checkpoint at epoch 3\n",
            "\n",
            "Start of epoch 4\n",
            "Epoch 4 Step 0 Loss 4.1365 Accuracy 0.4147\n",
            "Epoch 4 Step 50 Loss 3.9649 Accuracy 0.4105\n",
            "Epoch 4 Step 100 Loss 3.9166 Accuracy 0.4142\n",
            "Epoch 4 Step 150 Loss 3.8503 Accuracy 0.4211\n",
            "Epoch 4: Training Loss 3.8107, Training Accuracy 0.4253, Validation Loss 3.7734\n",
            "Saved checkpoint at epoch 4\n",
            "\n",
            "Start of epoch 5\n",
            "Epoch 5 Step 0 Loss 3.7397 Accuracy 0.4281\n",
            "Epoch 5 Step 50 Loss 3.5460 Accuracy 0.4603\n",
            "Epoch 5 Step 100 Loss 3.5137 Accuracy 0.4579\n",
            "Epoch 5 Step 150 Loss 3.4528 Accuracy 0.4640\n",
            "Epoch 5: Training Loss 3.4192, Training Accuracy 0.4670, Validation Loss 3.5169\n",
            "Saved checkpoint at epoch 5\n",
            "\n",
            "Start of epoch 6\n",
            "Epoch 6 Step 0 Loss 3.3105 Accuracy 0.4582\n",
            "Epoch 6 Step 50 Loss 3.2088 Accuracy 0.4889\n",
            "Epoch 6 Step 100 Loss 3.1871 Accuracy 0.4896\n",
            "Epoch 6 Step 150 Loss 3.1329 Accuracy 0.4947\n",
            "Epoch 6: Training Loss 3.1002, Training Accuracy 0.4975, Validation Loss 3.3428\n",
            "Saved checkpoint at epoch 6\n",
            "\n",
            "Start of epoch 7\n",
            "Epoch 7 Step 0 Loss 3.0428 Accuracy 0.4883\n",
            "Epoch 7 Step 50 Loss 2.9273 Accuracy 0.5124\n",
            "Epoch 7 Step 100 Loss 2.9045 Accuracy 0.5145\n",
            "Epoch 7 Step 150 Loss 2.8516 Accuracy 0.5183\n",
            "Epoch 7: Training Loss 2.8239, Training Accuracy 0.5205, Validation Loss 3.1723\n",
            "Saved checkpoint at epoch 7\n",
            "\n",
            "Start of epoch 8\n",
            "Epoch 8 Step 0 Loss 2.7550 Accuracy 0.5284\n",
            "Epoch 8 Step 50 Loss 2.6635 Accuracy 0.5385\n",
            "Epoch 8 Step 100 Loss 2.6470 Accuracy 0.5402\n",
            "Epoch 8 Step 150 Loss 2.5947 Accuracy 0.5442\n",
            "Epoch 8: Training Loss 2.5697, Training Accuracy 0.5466, Validation Loss 3.0112\n",
            "Saved checkpoint at epoch 8\n",
            "\n",
            "Start of epoch 9\n",
            "Epoch 9 Step 0 Loss 2.4890 Accuracy 0.5552\n",
            "Epoch 9 Step 50 Loss 2.4287 Accuracy 0.5612\n",
            "Epoch 9 Step 100 Loss 2.4073 Accuracy 0.5609\n",
            "Epoch 9 Step 150 Loss 2.3629 Accuracy 0.5659\n",
            "Epoch 9: Training Loss 2.3335, Training Accuracy 0.5698, Validation Loss 2.8880\n",
            "Saved checkpoint at epoch 9\n",
            "\n",
            "Start of epoch 10\n",
            "Epoch 10 Step 0 Loss 2.2472 Accuracy 0.5686\n",
            "Epoch 10 Step 50 Loss 2.2194 Accuracy 0.5819\n",
            "Epoch 10 Step 100 Loss 2.1782 Accuracy 0.5868\n",
            "Epoch 10 Step 150 Loss 2.1400 Accuracy 0.5901\n",
            "Epoch 10: Training Loss 2.1109, Training Accuracy 0.5947, Validation Loss 2.7890\n",
            "Saved checkpoint at epoch 10\n",
            "\n",
            "Start of epoch 11\n",
            "Epoch 11 Step 0 Loss 2.0749 Accuracy 0.5953\n",
            "Epoch 11 Step 50 Loss 1.9977 Accuracy 0.6073\n",
            "Epoch 11 Step 100 Loss 1.9702 Accuracy 0.6105\n",
            "Epoch 11 Step 150 Loss 1.9212 Accuracy 0.6168\n",
            "Epoch 11: Training Loss 1.8898, Training Accuracy 0.6214, Validation Loss 2.7134\n",
            "Saved checkpoint at epoch 11\n",
            "\n",
            "Start of epoch 12\n",
            "Epoch 12 Step 0 Loss 1.7594 Accuracy 0.6087\n",
            "Epoch 12 Step 50 Loss 1.7665 Accuracy 0.6353\n",
            "Epoch 12 Step 100 Loss 1.7511 Accuracy 0.6369\n",
            "Epoch 12 Step 150 Loss 1.7088 Accuracy 0.6422\n",
            "Epoch 12: Training Loss 1.6820, Training Accuracy 0.6468, Validation Loss 2.6541\n",
            "Saved checkpoint at epoch 12\n",
            "\n",
            "Start of epoch 13\n",
            "Epoch 13 Step 0 Loss 1.5503 Accuracy 0.6555\n",
            "Epoch 13 Step 50 Loss 1.5930 Accuracy 0.6622\n",
            "Epoch 13 Step 100 Loss 1.5851 Accuracy 0.6598\n",
            "Epoch 13 Step 150 Loss 1.5456 Accuracy 0.6641\n",
            "Epoch 13: Training Loss 1.5183, Training Accuracy 0.6682, Validation Loss 2.5872\n",
            "Saved checkpoint at epoch 13\n",
            "\n",
            "Start of epoch 14\n",
            "Epoch 14 Step 0 Loss 1.3960 Accuracy 0.7023\n",
            "Epoch 14 Step 50 Loss 1.4094 Accuracy 0.6881\n",
            "Epoch 14 Step 100 Loss 1.4108 Accuracy 0.6851\n",
            "Epoch 14 Step 150 Loss 1.3790 Accuracy 0.6888\n",
            "Epoch 14: Training Loss 1.3538, Training Accuracy 0.6935, Validation Loss 2.4986\n",
            "Saved checkpoint at epoch 14\n",
            "\n",
            "Start of epoch 15\n",
            "Epoch 15 Step 0 Loss 1.2040 Accuracy 0.7124\n",
            "Epoch 15 Step 50 Loss 1.2464 Accuracy 0.7121\n",
            "Epoch 15 Step 100 Loss 1.2479 Accuracy 0.7075\n",
            "Epoch 15 Step 150 Loss 1.2186 Accuracy 0.7121\n",
            "Epoch 15: Training Loss 1.1999, Training Accuracy 0.7170, Validation Loss 2.5164\n",
            "Saved checkpoint at epoch 15\n",
            "\n",
            "Start of epoch 16\n",
            "Epoch 16 Step 0 Loss 1.0836 Accuracy 0.7358\n",
            "Epoch 16 Step 50 Loss 1.1417 Accuracy 0.7266\n",
            "Epoch 16 Step 100 Loss 1.1321 Accuracy 0.7263\n",
            "Epoch 16 Step 150 Loss 1.1081 Accuracy 0.7314\n",
            "Epoch 16: Training Loss 1.0969, Training Accuracy 0.7331, Validation Loss 2.5367\n",
            "Saved checkpoint at epoch 16\n",
            "\n",
            "Start of epoch 17\n",
            "Epoch 17 Step 0 Loss 0.9620 Accuracy 0.7458\n",
            "Epoch 17 Step 50 Loss 1.0388 Accuracy 0.7419\n",
            "Epoch 17 Step 100 Loss 1.0238 Accuracy 0.7422\n",
            "Epoch 17 Step 150 Loss 1.0016 Accuracy 0.7466\n",
            "Epoch 17: Training Loss 0.9861, Training Accuracy 0.7502, Validation Loss 2.5323\n",
            "Saved checkpoint at epoch 17\n",
            "\n",
            "Start of epoch 18\n",
            "Epoch 18 Step 0 Loss 0.8879 Accuracy 0.7324\n",
            "Epoch 18 Step 50 Loss 0.9698 Accuracy 0.7556\n",
            "Epoch 18 Step 100 Loss 0.9457 Accuracy 0.7584\n",
            "Epoch 18 Step 150 Loss 0.9254 Accuracy 0.7610\n",
            "Epoch 18: Training Loss 0.9145, Training Accuracy 0.7626, Validation Loss 2.5807\n",
            "Saved checkpoint at epoch 18\n",
            "\n",
            "Start of epoch 19\n",
            "Epoch 19 Step 0 Loss 0.8636 Accuracy 0.7659\n",
            "Epoch 19 Step 50 Loss 0.8523 Accuracy 0.7771\n",
            "Epoch 19 Step 100 Loss 0.8590 Accuracy 0.7741\n",
            "Epoch 19 Step 150 Loss 0.8448 Accuracy 0.7762\n",
            "Epoch 19: Training Loss 0.8326, Training Accuracy 0.7789, Validation Loss 2.6764\n",
            "Saved checkpoint at epoch 19\n",
            "\n",
            "Start of epoch 20\n",
            "Epoch 20 Step 0 Loss 0.8007 Accuracy 0.7458\n",
            "Epoch 20 Step 50 Loss 0.8073 Accuracy 0.7867\n",
            "Epoch 20 Step 100 Loss 0.8136 Accuracy 0.7838\n",
            "Epoch 20 Step 150 Loss 0.8028 Accuracy 0.7834\n",
            "Epoch 20: Training Loss 0.7946, Training Accuracy 0.7854, Validation Loss 2.6808\n",
            "Saved checkpoint at epoch 20\n",
            "Total time taken: 21.31s\n"
          ]
        }
      ]
    },
    {
      "cell_type": "code",
      "source": [
        "import pickle\n",
        "import numpy as np\n",
        "import matplotlib.pyplot as plt\n",
        "# from pickle import load\n",
        "# from matplotlib.pylab import plt\n",
        "# from numpy import arange\n",
        " \n",
        "# Load the training and validation loss dictionaries\n",
        "train_loss = pickle.load(open('train_loss.pkl', 'rb'))\n",
        "val_loss = pickle.load(open('val_loss.pkl', 'rb'))\n",
        " \n",
        "# Retrieve each dictionary's values\n",
        "train_values = list(train_loss.values())\n",
        "val_values = list(val_loss.values())\n",
        " \n",
        "# Generate a sequence of integers to represent the epoch numbers\n",
        "epochs = range(1, 21)\n",
        " \n",
        "# Plot and label the training and validation loss values\n",
        "plt.plot(epochs, train_values, label='Training Loss')\n",
        "plt.plot(epochs, val_values, label='Validation Loss')\n",
        " \n",
        "# Add in a title and axes labels\n",
        "plt.title('Training and Validation Loss')\n",
        "plt.xlabel('Epochs')\n",
        "plt.ylabel('Loss')\n",
        " \n",
        "# Set the tick locations\n",
        "plt.xticks(np.arange(0, 21, 2))\n",
        " \n",
        "# Display the plot\n",
        "plt.legend(loc='best')\n",
        "plt.show()"
      ],
      "metadata": {
        "id": "WIS5L9xoLuFF",
        "colab": {
          "base_uri": "https://localhost:8080/",
          "height": 472
        },
        "outputId": "372aba79-01e3-41e9-c797-c802a82b283c"
      },
      "execution_count": 27,
      "outputs": [
        {
          "output_type": "display_data",
          "data": {
            "text/plain": [
              "<Figure size 640x480 with 1 Axes>"
            ],
            "image/png": "[encoded data removed]"
          },
          "metadata": {}
        }
      ]
    },
    {
      "cell_type": "markdown",
      "source": [
        "## Inference"
      ],
      "metadata": {
        "id": "o24vUDuEIsN8"
      }
    },
    {
      "cell_type": "markdown",
      "source": [
        "References:\n",
        "- https://machinelearningmastery.com/inferencing-the-transformer-model/"
      ],
      "metadata": {
        "id": "z1a24tIXHaMC"
      }
    },
    {
      "cell_type": "code",
      "source": [
        "import tensorflow as tf\n",
        "# from pickle import load\n",
        "# from tensorflow import Module\n",
        "# # from keras.preprocessing.sequence import pad_sequences\n",
        "# from keras.utils import pad_sequences\n",
        "# from tensorflow import convert_to_tensor, int64, TensorArray, argmax, newaxis, transpose\n",
        "# # from model import TransformerModel\n",
        "\n",
        "# Define the model parameters\n",
        "h = 8  # Number of self-attention heads\n",
        "d_k = 64  # Dimensionality of the linearly projected queries and keys\n",
        "d_v = 64  # Dimensionality of the linearly projected values\n",
        "d_model = 512  # Dimensionality of model layers' outputs\n",
        "d_ff = 2048  # Dimensionality of the inner fully connected layer\n",
        "n = 6  # Number of layers in the encoder stack\n",
        "\n",
        "# Define the dataset parameters\n",
        "enc_seq_length = 8  # Encoder sequence length\n",
        "dec_seq_length = 12  # Decoder sequence length\n",
        "enc_vocab_size = 3167  # Encoder vocabulary size\n",
        "dec_vocab_size = 5065  # Decoder vocabulary size\n",
        "\n",
        "# Create model\n",
        "inferencing_model = TransformerModel(enc_vocab_size, dec_vocab_size, enc_seq_length, dec_seq_length, h, d_k, d_v, d_model, d_ff, n, 0)\n",
        "\n",
        "\n",
        "class Translate(tf.Module):\n",
        "    def __init__(self, inferencing_model, **kwargs):\n",
        "        super(Translate, self).__init__(**kwargs)\n",
        "        self.transformer = inferencing_model\n",
        "\n",
        "    def load_tokenizer(self, name):\n",
        "        with open(name, 'rb') as handle:\n",
        "            return pickle.load(handle)\n",
        "\n",
        "    def __call__(self, sentence):\n",
        "        # Append start and end of string tokens to the input sentence\n",
        "        sentence[0] = \"<START> \" + sentence[0] + \" <EOS>\"\n",
        "\n",
        "        # Load encoder and decoder tokenizers\n",
        "        enc_tokenizer = self.load_tokenizer('enc_tokenizer.pkl')\n",
        "        dec_tokenizer = self.load_tokenizer('dec_tokenizer.pkl')\n",
        "\n",
        "        # Prepare the input sentence by tokenizing, padding and converting to tensor\n",
        "        encoder_input = enc_tokenizer.texts_to_sequences(sentence)\n",
        "        encoder_input = tf.keras.utils.pad_sequences(encoder_input, maxlen=enc_seq_length, padding='post')\n",
        "        encoder_input = tf.convert_to_tensor(encoder_input, dtype=tf.int64)\n",
        "\n",
        "        # Prepare the output <START> token by tokenizing, and converting to tensor\n",
        "        output_start = dec_tokenizer.texts_to_sequences([\"<START>\"])\n",
        "        output_start = tf.convert_to_tensor(output_start[0], dtype=tf.int64)\n",
        "\n",
        "        # Prepare the output <EOS> token by tokenizing, and converting to tensor\n",
        "        output_end = dec_tokenizer.texts_to_sequences([\"<EOS>\"])\n",
        "        output_end = tf.convert_to_tensor(output_end[0], dtype=tf.int64)\n",
        "\n",
        "        # Prepare the output array of dynamic size\n",
        "        decoder_output = tf.TensorArray(dtype=tf.int64, size=0, dynamic_size=True)\n",
        "        decoder_output = decoder_output.write(0, output_start)\n",
        "\n",
        "        for i in range(dec_seq_length):\n",
        "\n",
        "            # Predict an output token\n",
        "            prediction = self.transformer(encoder_input, tf.transpose(decoder_output.stack()), training=False)\n",
        "\n",
        "            prediction = prediction[:, -1, :]\n",
        "\n",
        "            # Select the prediction with the highest score\n",
        "            predicted_id = tf.argmax(prediction, axis=-1)\n",
        "            predicted_id = predicted_id[0][tf.newaxis]\n",
        "\n",
        "            # Write the selected prediction to the output array at the next available index\n",
        "            decoder_output = decoder_output.write(i + 1, predicted_id)\n",
        "\n",
        "            # Break if an <EOS> token is predicted\n",
        "            if predicted_id == output_end:\n",
        "                break\n",
        "\n",
        "        output = tf.transpose(decoder_output.stack())[0]\n",
        "        output = output.numpy()\n",
        "\n",
        "        output_str = []\n",
        "\n",
        "        # Decode the predicted tokens into an output string\n",
        "        for i in range(output.shape[0]):\n",
        "\n",
        "            key = output[i]\n",
        "            print(dec_tokenizer.index_word[key])\n",
        "\n",
        "        return output_str"
      ],
      "metadata": {
        "id": "j5QRe_EsHbLX"
      },
      "execution_count": 28,
      "outputs": []
    },
    {
      "cell_type": "markdown",
      "source": [
        "### Testing Out the Code"
      ],
      "metadata": {
        "id": "Mt-mWqaeL180"
      }
    },
    {
      "cell_type": "code",
      "source": [
        "# Sentence to translate\n",
        "sentence = ['im thirsty']\n",
        "\n",
        "# Load the trained model's weights at the specified epoch\n",
        "inferencing_model.load_weights('weights/wghts16.ckpt')\n",
        " \n",
        "# Create a new instance of the 'Translate' class\n",
        "translator = Translate(inferencing_model)\n",
        " \n",
        "# Translate the input sentence\n",
        "print(translator(sentence))"
      ],
      "metadata": {
        "id": "yP926ZENHgLs",
        "colab": {
          "base_uri": "https://localhost:8080/"
        },
        "outputId": "8f091820-5d49-467b-d269-74a0384fe9b8"
      },
      "execution_count": 29,
      "outputs": [
        {
          "output_type": "stream",
          "name": "stdout",
          "text": [
            "start\n",
            "fangen\n",
            "sie\n",
            "mir\n",
            "eos\n",
            "[]\n"
          ]
        }
      ]
    },
    {
      "cell_type": "markdown",
      "source": [
        "## Dependencies"
      ],
      "metadata": {
        "id": "KdOyYeXvLkNP"
      }
    },
    {
      "cell_type": "code",
      "source": [
        "!pip install session-info"
      ],
      "metadata": {
        "id": "q17FmsUGIgjx",
        "colab": {
          "base_uri": "https://localhost:8080/"
        },
        "outputId": "376fbcf7-d506-4341-b1a1-1340102e97fc"
      },
      "execution_count": 30,
      "outputs": [
        {
          "output_type": "stream",
          "name": "stdout",
          "text": [
            "Looking in indexes: https://pypi.org/simple, https://us-python.pkg.dev/colab-wheels/public/simple/\n",
            "Collecting session-info\n",
            "  Downloading session_info-1.0.0.tar.gz (24 kB)\n",
            "  Preparing metadata (setup.py) ... \u001b[?25l\u001b[?25hdone\n",
            "Collecting stdlib_list\n",
            "  Downloading stdlib_list-0.8.0-py3-none-any.whl (63 kB)\n",
            "\u001b[2K     \u001b[90m━━━━━━━━━━━━━━━━━━━━━━━━━━━━━━━━━━━━━━━━\u001b[0m \u001b[32m63.5/63.5 KB\u001b[0m \u001b[31m9.8 MB/s\u001b[0m eta \u001b[36m0:00:00\u001b[0m\n",
            "\u001b[?25hBuilding wheels for collected packages: session-info\n",
            "  Building wheel for session-info (setup.py) ... \u001b[?25l\u001b[?25hdone\n",
            "  Created wheel for session-info: filename=session_info-1.0.0-py3-none-any.whl size=8042 sha256=137e5623867d55eaf42fe3d72c1219781912b62ddbb80561b8a75f15d06af685\n",
            "  Stored in directory: /root/.cache/pip/wheels/d4/fc/2e/00ca60bac7954b84907efd41baa9b4853500eaeec4228410c6\n",
            "Successfully built session-info\n",
            "Installing collected packages: stdlib_list, session-info\n",
            "Successfully installed session-info-1.0.0 stdlib_list-0.8.0\n"
          ]
        }
      ]
    },
    {
      "cell_type": "code",
      "source": [
        "import session_info\n",
        "\n",
        "session_info.show()"
      ],
      "metadata": {
        "colab": {
          "base_uri": "https://localhost:8080/",
          "height": 347
        },
        "id": "m6zjbMVeQVHP",
        "outputId": "4ec73799-e647-4c45-b328-6d81bd96a07b"
      },
      "execution_count": 31,
      "outputs": [
        {
          "output_type": "execute_result",
          "data": {
            "text/plain": [
              "<IPython.core.display.HTML object>"
            ],
            "text/html": [
              "<details>\n",
              "<summary>Click to view session information</summary>\n",
              "<pre>\n",
              "-----\n",
              "keras               2.10.0\n",
              "matplotlib          3.7.1\n",
              "numpy               1.22.4\n",
              "session_info        1.0.0\n",
              "tensorflow          2.10.0\n",
              "-----\n",
              "</pre>\n",
              "<details>\n",
              "<summary>Click to view modules imported as dependencies</summary>\n",
              "<pre>\n",
              "PIL                                         8.4.0\n",
              "aa8f2297d25b4dc6fd3d98411eb3ba53823c4f42    NA\n",
              "absl                                        NA\n",
              "astunparse                                  1.6.3\n",
              "attr                                        22.2.0\n",
              "backcall                                    0.2.0\n",
              "cachetools                                  5.3.0\n",
              "certifi                                     2022.12.07\n",
              "cffi                                        1.15.1\n",
              "chardet                                     4.0.0\n",
              "charset_normalizer                          2.0.12\n",
              "cloudpickle                                 2.2.1\n",
              "cryptography                                40.0.1\n",
              "cycler                                      0.10.0\n",
              "cython_runtime                              NA\n",
              "dateutil                                    2.8.2\n",
              "debugpy                                     1.6.6\n",
              "decorator                                   4.4.2\n",
              "defusedxml                                  0.7.1\n",
              "etils                                       1.1.1\n",
              "flatbuffers                                 23.3.3\n",
              "fsspec                                      2023.3.0\n",
              "gast                                        NA\n",
              "google                                      NA\n",
              "google_auth_httplib2                        NA\n",
              "googleapiclient                             NA\n",
              "h5py                                        3.8.0\n",
              "httplib2                                    0.21.0\n",
              "idna                                        3.4\n",
              "importlib_resources                         NA\n",
              "ipykernel                                   5.5.6\n",
              "ipython_genutils                            0.2.0\n",
              "jax                                         0.4.7\n",
              "jaxlib                                      0.4.7\n",
              "kiwisolver                                  1.4.4\n",
              "matplotlib_inline                           0.1.6\n",
              "ml_dtypes                                   0.0.4\n",
              "mpl_toolkits                                NA\n",
              "numexpr                                     2.8.4\n",
              "oauth2client                                4.1.3\n",
              "opt_einsum                                  v3.3.0\n",
              "packaging                                   23.0\n",
              "pandas                                      1.4.4\n",
              "pexpect                                     4.8.0\n",
              "pickleshare                                 0.7.5\n",
              "pkg_resources                               NA\n",
              "platformdirs                                3.2.0\n",
              "portpicker                                  NA\n",
              "prompt_toolkit                              3.0.38\n",
              "psutil                                      5.9.4\n",
              "ptyprocess                                  0.7.0\n",
              "pyarrow                                     9.0.0\n",
              "pyasn1                                      0.4.8\n",
              "pyasn1_modules                              0.2.8\n",
              "pydev_ipython                               NA\n",
              "pydevconsole                                NA\n",
              "pydevd                                      2.9.5\n",
              "pydevd_file_utils                           NA\n",
              "pydevd_plugins                              NA\n",
              "pydevd_tracing                              NA\n",
              "pydot_ng                                    2.0.0\n",
              "pygments                                    2.14.0\n",
              "pyparsing                                   3.0.9\n",
              "pytz                                        2022.7.1\n",
              "requests                                    2.27.1\n",
              "rich                                        NA\n",
              "rsa                                         4.9\n",
              "scipy                                       1.10.1\n",
              "sitecustomize                               NA\n",
              "six                                         1.16.0\n",
              "socks                                       1.7.1\n",
              "sphinxcontrib                               NA\n",
              "storemagic                                  NA\n",
              "tblib                                       1.7.0\n",
              "tensorboard                                 2.10.1\n",
              "termcolor                                   NA\n",
              "tornado                                     6.2\n",
              "traitlets                                   5.7.1\n",
              "typing_extensions                           NA\n",
              "uritemplate                                 4.1.1\n",
              "urllib3                                     1.26.15\n",
              "wcwidth                                     0.2.6\n",
              "wrapt                                       1.14.1\n",
              "zipp                                        NA\n",
              "zmq                                         23.2.1\n",
              "</pre>\n",
              "</details> <!-- seems like this ends pre, so might as well be explicit -->\n",
              "<pre>\n",
              "-----\n",
              "IPython             7.34.0\n",
              "jupyter_client      6.1.12\n",
              "jupyter_core        5.3.0\n",
              "notebook            6.4.8\n",
              "-----\n",
              "Python 3.9.16 (main, Dec  7 2022, 01:11:51) [GCC 9.4.0]\n",
              "Linux-5.10.147+-x86_64-with-glibc2.31\n",
              "-----\n",
              "Session information updated at 2023-04-08 14:48\n",
              "</pre>\n",
              "</details>"
            ]
          },
          "metadata": {},
          "execution_count": 31
        }
      ]
    }
  ]
}