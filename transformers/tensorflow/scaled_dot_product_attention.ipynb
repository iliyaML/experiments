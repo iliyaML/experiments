{
  "nbformat": 4,
  "nbformat_minor": 0,
  "metadata": {
    "colab": {
      "provenance": [],
      "toc_visible": true
    },
    "kernelspec": {
      "name": "python3",
      "display_name": "Python 3"
    },
    "language_info": {
      "name": "python"
    }
  },
  "cells": [
    {
      "cell_type": "markdown",
      "source": [
        "References:\n",
        "- https://machinelearningmastery.com/how-to-implement-scaled-dot-product-attention-from-scratch-in-tensorflow-and-keras/"
      ],
      "metadata": {
        "id": "Q5NivO1cy-Gm"
      }
    },
    {
      "cell_type": "code",
      "source": [
        "import numpy as np\n",
        "import tensorflow as tf"
      ],
      "metadata": {
        "id": "E0AWVaL8zTPT"
      },
      "execution_count": 1,
      "outputs": []
    },
    {
      "cell_type": "code",
      "source": [
        "print('NumPy version:', np.__version__)\n",
        "print('TensorFlow version:', tf.__version__)"
      ],
      "metadata": {
        "colab": {
          "base_uri": "https://localhost:8080/"
        },
        "id": "lppM0egA0KPR",
        "outputId": "0db79391-7f15-4993-9a0a-7d1a6b5efb32"
      },
      "execution_count": 2,
      "outputs": [
        {
          "output_type": "stream",
          "name": "stdout",
          "text": [
            "NumPy version: 1.22.4\n",
            "TensorFlow version: 2.12.0\n"
          ]
        }
      ]
    },
    {
      "cell_type": "markdown",
      "source": [
        "## Scaled-Dot Product Attention"
      ],
      "metadata": {
        "id": "2pb7nw2o1GmF"
      }
    },
    {
      "cell_type": "code",
      "source": [
        "# Implementing the Scaled-Dot Product Attention\n",
        "class DotProductAttention(tf.keras.layers.Layer):\n",
        "    def __init__(self, **kwargs):\n",
        "        super(DotProductAttention, self).__init__(**kwargs)\n",
        " \n",
        "    def call(self, queries, keys, values, d_k, mask=None):\n",
        "        # Scoring the queries against the keys after transposing the latter, \n",
        "        # and scaling\n",
        "        scores = tf.matmul(queries, keys, transpose_b=True) \\\n",
        "        / tf.math.sqrt(tf.cast(d_k, tf.float32))\n",
        " \n",
        "        # Apply mask to the attention scores\n",
        "        if mask is not None:\n",
        "            scores += -1e9 * mask\n",
        " \n",
        "        # Computing the weights by a softmax operation\n",
        "        weights = tf.keras.activations.softmax(scores)\n",
        " \n",
        "        # Computing the attention by a weighted sum of the value vectors\n",
        "        return tf.matmul(weights, values)"
      ],
      "metadata": {
        "id": "Er3ts9Kby9dB"
      },
      "execution_count": 7,
      "outputs": []
    },
    {
      "cell_type": "markdown",
      "source": [
        "### Test"
      ],
      "metadata": {
        "id": "LSy_A_FM0-jj"
      }
    },
    {
      "cell_type": "code",
      "source": [
        "input_seq_length = 5  # Maximum length of the input sequence\n",
        "d_k = 64  # Dimensionality of the linearly projected queries and keys\n",
        "d_v = 64  # Dimensionality of the linearly projected values\n",
        "batch_size = 64  # Batch size from the training process\n",
        " \n",
        "queries = np.random.random((batch_size, input_seq_length, d_k))\n",
        "keys = np.random.random((batch_size, input_seq_length, d_k))\n",
        "values = np.random.random((batch_size, input_seq_length, d_v))\n",
        "\n",
        "print(queries.shape, keys.shape, values.shape)"
      ],
      "metadata": {
        "colab": {
          "base_uri": "https://localhost:8080/"
        },
        "id": "LZanZVmrz7T5",
        "outputId": "1291bb5e-82a9-4150-a8a8-c265c4d02448"
      },
      "execution_count": 11,
      "outputs": [
        {
          "output_type": "stream",
          "name": "stdout",
          "text": [
            "(64, 5, 64) (64, 5, 64) (64, 5, 64)\n"
          ]
        }
      ]
    },
    {
      "cell_type": "code",
      "source": [
        "attention = DotProductAttention()\n",
        "print(attention(queries, keys, values, d_k))"
      ],
      "metadata": {
        "colab": {
          "base_uri": "https://localhost:8080/"
        },
        "id": "ae1awlmF1O5S",
        "outputId": "dbe66e96-12dc-4cf1-d50d-51ce2f58996f"
      },
      "execution_count": 9,
      "outputs": [
        {
          "output_type": "stream",
          "name": "stdout",
          "text": [
            "tf.Tensor(\n",
            "[[[0.5405959  0.6993936  0.5026516  ... 0.6073619  0.60819995 0.38466918]\n",
            "  [0.56965035 0.6883776  0.5247059  ... 0.5629483  0.60342413 0.3896538 ]\n",
            "  [0.54332215 0.69759405 0.5120189  ... 0.5976771  0.6104103  0.37741628]\n",
            "  [0.55770063 0.68541634 0.5183922  ... 0.5784359  0.61775726 0.3709305 ]\n",
            "  [0.5459266  0.6864781  0.5009302  ... 0.60004544 0.6235326  0.37195563]]\n",
            "\n",
            " [[0.58028376 0.56536126 0.6102319  ... 0.753921   0.460257   0.71111435]\n",
            "  [0.56735826 0.55447745 0.61917734 ... 0.7621567  0.48218375 0.6857721 ]\n",
            "  [0.58125937 0.5737533  0.60878515 ... 0.7615038  0.46895206 0.71606445]\n",
            "  [0.56346095 0.55564106 0.6274744  ... 0.76294804 0.47242552 0.6780621 ]\n",
            "  [0.5818496  0.5666653  0.6097885  ... 0.7601096  0.47798562 0.7199864 ]]\n",
            "\n",
            " [[0.4112715  0.5293472  0.84149915 ... 0.47350776 0.34974098 0.45024145]\n",
            "  [0.38375038 0.54324013 0.8284927  ... 0.47079813 0.35099322 0.4360806 ]\n",
            "  [0.40054032 0.5157875  0.82854545 ... 0.50581276 0.3657748  0.4326033 ]\n",
            "  [0.40492395 0.53756475 0.8287725  ... 0.49946564 0.3522589  0.44176692]\n",
            "  [0.3991151  0.53714126 0.8390669  ... 0.4768971  0.3533867  0.43337902]]\n",
            "\n",
            " ...\n",
            "\n",
            " [[0.8058481  0.5600699  0.37695435 ... 0.5443987  0.5425461  0.511934  ]\n",
            "  [0.79594064 0.5848854  0.3758832  ... 0.5354109  0.541714   0.5049296 ]\n",
            "  [0.8020808  0.5581259  0.36970517 ... 0.5591371  0.55606884 0.5179424 ]\n",
            "  [0.80310816 0.5509094  0.36998725 ... 0.56745625 0.5623083  0.523579  ]\n",
            "  [0.7965971  0.56897444 0.37917453 ... 0.55976415 0.56247073 0.5186014 ]]\n",
            "\n",
            " [[0.37067407 0.41210184 0.5319545  ... 0.62853146 0.58270466 0.59844303]\n",
            "  [0.36116356 0.4157862  0.520511   ... 0.63969773 0.5912638  0.58639294]\n",
            "  [0.3673408  0.4012798  0.52677745 ... 0.6188232  0.5885541  0.5880162 ]\n",
            "  [0.36381197 0.4056622  0.5312307  ... 0.63616025 0.59376854 0.5926279 ]\n",
            "  [0.36244553 0.41770345 0.5156167  ... 0.63543993 0.5872433  0.58369684]]\n",
            "\n",
            " [[0.51267993 0.5334312  0.6678848  ... 0.4083471  0.48158625 0.3955909 ]\n",
            "  [0.5097063  0.535037   0.6694306  ... 0.3998928  0.47943607 0.40577978]\n",
            "  [0.5221176  0.51814246 0.67080903 ... 0.41953504 0.49025834 0.38569835]\n",
            "  [0.51067877 0.5320164  0.66872483 ... 0.39848787 0.47971055 0.41200882]\n",
            "  [0.51392925 0.53061855 0.65485126 ... 0.41143483 0.47459084 0.41086876]]], shape=(64, 5, 64), dtype=float32)\n"
          ]
        }
      ]
    },
    {
      "cell_type": "markdown",
      "source": [
        "## Dependencies"
      ],
      "metadata": {
        "id": "hirVTm8i1E33"
      }
    },
    {
      "cell_type": "code",
      "source": [
        "!pip install session-info"
      ],
      "metadata": {
        "colab": {
          "base_uri": "https://localhost:8080/"
        },
        "id": "sQw8c6FyzEOp",
        "outputId": "0445b50e-9eeb-4b31-da67-ca840fc77ec4"
      },
      "execution_count": 5,
      "outputs": [
        {
          "output_type": "stream",
          "name": "stdout",
          "text": [
            "Looking in indexes: https://pypi.org/simple, https://us-python.pkg.dev/colab-wheels/public/simple/\n",
            "Collecting session-info\n",
            "  Downloading session_info-1.0.0.tar.gz (24 kB)\n",
            "  Preparing metadata (setup.py) ... \u001b[?25l\u001b[?25hdone\n",
            "Collecting stdlib_list\n",
            "  Downloading stdlib_list-0.8.0-py3-none-any.whl (63 kB)\n",
            "\u001b[2K     \u001b[90m━━━━━━━━━━━━━━━━━━━━━━━━━━━━━━━━━━━━━━━\u001b[0m \u001b[32m63.5/63.5 kB\u001b[0m \u001b[31m699.0 kB/s\u001b[0m eta \u001b[36m0:00:00\u001b[0m\n",
            "\u001b[?25hBuilding wheels for collected packages: session-info\n",
            "  Building wheel for session-info (setup.py) ... \u001b[?25l\u001b[?25hdone\n",
            "  Created wheel for session-info: filename=session_info-1.0.0-py3-none-any.whl size=8042 sha256=59944e38e2581e2ee17d531f4b5728fc828c92595a38ee3c6cf23951be259992\n",
            "  Stored in directory: /root/.cache/pip/wheels/6a/aa/b9/eb5d4031476ec10802795b97ccf937b9bd998d68a9b268765a\n",
            "Successfully built session-info\n",
            "Installing collected packages: stdlib_list, session-info\n",
            "Successfully installed session-info-1.0.0 stdlib_list-0.8.0\n"
          ]
        }
      ]
    },
    {
      "cell_type": "code",
      "source": [
        "import session_info\n",
        "\n",
        "session_info.show()"
      ],
      "metadata": {
        "colab": {
          "base_uri": "https://localhost:8080/",
          "height": 312
        },
        "id": "jCSVx8WlzNrH",
        "outputId": "69095f47-82bd-40db-b981-6fd899d70d09"
      },
      "execution_count": 6,
      "outputs": [
        {
          "output_type": "execute_result",
          "data": {
            "text/plain": [
              "<IPython.core.display.HTML object>"
            ],
            "text/html": [
              "<details>\n",
              "<summary>Click to view session information</summary>\n",
              "<pre>\n",
              "-----\n",
              "numpy               1.22.4\n",
              "session_info        1.0.0\n",
              "tensorflow          2.12.0\n",
              "-----\n",
              "</pre>\n",
              "<details>\n",
              "<summary>Click to view modules imported as dependencies</summary>\n",
              "<pre>\n",
              "PIL                                         8.4.0\n",
              "aa8f2297d25b4dc6fd3d98411eb3ba53823c4f42    NA\n",
              "absl                                        NA\n",
              "astunparse                                  1.6.3\n",
              "attr                                        23.1.0\n",
              "backcall                                    0.2.0\n",
              "cachetools                                  5.3.0\n",
              "certifi                                     2022.12.07\n",
              "cffi                                        1.15.1\n",
              "chardet                                     4.0.0\n",
              "charset_normalizer                          2.0.12\n",
              "cloudpickle                                 2.2.1\n",
              "cryptography                                40.0.2\n",
              "cycler                                      0.10.0\n",
              "cython_runtime                              NA\n",
              "dateutil                                    2.8.2\n",
              "debugpy                                     1.6.6\n",
              "decorator                                   4.4.2\n",
              "defusedxml                                  0.7.1\n",
              "etils                                       1.2.0\n",
              "flatbuffers                                 23.3.3\n",
              "fsspec                                      2023.4.0\n",
              "gast                                        NA\n",
              "google                                      NA\n",
              "google_auth_httplib2                        NA\n",
              "googleapiclient                             NA\n",
              "h5py                                        3.8.0\n",
              "httplib2                                    0.21.0\n",
              "idna                                        3.4\n",
              "importlib_resources                         NA\n",
              "ipykernel                                   5.5.6\n",
              "ipython_genutils                            0.2.0\n",
              "jax                                         0.4.8\n",
              "jaxlib                                      0.4.7\n",
              "keras                                       2.12.0\n",
              "kiwisolver                                  1.4.4\n",
              "matplotlib                                  3.7.1\n",
              "matplotlib_inline                           0.1.6\n",
              "ml_dtypes                                   0.1.0\n",
              "mpl_toolkits                                NA\n",
              "numexpr                                     2.8.4\n",
              "oauth2client                                4.1.3\n",
              "opt_einsum                                  v3.3.0\n",
              "packaging                                   23.1\n",
              "pandas                                      1.5.3\n",
              "pexpect                                     4.8.0\n",
              "pickleshare                                 0.7.5\n",
              "pkg_resources                               NA\n",
              "platformdirs                                3.3.0\n",
              "portpicker                                  NA\n",
              "prompt_toolkit                              3.0.38\n",
              "psutil                                      5.9.5\n",
              "ptyprocess                                  0.7.0\n",
              "pyarrow                                     9.0.0\n",
              "pyasn1                                      0.5.0\n",
              "pyasn1_modules                              0.3.0\n",
              "pydev_ipython                               NA\n",
              "pydevconsole                                NA\n",
              "pydevd                                      2.9.5\n",
              "pydevd_file_utils                           NA\n",
              "pydevd_plugins                              NA\n",
              "pydevd_tracing                              NA\n",
              "pydot_ng                                    2.0.0\n",
              "pygments                                    2.14.0\n",
              "pyparsing                                   3.0.9\n",
              "pytz                                        2022.7.1\n",
              "requests                                    2.27.1\n",
              "rich                                        NA\n",
              "rsa                                         4.9\n",
              "scipy                                       1.10.1\n",
              "sitecustomize                               NA\n",
              "six                                         1.16.0\n",
              "socks                                       1.7.1\n",
              "sphinxcontrib                               NA\n",
              "storemagic                                  NA\n",
              "tblib                                       1.7.0\n",
              "tensorboard                                 2.12.2\n",
              "termcolor                                   NA\n",
              "tornado                                     6.2\n",
              "traitlets                                   5.7.1\n",
              "typing_extensions                           NA\n",
              "uritemplate                                 4.1.1\n",
              "urllib3                                     1.26.15\n",
              "wcwidth                                     0.2.6\n",
              "wrapt                                       1.14.1\n",
              "zmq                                         23.2.1\n",
              "zoneinfo                                    NA\n",
              "</pre>\n",
              "</details> <!-- seems like this ends pre, so might as well be explicit -->\n",
              "<pre>\n",
              "-----\n",
              "IPython             7.34.0\n",
              "jupyter_client      6.1.12\n",
              "jupyter_core        5.3.0\n",
              "notebook            6.4.8\n",
              "-----\n",
              "Python 3.10.11 (main, Apr  5 2023, 14:15:10) [GCC 9.4.0]\n",
              "Linux-5.10.147+-x86_64-with-glibc2.31\n",
              "-----\n",
              "Session information updated at 2023-05-01 14:58\n",
              "</pre>\n",
              "</details>"
            ]
          },
          "metadata": {},
          "execution_count": 6
        }
      ]
    }
  ]
}