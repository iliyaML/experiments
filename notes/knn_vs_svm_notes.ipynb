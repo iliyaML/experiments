{
  "nbformat": 4,
  "nbformat_minor": 0,
  "metadata": {
    "colab": {
      "provenance": [],
      "toc_visible": true
    },
    "kernelspec": {
      "name": "python3",
      "display_name": "Python 3"
    },
    "language_info": {
      "name": "python"
    }
  },
  "cells": [
    {
      "cell_type": "markdown",
      "source": [
        "References:\n",
        "- https://twitter.com/karpathy/status/1647025230546886658\n",
        "- https://github.com/karpathy/randomfun/blob/master/knn_vs_svm.ipynb\n",
        "- https://www.cs.cmu.edu/~tmalisie/projects/iccv11/"
      ],
      "metadata": {
        "id": "LdEqWVrTlLCk"
      }
    },
    {
      "cell_type": "code",
      "execution_count": 1,
      "metadata": {
        "id": "HDTzCxAaiS9C"
      },
      "outputs": [],
      "source": [
        "import numpy as np\n",
        "import sklearn\n",
        "from sklearn import svm\n",
        "\n",
        "SEED = 42\n",
        "np.random.seed(SEED)"
      ]
    },
    {
      "cell_type": "code",
      "source": [
        "print('NumPy version:', np.__version__)\n",
        "print('scikit-learn version:', sklearn.__version__)"
      ],
      "metadata": {
        "colab": {
          "base_uri": "https://localhost:8080/"
        },
        "id": "aZ-a5Y86rGCt",
        "outputId": "89eb87e5-e486-4f0c-9dce-9d8f58824ca8"
      },
      "execution_count": 2,
      "outputs": [
        {
          "output_type": "stream",
          "name": "stdout",
          "text": [
            "NumPy version: 1.22.4\n",
            "scikit-learn version: 1.2.2\n"
          ]
        }
      ]
    },
    {
      "cell_type": "markdown",
      "source": [
        "## Embedding Matrix and Query Vector"
      ],
      "metadata": {
        "id": "WbY8DU5WluT7"
      }
    },
    {
      "cell_type": "code",
      "source": [
        "N_DOCUMENTS = 1000\n",
        "EMBEDDING_DIM = 1536"
      ],
      "metadata": {
        "id": "IfJSBfAFmS4F"
      },
      "execution_count": 3,
      "outputs": []
    },
    {
      "cell_type": "code",
      "source": [
        "# create a matrix of size: N_DOCUMENTS x EMBEDDING_DIM\n",
        "embeddings_matrix = np.random.randn(N_DOCUMENTS, EMBEDDING_DIM) \n",
        "\n",
        "# L2 normalize the rows, as is common\n",
        "embeddings_matrix = embeddings_matrix / \\\n",
        "                    np.sqrt((embeddings_matrix**2).sum(1, keepdims=True)) \n",
        "\n",
        "print(embeddings_matrix.shape)\n",
        "print(embeddings_matrix)"
      ],
      "metadata": {
        "colab": {
          "base_uri": "https://localhost:8080/"
        },
        "id": "dPzVTkFQiaxS",
        "outputId": "da52e2e7-7946-4698-9c0c-a67753068937"
      },
      "execution_count": 4,
      "outputs": [
        {
          "output_type": "stream",
          "name": "stdout",
          "text": [
            "(1000, 1536)\n",
            "[[ 0.01278695 -0.00355935  0.0166735  ... -0.00379975 -0.01199722\n",
            "  -0.04105258]\n",
            " [ 0.01330037 -0.01379501 -0.03029659 ...  0.017939   -0.03287104\n",
            "   0.04408893]\n",
            " [ 0.00512884  0.04136598 -0.01858167 ... -0.00643044 -0.00874959\n",
            "   0.01240212]\n",
            " ...\n",
            " [-0.01519871 -0.01918601 -0.00795636 ...  0.05916144  0.06012371\n",
            "  -0.00636577]\n",
            " [ 0.04927123  0.02736768  0.02532746 ...  0.01941154 -0.00600695\n",
            "  -0.03203716]\n",
            " [-0.00810883 -0.00925525  0.00068903 ...  0.02962341  0.01253986\n",
            "  -0.02029635]]\n"
          ]
        }
      ]
    },
    {
      "cell_type": "code",
      "source": [
        "# the query vector of size: EMBEDDING_DIM x 1\n",
        "query_vector = np.random.randn(EMBEDDING_DIM)\n",
        "\n",
        "# L2 normalization\n",
        "query_vector = query_vector / np.sqrt((query_vector**2).sum())\n",
        "query_vector"
      ],
      "metadata": {
        "colab": {
          "base_uri": "https://localhost:8080/"
        },
        "id": "ft5yjnmOlPR5",
        "outputId": "17b98b63-31bc-4276-d9f3-fdec7550a41c"
      },
      "execution_count": 5,
      "outputs": [
        {
          "output_type": "execute_result",
          "data": {
            "text/plain": [
              "array([ 0.00802579,  0.02001674, -0.03141846, ...,  0.01385069,\n",
              "       -0.02867884, -0.02033733])"
            ]
          },
          "metadata": {},
          "execution_count": 5
        }
      ]
    },
    {
      "cell_type": "markdown",
      "source": [
        "## KNN vs SVM"
      ],
      "metadata": {
        "id": "YnZ8baVJlgcL"
      }
    },
    {
      "cell_type": "markdown",
      "source": [
        "A very common workflow is to index some data based on its embeddings and then given a new query embedding retrieve the most similar examples with k-Nearest Neighbor search. For example, you can imagine embedding a large collection of papers by their abstracts and then given a new paper of interest retrieve the most similar papers to it.\n",
        "\n",
        "TLDR in my experience it ~always works better to use an SVM instead of kNN, if you can afford the slight computational hit. Example below:"
      ],
      "metadata": {
        "id": "Ja0QoJnvrvL0"
      }
    },
    {
      "cell_type": "markdown",
      "source": [
        "### KNN"
      ],
      "metadata": {
        "id": "fswKzC1vllGc"
      }
    },
    {
      "cell_type": "code",
      "source": [
        "# Tired: use KNN\n",
        "\n",
        "# (N_DOCUMENTS x EMBEDDING_DIM) x (EMBEDDING_DIM x 1) \n",
        "# result is of size: N_DOCUMENTS x 1\n",
        "similarities = embeddings_matrix.dot(query_vector)\n",
        "\n",
        "# view the first 5 rows\n",
        "similarities[:5]"
      ],
      "metadata": {
        "colab": {
          "base_uri": "https://localhost:8080/"
        },
        "id": "_NkdEM6ktDh9",
        "outputId": "f7f23522-c60e-46ad-b012-cabb3b6825fd"
      },
      "execution_count": 6,
      "outputs": [
        {
          "output_type": "execute_result",
          "data": {
            "text/plain": [
              "array([-0.00591654, -0.00823215,  0.01871934,  0.01213897,  0.00368823])"
            ]
          },
          "metadata": {},
          "execution_count": 6
        }
      ]
    },
    {
      "cell_type": "code",
      "source": [
        "# sort the results\n",
        "sorted_ix = np.argsort(-similarities)\n",
        "\n",
        "print(\"Top 10 results:\")\n",
        "for k in sorted_ix[:10]:\n",
        "  print(f\"Row {k}, Similarity {similarities[k]}\")"
      ],
      "metadata": {
        "colab": {
          "base_uri": "https://localhost:8080/"
        },
        "id": "pPqzX2WQihPi",
        "outputId": "702ab19b-78a3-4780-8e6c-6ad7c195aa6a"
      },
      "execution_count": 7,
      "outputs": [
        {
          "output_type": "stream",
          "name": "stdout",
          "text": [
            "Top 10 results:\n",
            "Row 545, Similarity 0.07956628031855814\n",
            "Row 790, Similarity 0.07109372365891174\n",
            "Row 973, Similarity 0.06920799481214632\n",
            "Row 597, Similarity 0.06474824575503951\n",
            "Row 479, Similarity 0.06350781255023313\n",
            "Row 229, Similarity 0.0614321834997024\n",
            "Row 976, Similarity 0.061222853526241586\n",
            "Row 568, Similarity 0.060888722805113274\n",
            "Row 800, Similarity 0.06007081261453451\n",
            "Row 654, Similarity 0.058158824328240384\n"
          ]
        }
      ]
    },
    {
      "cell_type": "markdown",
      "source": [
        "### SVM"
      ],
      "metadata": {
        "id": "gJzlFNF5lmkR"
      }
    },
    {
      "cell_type": "code",
      "source": [
        "# Wired: use an SVM\n",
        "\n",
        "# create the \"Dataset\"\n",
        "\n",
        "# x is (N_DOCUMENTS + 1, EMBEDDING_DIM) matrix, with query now as the first row\n",
        "X = np.concatenate([query_vector[None, ...], embeddings_matrix])\n",
        "print(X.shape)\n",
        "print(query_vector)\n",
        "print(X)"
      ],
      "metadata": {
        "colab": {
          "base_uri": "https://localhost:8080/"
        },
        "id": "-zm9t1l5vLPI",
        "outputId": "3948ace2-a9a6-440f-baa3-52c5b7dfeef5"
      },
      "execution_count": 8,
      "outputs": [
        {
          "output_type": "stream",
          "name": "stdout",
          "text": [
            "(1001, 1536)\n",
            "[ 0.00802579  0.02001674 -0.03141846 ...  0.01385069 -0.02867884\n",
            " -0.02033733]\n",
            "[[ 0.00802579  0.02001674 -0.03141846 ...  0.01385069 -0.02867884\n",
            "  -0.02033733]\n",
            " [ 0.01278695 -0.00355935  0.0166735  ... -0.00379975 -0.01199722\n",
            "  -0.04105258]\n",
            " [ 0.01330037 -0.01379501 -0.03029659 ...  0.017939   -0.03287104\n",
            "   0.04408893]\n",
            " ...\n",
            " [-0.01519871 -0.01918601 -0.00795636 ...  0.05916144  0.06012371\n",
            "  -0.00636577]\n",
            " [ 0.04927123  0.02736768  0.02532746 ...  0.01941154 -0.00600695\n",
            "  -0.03203716]\n",
            " [-0.00810883 -0.00925525  0.00068903 ...  0.02962341  0.01253986\n",
            "  -0.02029635]]\n"
          ]
        }
      ]
    },
    {
      "cell_type": "code",
      "source": [
        "# y is (N_DOCUMENTS + 1, 1) array\n",
        "y = np.zeros(N_DOCUMENTS + 1)\n",
        "y[0] = 1 # we have a single positive example, mark it as such\n",
        "print(y.shape)\n",
        "print(y)"
      ],
      "metadata": {
        "colab": {
          "base_uri": "https://localhost:8080/"
        },
        "id": "ZuxoaRwBvO_Y",
        "outputId": "971e4991-06a6-453c-ea01-da0a6c1e34ab"
      },
      "execution_count": 9,
      "outputs": [
        {
          "output_type": "stream",
          "name": "stdout",
          "text": [
            "(1001,)\n",
            "[1. 0. 0. ... 0. 0. 0.]\n"
          ]
        }
      ]
    },
    {
      "cell_type": "code",
      "source": [
        "# train our (Exemplar) SVM\n",
        "# https://scikit-learn.org/stable/modules/generated/sklearn.svm.LinearSVC.html\n",
        "linear_svc_model = svm.LinearSVC(\n",
        "    class_weight='balanced', \n",
        "    verbose=False, \n",
        "    max_iter=10000, \n",
        "    tol=1e-6, # tolerance for stopping criteria\n",
        "    C=0.1, # regularization parameter\n",
        ").fit(X, y) # train\n",
        "\n",
        "linear_svc_model"
      ],
      "metadata": {
        "colab": {
          "base_uri": "https://localhost:8080/",
          "height": 92
        },
        "id": "F3WhW3ezvbut",
        "outputId": "08712d3e-f68f-4219-bdfa-49921215ce1f"
      },
      "execution_count": 10,
      "outputs": [
        {
          "output_type": "execute_result",
          "data": {
            "text/plain": [
              "LinearSVC(C=0.1, class_weight='balanced', max_iter=10000, tol=1e-06,\n",
              "          verbose=False)"
            ],
            "text/html": [
              "<style>#sk-container-id-1 {color: black;background-color: white;}#sk-container-id-1 pre{padding: 0;}#sk-container-id-1 div.sk-toggleable {background-color: white;}#sk-container-id-1 label.sk-toggleable__label {cursor: pointer;display: block;width: 100%;margin-bottom: 0;padding: 0.3em;box-sizing: border-box;text-align: center;}#sk-container-id-1 label.sk-toggleable__label-arrow:before {content: \"▸\";float: left;margin-right: 0.25em;color: #696969;}#sk-container-id-1 label.sk-toggleable__label-arrow:hover:before {color: black;}#sk-container-id-1 div.sk-estimator:hover label.sk-toggleable__label-arrow:before {color: black;}#sk-container-id-1 div.sk-toggleable__content {max-height: 0;max-width: 0;overflow: hidden;text-align: left;background-color: #f0f8ff;}#sk-container-id-1 div.sk-toggleable__content pre {margin: 0.2em;color: black;border-radius: 0.25em;background-color: #f0f8ff;}#sk-container-id-1 input.sk-toggleable__control:checked~div.sk-toggleable__content {max-height: 200px;max-width: 100%;overflow: auto;}#sk-container-id-1 input.sk-toggleable__control:checked~label.sk-toggleable__label-arrow:before {content: \"▾\";}#sk-container-id-1 div.sk-estimator input.sk-toggleable__control:checked~label.sk-toggleable__label {background-color: #d4ebff;}#sk-container-id-1 div.sk-label input.sk-toggleable__control:checked~label.sk-toggleable__label {background-color: #d4ebff;}#sk-container-id-1 input.sk-hidden--visually {border: 0;clip: rect(1px 1px 1px 1px);clip: rect(1px, 1px, 1px, 1px);height: 1px;margin: -1px;overflow: hidden;padding: 0;position: absolute;width: 1px;}#sk-container-id-1 div.sk-estimator {font-family: monospace;background-color: #f0f8ff;border: 1px dotted black;border-radius: 0.25em;box-sizing: border-box;margin-bottom: 0.5em;}#sk-container-id-1 div.sk-estimator:hover {background-color: #d4ebff;}#sk-container-id-1 div.sk-parallel-item::after {content: \"\";width: 100%;border-bottom: 1px solid gray;flex-grow: 1;}#sk-container-id-1 div.sk-label:hover label.sk-toggleable__label {background-color: #d4ebff;}#sk-container-id-1 div.sk-serial::before {content: \"\";position: absolute;border-left: 1px solid gray;box-sizing: border-box;top: 0;bottom: 0;left: 50%;z-index: 0;}#sk-container-id-1 div.sk-serial {display: flex;flex-direction: column;align-items: center;background-color: white;padding-right: 0.2em;padding-left: 0.2em;position: relative;}#sk-container-id-1 div.sk-item {position: relative;z-index: 1;}#sk-container-id-1 div.sk-parallel {display: flex;align-items: stretch;justify-content: center;background-color: white;position: relative;}#sk-container-id-1 div.sk-item::before, #sk-container-id-1 div.sk-parallel-item::before {content: \"\";position: absolute;border-left: 1px solid gray;box-sizing: border-box;top: 0;bottom: 0;left: 50%;z-index: -1;}#sk-container-id-1 div.sk-parallel-item {display: flex;flex-direction: column;z-index: 1;position: relative;background-color: white;}#sk-container-id-1 div.sk-parallel-item:first-child::after {align-self: flex-end;width: 50%;}#sk-container-id-1 div.sk-parallel-item:last-child::after {align-self: flex-start;width: 50%;}#sk-container-id-1 div.sk-parallel-item:only-child::after {width: 0;}#sk-container-id-1 div.sk-dashed-wrapped {border: 1px dashed gray;margin: 0 0.4em 0.5em 0.4em;box-sizing: border-box;padding-bottom: 0.4em;background-color: white;}#sk-container-id-1 div.sk-label label {font-family: monospace;font-weight: bold;display: inline-block;line-height: 1.2em;}#sk-container-id-1 div.sk-label-container {text-align: center;}#sk-container-id-1 div.sk-container {/* jupyter's `normalize.less` sets `[hidden] { display: none; }` but bootstrap.min.css set `[hidden] { display: none !important; }` so we also need the `!important` here to be able to override the default hidden behavior on the sphinx rendered scikit-learn.org. See: https://github.com/scikit-learn/scikit-learn/issues/21755 */display: inline-block !important;position: relative;}#sk-container-id-1 div.sk-text-repr-fallback {display: none;}</style><div id=\"sk-container-id-1\" class=\"sk-top-container\"><div class=\"sk-text-repr-fallback\"><pre>LinearSVC(C=0.1, class_weight=&#x27;balanced&#x27;, max_iter=10000, tol=1e-06,\n",
              "          verbose=False)</pre><b>In a Jupyter environment, please rerun this cell to show the HTML representation or trust the notebook. <br />On GitHub, the HTML representation is unable to render, please try loading this page with nbviewer.org.</b></div><div class=\"sk-container\" hidden><div class=\"sk-item\"><div class=\"sk-estimator sk-toggleable\"><input class=\"sk-toggleable__control sk-hidden--visually\" id=\"sk-estimator-id-1\" type=\"checkbox\" checked><label for=\"sk-estimator-id-1\" class=\"sk-toggleable__label sk-toggleable__label-arrow\">LinearSVC</label><div class=\"sk-toggleable__content\"><pre>LinearSVC(C=0.1, class_weight=&#x27;balanced&#x27;, max_iter=10000, tol=1e-06,\n",
              "          verbose=False)</pre></div></div></div></div></div>"
            ]
          },
          "metadata": {},
          "execution_count": 10
        }
      ]
    },
    {
      "cell_type": "code",
      "source": [
        "# infer on whatever data you wish, e.g. the original data\n",
        "similarities = linear_svc_model.decision_function(X)\n",
        "similarities"
      ],
      "metadata": {
        "colab": {
          "base_uri": "https://localhost:8080/"
        },
        "id": "tNVIIO_Tvrqx",
        "outputId": "73e5cf19-8634-49a0-d71f-ad1a0aadb51c"
      },
      "execution_count": 11,
      "outputs": [
        {
          "output_type": "execute_result",
          "data": {
            "text/plain": [
              "array([ 0.97971126, -0.98920288, -0.99426439, ..., -1.06692443,\n",
              "       -0.95013296, -0.99316836])"
            ]
          },
          "metadata": {},
          "execution_count": 11
        }
      ]
    },
    {
      "cell_type": "code",
      "source": [
        "sorted_ix = np.argsort(-similarities)\n",
        "\n",
        "print(\"Top 10 results:\")\n",
        "for k in sorted_ix[:10]:\n",
        "  print(f\"Row {k}, Similarity {similarities[k]}\")"
      ],
      "metadata": {
        "colab": {
          "base_uri": "https://localhost:8080/"
        },
        "id": "8UnWlA3Qii6Z",
        "outputId": "ce6cfdd0-1fc0-464a-8d94-5436bdfd0192"
      },
      "execution_count": 12,
      "outputs": [
        {
          "output_type": "stream",
          "name": "stdout",
          "text": [
            "Top 10 results:\n",
            "Row 0, Similarity 0.9797112617216351\n",
            "Row 546, Similarity -0.8360649738915675\n",
            "Row 791, Similarity -0.8519226181122038\n",
            "Row 974, Similarity -0.8585435504683989\n",
            "Row 480, Similarity -0.8620392370633861\n",
            "Row 598, Similarity -0.8653315003700203\n",
            "Row 230, Similarity -0.8671983886478062\n",
            "Row 569, Similarity -0.8674761579346135\n",
            "Row 977, Similarity -0.8705646065664832\n",
            "Row 801, Similarity -0.8728033782558365\n"
          ]
        }
      ]
    },
    {
      "cell_type": "markdown",
      "source": [
        "In practice you will find that this ordering:\n",
        "\n",
        "- is of higher quality\n",
        "- is slower: we have to train an SVM\n",
        "- can easily accommodate a number of positives not just one, so it is more flexible\n",
        "- don't be scared of having a single positive and everything else being negative. this is totally fine!\n",
        "- if you have way way too many negatives, consider subsampling and only using a portion of them.\n",
        "\n",
        "\n",
        "**Value of C**: You'll want to tune C. You'll most likely find the best setting to be between 0.01 and 10. Values like 10 very severely penalize the classifier for any mispredictions on your data. It will make sure to fit your data. Values like 0.01 will incur less penalty and will be more regularized. Usually this is what you want. I find that in practice a value like 0.1 works well if you only have a few examples that you don't trust too much. If you have more examples and they are very noise-free, try more like 1.0\n",
        "\n",
        "\n",
        "**Why does this work?** In simple terms, because SVM considers the entire cloud of data as it optimizes for the hyperplane that \"pulls apart\" your positives from negatives. In comparison, the kNN approach doesn't consider the global manifold structure of your entire dataset and \"values\" every dimension equally. The SVM basically finds the way that your positive example is unique in the dataset, and then only considers its unique qualities when ranking all the other examples."
      ],
      "metadata": {
        "id": "VKvRSNYsr1wI"
      }
    },
    {
      "cell_type": "markdown",
      "source": [
        "## Dependencies"
      ],
      "metadata": {
        "id": "iUalS4w7lDbj"
      }
    },
    {
      "cell_type": "code",
      "source": [
        "!pip install session-info"
      ],
      "metadata": {
        "colab": {
          "base_uri": "https://localhost:8080/"
        },
        "id": "zqechK9Xklkz",
        "outputId": "d4c9a269-2794-4a32-b244-3db6a5834211"
      },
      "execution_count": 13,
      "outputs": [
        {
          "output_type": "stream",
          "name": "stdout",
          "text": [
            "Looking in indexes: https://pypi.org/simple, https://us-python.pkg.dev/colab-wheels/public/simple/\n",
            "Requirement already satisfied: session-info in /usr/local/lib/python3.9/dist-packages (1.0.0)\n",
            "Requirement already satisfied: stdlib-list in /usr/local/lib/python3.9/dist-packages (from session-info) (0.8.0)\n"
          ]
        }
      ]
    },
    {
      "cell_type": "code",
      "source": [
        "import session_info\n",
        "\n",
        "session_info.show()"
      ],
      "metadata": {
        "colab": {
          "base_uri": "https://localhost:8080/",
          "height": 34
        },
        "id": "GKrWDWMglCHf",
        "outputId": "53046387-c69d-4cf7-a880-5476a82ab18f"
      },
      "execution_count": 14,
      "outputs": [
        {
          "output_type": "execute_result",
          "data": {
            "text/plain": [
              "<IPython.core.display.HTML object>"
            ],
            "text/html": [
              "<details>\n",
              "<summary>Click to view session information</summary>\n",
              "<pre>\n",
              "-----\n",
              "numpy               1.22.4\n",
              "session_info        1.0.0\n",
              "sklearn             1.2.2\n",
              "-----\n",
              "</pre>\n",
              "<details>\n",
              "<summary>Click to view modules imported as dependencies</summary>\n",
              "<pre>\n",
              "PIL                 8.4.0\n",
              "backcall            0.2.0\n",
              "certifi             2022.12.07\n",
              "cffi                1.15.1\n",
              "cycler              0.10.0\n",
              "cython_runtime      NA\n",
              "dateutil            2.8.2\n",
              "debugpy             1.6.6\n",
              "decorator           4.4.2\n",
              "defusedxml          0.7.1\n",
              "google              NA\n",
              "httplib2            0.21.0\n",
              "importlib_resources NA\n",
              "ipykernel           5.5.6\n",
              "ipython_genutils    0.2.0\n",
              "joblib              1.2.0\n",
              "kiwisolver          1.4.4\n",
              "matplotlib          3.7.1\n",
              "matplotlib_inline   0.1.6\n",
              "mpl_toolkits        NA\n",
              "packaging           23.0\n",
              "pexpect             4.8.0\n",
              "pickleshare         0.7.5\n",
              "pkg_resources       NA\n",
              "platformdirs        3.2.0\n",
              "portpicker          NA\n",
              "prompt_toolkit      3.0.38\n",
              "psutil              5.9.4\n",
              "ptyprocess          0.7.0\n",
              "pydev_ipython       NA\n",
              "pydevconsole        NA\n",
              "pydevd              2.9.5\n",
              "pydevd_file_utils   NA\n",
              "pydevd_plugins      NA\n",
              "pydevd_tracing      NA\n",
              "pygments            2.14.0\n",
              "pyparsing           3.0.9\n",
              "scipy               1.10.1\n",
              "sitecustomize       NA\n",
              "six                 1.16.0\n",
              "socks               1.7.1\n",
              "sphinxcontrib       NA\n",
              "storemagic          NA\n",
              "threadpoolctl       3.1.0\n",
              "tornado             6.2\n",
              "traitlets           5.7.1\n",
              "typing_extensions   NA\n",
              "wcwidth             0.2.6\n",
              "zipp                NA\n",
              "zmq                 23.2.1\n",
              "</pre>\n",
              "</details> <!-- seems like this ends pre, so might as well be explicit -->\n",
              "<pre>\n",
              "-----\n",
              "IPython             7.34.0\n",
              "jupyter_client      6.1.12\n",
              "jupyter_core        5.3.0\n",
              "notebook            6.4.8\n",
              "-----\n",
              "Python 3.9.16 (main, Dec  7 2022, 01:11:51) [GCC 9.4.0]\n",
              "Linux-5.10.147+-x86_64-with-glibc2.31\n",
              "-----\n",
              "Session information updated at 2023-04-18 06:26\n",
              "</pre>\n",
              "</details>"
            ]
          },
          "metadata": {},
          "execution_count": 14
        }
      ]
    }
  ]
}